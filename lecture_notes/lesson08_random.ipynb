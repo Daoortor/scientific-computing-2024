{
 "cells": [
  {
   "cell_type": "markdown",
   "id": "43184932",
   "metadata": {},
   "source": [
    "## Lesson 8. Probability I\n",
    "\n",
    "[Software, Data and\n",
    "Technology](https://lp.jetbrains.com/software-data-and-technology-constructor-university/) bachelor program at [Constructor\n",
    "University](https://constructor.university) (Bremen).\n",
    "\n",
    "*Ilya Schurov, 2024*\n",
    "\n",
    "*The explanations are mostly auto-generated using Claude Sonnet-3.5 model*\n"
   ]
  },
  {
   "cell_type": "markdown",
   "id": "8da3568f",
   "metadata": {},
   "source": [
    "\n",
    "In this lesson, we'll explore basic concepts of probability using Python. We'll use the `random` module for generating random numbers and `numpy` for more advanced statistical operations."
   ]
  },
  {
   "cell_type": "code",
   "execution_count": 1,
   "id": "9c5423fd",
   "metadata": {},
   "outputs": [],
   "source": [
    "import numpy as np"
   ]
  },
  {
   "cell_type": "code",
   "execution_count": 2,
   "id": "71088567",
   "metadata": {},
   "outputs": [],
   "source": [
    "import random\n",
    "import pandas as pd"
   ]
  },
  {
   "cell_type": "markdown",
   "id": "b2e1c28b",
   "metadata": {},
   "source": [
    "### Basic (pseudo) random number generation"
   ]
  },
  {
   "cell_type": "code",
   "execution_count": 3,
   "id": "c953ac65",
   "metadata": {},
   "outputs": [
    {
     "data": {
      "text/plain": [
       "5"
      ]
     },
     "execution_count": 3,
     "metadata": {},
     "output_type": "execute_result"
    }
   ],
   "source": [
    "random.randint(1, 6)"
   ]
  },
  {
   "cell_type": "markdown",
   "id": "f5d51d84",
   "metadata": {},
   "source": [
    "The `random.randint(a, b)` function generates a random integer N such that $a \\le N \\le b$. In this case, we're generating a random integer between 1 and 6, inclusive. This simulates rolling a die.\n",
    "\n",
    "Note that each time you run this cell, you'll likely get a different result due to the random nature of the function. This is a fundamental concept in probability: randomness and unpredictability of individual outcomes."
   ]
  },
  {
   "cell_type": "code",
   "execution_count": 4,
   "id": "67d06d2c",
   "metadata": {},
   "outputs": [
    {
     "data": {
      "text/plain": [
       "1"
      ]
     },
     "execution_count": 4,
     "metadata": {},
     "output_type": "execute_result"
    }
   ],
   "source": [
    "random.randint(1, 6)"
   ]
  },
  {
   "cell_type": "markdown",
   "id": "06c397f0",
   "metadata": {},
   "source": [
    "However, in fact, these numbers are not truly random. They are generated using so-called pseudorandom number generator. The generator maintains some internal state. Each time you execute a function that uses the generator (like `random.randint` above), it generates a number using the internal state, and then change the state. Both operations are determenistic, though the result is indestinguishable from the true randomness for most of practical purposes (except of cryptography).\n",
    "\n",
    "At the same time, you can use the fact that these numbers are not truly random, to make your experiments reproducible. To this end, we have to put the pseudo-random number generator in some specific state at the beginning. That is done using `random.seed` function."
   ]
  },
  {
   "cell_type": "code",
   "execution_count": 24,
   "id": "6b428b06",
   "metadata": {},
   "outputs": [
    {
     "name": "stdout",
     "output_type": "stream",
     "text": [
      "6\n",
      "1\n",
      "1\n",
      "6\n",
      "3\n"
     ]
    }
   ],
   "source": [
    "random.seed(42)\n",
    "for i in range(5):\n",
    "    print(random.randint(1, 6))"
   ]
  },
  {
   "cell_type": "markdown",
   "id": "5010fc9a",
   "metadata": {},
   "source": [
    "Here we use `random.seed` to fix a state of random number generator at the beginning of the loop. If you run the same code twice, the results will be the same."
   ]
  },
  {
   "cell_type": "code",
   "execution_count": 25,
   "id": "0cb6077d",
   "metadata": {},
   "outputs": [
    {
     "name": "stdout",
     "output_type": "stream",
     "text": [
      "6\n",
      "1\n",
      "1\n",
      "6\n",
      "3\n"
     ]
    }
   ],
   "source": [
    "random.seed(42)\n",
    "for i in range(5):\n",
    "    print(random.randint(1, 6))"
   ]
  },
  {
   "cell_type": "markdown",
   "id": "b72a894d",
   "metadata": {},
   "source": [
    "### Generating random numbers in batch using `np.random`"
   ]
  },
  {
   "cell_type": "markdown",
   "id": "a13874fe",
   "metadata": {},
   "source": [
    "If we do efficiently generate several random numbers, we can use functions from `np.random`. Like this:"
   ]
  },
  {
   "cell_type": "code",
   "execution_count": 7,
   "id": "c079875f",
   "metadata": {},
   "outputs": [
    {
     "data": {
      "text/plain": [
       "array([5, 3, 1, 4, 1])"
      ]
     },
     "execution_count": 7,
     "metadata": {},
     "output_type": "execute_result"
    }
   ],
   "source": [
    "np.random.randint(1, 6, size=5)"
   ]
  },
  {
   "cell_type": "markdown",
   "id": "da029cad",
   "metadata": {},
   "source": [
    "Note that `random.seed` does not work with `np.random`, as it uses independent instance of random number genrator."
   ]
  },
  {
   "cell_type": "code",
   "execution_count": 8,
   "id": "ced6fb11",
   "metadata": {},
   "outputs": [
    {
     "data": {
      "text/plain": [
       "array([2, 5, 2, 4, 3])"
      ]
     },
     "execution_count": 8,
     "metadata": {},
     "output_type": "execute_result"
    }
   ],
   "source": [
    "random.seed(42)\n",
    "np.random.randint(1, 6, size=5)\n"
   ]
  },
  {
   "cell_type": "code",
   "execution_count": 9,
   "id": "c96ec1db",
   "metadata": {},
   "outputs": [
    {
     "data": {
      "text/plain": [
       "array([4, 5, 2, 3, 2])"
      ]
     },
     "execution_count": 9,
     "metadata": {},
     "output_type": "execute_result"
    }
   ],
   "source": [
    "random.seed(42)\n",
    "np.random.randint(1, 6, size=5)\n"
   ]
  },
  {
   "cell_type": "markdown",
   "id": "cb89870c",
   "metadata": {},
   "source": [
    "To fix the seed in numpy generated code, you need to use `np.random.seed` instead: "
   ]
  },
  {
   "cell_type": "code",
   "execution_count": 10,
   "id": "467f52bf",
   "metadata": {},
   "outputs": [
    {
     "data": {
      "text/plain": [
       "array([4, 5, 3, 5, 5])"
      ]
     },
     "execution_count": 10,
     "metadata": {},
     "output_type": "execute_result"
    }
   ],
   "source": [
    "np.random.seed(42)\n",
    "np.random.randint(1, 6, size=5)\n"
   ]
  },
  {
   "cell_type": "code",
   "execution_count": 11,
   "id": "d1def928",
   "metadata": {},
   "outputs": [
    {
     "data": {
      "text/plain": [
       "array([4, 5, 3, 5, 5])"
      ]
     },
     "execution_count": 11,
     "metadata": {},
     "output_type": "execute_result"
    }
   ],
   "source": [
    "np.random.seed(42)\n",
    "np.random.randint(1, 6, size=5)"
   ]
  },
  {
   "cell_type": "markdown",
   "id": "9627a8f7",
   "metadata": {},
   "source": [
    "In the following code snippet, we demonstrate the use of NumPy's `random.binomial()` function to generate random samples from a binomial distribution. The binomial distribution models the number of successes in a fixed number of independent Bernoulli trials, like a tossing of a coin.\n",
    "\n",
    "The function `np.random.binomial()` takes three main parameters:\n",
    "- `n`: The number of trials, i.e. coin-tosses (3 in this case)\n",
    "- `p`: The probability of success (i.e. getting a head from the tossing) for each trial (0.5, or 50% chance of success, corresponds to a fair coin)\n",
    "- `size`: The number of samples to generate (10,000,000 in this example)\n",
    "\n",
    "This large sample size allows us to approximate the theoretical binomial distribution closely. The resulting array `x` contains 10 million random values, each representing the number of successes (0, 1, 2, or 3) in 3 trials with a 50% success rate per trial."
   ]
  },
  {
   "cell_type": "code",
   "execution_count": 12,
   "id": "75f3a906",
   "metadata": {},
   "outputs": [],
   "source": [
    "x = np.random.binomial(n=3, p=0.5, size=(10000000))"
   ]
  },
  {
   "cell_type": "markdown",
   "id": "8797a9b0",
   "metadata": {},
   "source": [
    "We can analyze the distribution of our generated samples using pandas:"
   ]
  },
  {
   "cell_type": "code",
   "execution_count": 13,
   "id": "9ec62791",
   "metadata": {},
   "outputs": [
    {
     "data": {
      "text/plain": [
       "0    0.125062\n",
       "1    0.374914\n",
       "2    0.375123\n",
       "3    0.124901\n",
       "Name: proportion, dtype: float64"
      ]
     },
     "execution_count": 13,
     "metadata": {},
     "output_type": "execute_result"
    }
   ],
   "source": [
    "pd.Series(x).value_counts(normalize=True).sort_index()"
   ]
  },
  {
   "cell_type": "markdown",
   "id": "b7def0c3",
   "metadata": {},
   "source": [
    "The output above displays the proportion of each outcome (0, 1, 2, or 3 successes) in our sample. This is achieved using `value_counts()` with `normalize=True` to calculate proportions instead of counts. The `sort_index()` method ensures the results are sorted by the number of successes.\n",
    "\n",
    "These proportions closely match the theoretical probabilities of a binomial distribution with n=3 and p=0.5:"
   ]
  },
  {
   "cell_type": "code",
   "execution_count": 14,
   "id": "c296c366",
   "metadata": {},
   "outputs": [
    {
     "data": {
      "text/plain": [
       "0.125"
      ]
     },
     "execution_count": 14,
     "metadata": {},
     "output_type": "execute_result"
    }
   ],
   "source": [
    "1 / 8"
   ]
  },
  {
   "cell_type": "code",
   "execution_count": 15,
   "id": "7c73a93d",
   "metadata": {},
   "outputs": [
    {
     "data": {
      "text/plain": [
       "0.375"
      ]
     },
     "execution_count": 15,
     "metadata": {},
     "output_type": "execute_result"
    }
   ],
   "source": [
    "3 / 8"
   ]
  },
  {
   "cell_type": "markdown",
   "id": "705aedb3",
   "metadata": {},
   "source": [
    "### Visualizing probability distributions"
   ]
  },
  {
   "cell_type": "markdown",
   "id": "81b61ced",
   "metadata": {},
   "source": [
    "Now we explore different probability distributions and their visualizations."
   ]
  },
  {
   "cell_type": "code",
   "execution_count": 16,
   "id": "0a3c6090",
   "metadata": {},
   "outputs": [],
   "source": [
    "sample = np.random.uniform(0, 2, size=10000000)"
   ]
  },
  {
   "cell_type": "markdown",
   "id": "bca27c1b",
   "metadata": {},
   "source": [
    "We generate a uniform distribution sample using `np.random.uniform()`. This function creates 10 million random numbers between 0 and 2. The large sample size ensures a robust representation of the uniform distribution, which we'll use for comparison with other distributions."
   ]
  },
  {
   "cell_type": "code",
   "execution_count": 17,
   "id": "5f0c0fdd",
   "metadata": {},
   "outputs": [],
   "source": [
    "import matplotlib.pyplot as plt"
   ]
  },
  {
   "cell_type": "code",
   "execution_count": 18,
   "id": "5d992de7",
   "metadata": {},
   "outputs": [
    {
     "data": {
      "text/plain": [
       "(array([0.49882017, 0.50003517, 0.49667017, 0.49935017, 0.49978017,\n",
       "        0.50082017, 0.49878017, 0.49867017, 0.49946017, 0.49910517,\n",
       "        0.50115517, 0.49786017, 0.49961517, 0.49978017, 0.49933517,\n",
       "        0.49811517, 0.49936017, 0.49794517, 0.49874517, 0.50097017,\n",
       "        0.49941517, 0.50216017, 0.50131517, 0.49971517, 0.49847517,\n",
       "        0.49966517, 0.50020017, 0.50347017, 0.50198017, 0.49968517,\n",
       "        0.49970017, 0.50082017, 0.49937517, 0.49891017, 0.49860517,\n",
       "        0.50168017, 0.49917517, 0.50022017, 0.50039017, 0.49901017,\n",
       "        0.49765517, 0.50254017, 0.49644517, 0.50078017, 0.50095017,\n",
       "        0.49880517, 0.50130017, 0.49917017, 0.50011017, 0.50009017,\n",
       "        0.50328517, 0.50270517, 0.49952517, 0.49925517, 0.50039517,\n",
       "        0.49916017, 0.50272017, 0.50073517, 0.49939017, 0.49939517,\n",
       "        0.50128017, 0.50197517, 0.49896517, 0.50224517, 0.49872517,\n",
       "        0.50157517, 0.50144517, 0.50226017, 0.50099017, 0.49977017,\n",
       "        0.49911017, 0.49855517, 0.50007517, 0.49755517, 0.50070017,\n",
       "        0.50104017, 0.49980017, 0.50198017, 0.50036517, 0.49976517,\n",
       "        0.49904517, 0.50134517, 0.49932517, 0.49687017, 0.50181017,\n",
       "        0.49913017, 0.50069017, 0.50209517, 0.49791017, 0.49883517,\n",
       "        0.50169517, 0.50012517, 0.50226017, 0.50036517, 0.50306517,\n",
       "        0.49896017, 0.49691017, 0.49712517, 0.49961517, 0.50190517]),\n",
       " array([3.98696758e-07, 2.00003920e-02, 4.00003854e-02, 6.00003787e-02,\n",
       "        8.00003721e-02, 1.00000365e-01, 1.20000359e-01, 1.40000352e-01,\n",
       "        1.60000345e-01, 1.80000339e-01, 2.00000332e-01, 2.20000325e-01,\n",
       "        2.40000319e-01, 2.60000312e-01, 2.80000305e-01, 3.00000299e-01,\n",
       "        3.20000292e-01, 3.40000286e-01, 3.60000279e-01, 3.80000272e-01,\n",
       "        4.00000266e-01, 4.20000259e-01, 4.40000252e-01, 4.60000246e-01,\n",
       "        4.80000239e-01, 5.00000232e-01, 5.20000226e-01, 5.40000219e-01,\n",
       "        5.60000212e-01, 5.80000206e-01, 6.00000199e-01, 6.20000192e-01,\n",
       "        6.40000186e-01, 6.60000179e-01, 6.80000172e-01, 7.00000166e-01,\n",
       "        7.20000159e-01, 7.40000152e-01, 7.60000146e-01, 7.80000139e-01,\n",
       "        8.00000132e-01, 8.20000126e-01, 8.40000119e-01, 8.60000112e-01,\n",
       "        8.80000106e-01, 9.00000099e-01, 9.20000092e-01, 9.40000086e-01,\n",
       "        9.60000079e-01, 9.80000072e-01, 1.00000007e+00, 1.02000006e+00,\n",
       "        1.04000005e+00, 1.06000005e+00, 1.08000004e+00, 1.10000003e+00,\n",
       "        1.12000003e+00, 1.14000002e+00, 1.16000001e+00, 1.18000001e+00,\n",
       "        1.20000000e+00, 1.21999999e+00, 1.23999999e+00, 1.25999998e+00,\n",
       "        1.27999997e+00, 1.29999997e+00, 1.31999996e+00, 1.33999995e+00,\n",
       "        1.35999995e+00, 1.37999994e+00, 1.39999993e+00, 1.41999993e+00,\n",
       "        1.43999992e+00, 1.45999991e+00, 1.47999991e+00, 1.49999990e+00,\n",
       "        1.51999989e+00, 1.53999989e+00, 1.55999988e+00, 1.57999987e+00,\n",
       "        1.59999987e+00, 1.61999986e+00, 1.63999985e+00, 1.65999985e+00,\n",
       "        1.67999984e+00, 1.69999983e+00, 1.71999983e+00, 1.73999982e+00,\n",
       "        1.75999981e+00, 1.77999981e+00, 1.79999980e+00, 1.81999979e+00,\n",
       "        1.83999979e+00, 1.85999978e+00, 1.87999977e+00, 1.89999977e+00,\n",
       "        1.91999976e+00, 1.93999975e+00, 1.95999975e+00, 1.97999974e+00,\n",
       "        1.99999973e+00]),\n",
       " <BarContainer object of 100 artists>)"
      ]
     },
     "execution_count": 18,
     "metadata": {},
     "output_type": "execute_result"
    },
    {
     "data": {
      "image/png": "[encoded data removed]",
      "text/plain": [
       "<Figure size 640x480 with 1 Axes>"
      ]
     },
     "metadata": {},
     "output_type": "display_data"
    }
   ],
   "source": [
    "plt.hist(sample, density=True, bins=100)"
   ]
  },
  {
   "cell_type": "markdown",
   "id": "420a82cf",
   "metadata": {},
   "source": [
    "This histogram visualizes the uniform distribution we created earlier. The roughly equal height of bars across the entire range is characteristic of a uniform distribution, where all values within the range have an equal probability of occurrence."
   ]
  },
  {
   "cell_type": "code",
   "execution_count": 19,
   "id": "d46dc250",
   "metadata": {},
   "outputs": [
    {
     "data": {
      "text/plain": [
       "[<matplotlib.lines.Line2D at 0x131d8cbd0>]"
      ]
     },
     "execution_count": 19,
     "metadata": {},
     "output_type": "execute_result"
    },
    {
     "data": {
      "image/png": "[encoded data removed]",
      "text/plain": [
       "<Figure size 640x480 with 1 Axes>"
      ]
     },
     "metadata": {},
     "output_type": "display_data"
    }
   ],
   "source": [
    "sample = np.random.normal(0, 1, size=10000000)\n",
    "plt.hist(sample, density=True, bins=2000)\n",
    "x = np.linspace(min(sample), max(sample), 301)\n",
    "plt.plot(x, 1 / np.sqrt(2 * np.pi) * np.exp(-x ** 2 / 2))"
   ]
  },
  {
   "cell_type": "markdown",
   "id": "c87ba40a",
   "metadata": {},
   "source": [
    "Here, we generate a sample from a standard normal (Gaussian) distribution using `np.random.normal()`. The histogram displays the distribution of this large sample (10 million points). We overlay the theoretical probability density function of the standard normal distribution, given by the formula `1 / np.sqrt(2 * np.pi) * np.exp(-x ** 2 / 2)`. This creates the familiar bell-shaped curve.\n",
    "\n",
    "The close match between the histogram and the theoretical curve demonstrates the power of the law of large numbers: as our sample size increases, the empirical distribution converges to the theoretical one. The smoothness of the histogram, due to the large number of bins (2000), allows for a detailed visualization of this convergence."
   ]
  },
  {
   "cell_type": "markdown",
   "id": "944f9adb",
   "metadata": {},
   "source": [
    "### Using `scipy.stats` for probability distributions\n",
    "\n",
    "Another way to work with random numbers of different distributions is to use `scipy.stats`. It allows you not only generate random numbers, but also obtain an access to their various features, like probability density function, cumulalative distribution function, expected values, etc."
   ]
  },
  {
   "cell_type": "code",
   "execution_count": 20,
   "id": "c9aebd42",
   "metadata": {},
   "outputs": [],
   "source": [
    "import scipy\n",
    "import scipy.stats"
   ]
  },
  {
   "cell_type": "code",
   "execution_count": 21,
   "id": "eb845e2c",
   "metadata": {},
   "outputs": [],
   "source": [
    "standard_normal_random_variable = scipy.stats.norm(0, 1)"
   ]
  },
  {
   "cell_type": "markdown",
   "id": "a71cc56e",
   "metadata": {},
   "source": [
    "Here, we create a standard normal random variable using `scipy.stats.norm(0, 1)`. The output array shows 10 random samples drawn from this distribution, demonstrating values typically between -2 and 2."
   ]
  },
  {
   "cell_type": "code",
   "execution_count": 22,
   "id": "e26cc220",
   "metadata": {},
   "outputs": [
    {
     "data": {
      "text/plain": [
       "[<matplotlib.lines.Line2D at 0x135f43f90>]"
      ]
     },
     "execution_count": 22,
     "metadata": {},
     "output_type": "execute_result"
    },
    {
     "data": {
      "image/png": "[encoded data removed]",
      "text/plain": [
       "<Figure size 640x480 with 1 Axes>"
      ]
     },
     "metadata": {},
     "output_type": "display_data"
    }
   ],
   "source": [
    "sample = standard_normal_random_variable.rvs(1000000)\n",
    "plt.hist(sample, density=True, bins=2000)\n",
    "x = np.linspace(min(sample), max(sample), 301)\n",
    "plt.plot(x, standard_normal_random_variable.pdf(x))"
   ]
  },
  {
   "cell_type": "markdown",
   "id": "1dfc010b",
   "metadata": {},
   "source": [
    "This code generates a large sample from the standard normal distribution and visualizes it. The `rvs` method draws 1,000,000 random samples, creating a robust dataset. `plt.hist()` creates a histogram with 2000 bins, providing a detailed view of the distribution. The `density=True` parameter normalizes the histogram, making it comparable to the probability density function (PDF). \n",
    "\n",
    "The theoretical PDF is then plotted over the histogram using `plt.plot()`. The `np.linspace()` function creates 301 evenly spaced points between the minimum and maximum sample values, providing a smooth curve for the PDF. This overlay allows for a visual comparison between the sampled data and the theoretical distribution, illustrating how closely a large sample approximates the true standard normal distribution."
   ]
  },
  {
   "cell_type": "code",
   "execution_count": 23,
   "id": "0ea48cbf",
   "metadata": {},
   "outputs": [
    {
     "data": {
      "text/plain": [
       "[<matplotlib.lines.Line2D at 0x13691cbd0>]"
      ]
     },
     "execution_count": 23,
     "metadata": {},
     "output_type": "execute_result"
    },
    {
     "data": {
      "image/png": "[encoded data removed]",
      "text/plain": [
       "<Figure size 640x480 with 1 Axes>"
      ]
     },
     "metadata": {},
     "output_type": "display_data"
    }
   ],
   "source": [
    "uniform_random_variable = scipy.stats.uniform(0, 2)\n",
    "sample = uniform_random_variable.rvs(1000000)\n",
    "plt.hist(sample, density=True, bins=200)\n",
    "x = np.linspace(min(sample), max(sample), 301)\n",
    "plt.plot(x, uniform_random_variable.pdf(x))"
   ]
  },
  {
   "cell_type": "markdown",
   "id": "e38661d8",
   "metadata": {
    "lines_to_next_cell": 2
   },
   "source": [
    "In this example, we create a uniform random variable using `scipy.stats.uniform(0, 2)`, which generates values uniformly distributed between 0 and 2. Similar to the previous example, we draw 1000,000 samples and create a histogram. The theoretical PDF of the uniform distribution is then overlaid on the histogram. \n",
    "\n",
    "The uniform distribution's PDF is a constant value within its range, which should be evident in the resulting plot as a flat line over the histogram. This visualization helps to contrast the uniform distribution with the bell-shaped normal distribution seen earlier, highlighting the differences in probability distributions.\n",
    "\n",
    "That's all for today!"
   ]
  }
 ],
 "metadata": {
  "jupytext": {
   "cell_metadata_filter": "-all",
   "main_language": "python",
   "notebook_metadata_filter": "-all"
  },
  "kernelspec": {
   "display_name": "scientific-computing-2024-lesson01",
   "language": "python",
   "name": "python3"
  },
  "language_info": {
   "codemirror_mode": {
    "name": "ipython",
    "version": 3
   },
   "file_extension": ".py",
   "mimetype": "text/x-python",
   "name": "python",
   "nbconvert_exporter": "python",
   "pygments_lexer": "ipython3",
   "version": "3.11.9"
  }
 },
 "nbformat": 4,
 "nbformat_minor": 5
}
