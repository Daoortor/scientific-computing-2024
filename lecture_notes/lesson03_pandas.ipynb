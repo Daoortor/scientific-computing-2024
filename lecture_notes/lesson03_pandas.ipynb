{
 "cells": [
  {
   "cell_type": "markdown",
   "id": "981dd65a",
   "metadata": {},
   "source": [
    "## Lesson 3. Pandas\n",
    "[Software, Data and\n",
    "Technology](https://lp.jetbrains.com/software-data-and-technology-constructor-university/) bachelor program at [Constructor\n",
    "University](https://constructor.university) (Bremen).\n",
    "\n",
    "*Ilya Schurov, 2024*\n",
    "\n",
    "*The explanations are mostly auto-generated using Claude Sonnet-3.5 model*\n",
    "\n",
    "### Basics of pandas\n",
    "In this lesson, we'll explore Pandas, a powerful library for data manipulation and analysis in Python."
   ]
  },
  {
   "cell_type": "code",
   "execution_count": 1,
   "id": "f1e5d12c",
   "metadata": {},
   "outputs": [],
   "source": [
    "import pandas as pd\n",
    "import numpy as np"
   ]
  },
  {
   "cell_type": "markdown",
   "id": "a6c14dfd",
   "metadata": {},
   "source": [
    "We start by creating a Pandas Series, which is a one-dimensional labeled array. The `pd.Series()` function takes a list of values and an optional `index` parameter to specify custom labels. In this case, we create a Series with three values and assign them custom string labels 'a', 'b', and 'c'."
   ]
  },
  {
   "cell_type": "code",
   "execution_count": 2,
   "id": "881d5375",
   "metadata": {},
   "outputs": [],
   "source": [
    "ser = pd.Series([0, 10, 20], index=[\"a\", \"b\", \"c\"])"
   ]
  },
  {
   "cell_type": "markdown",
   "id": "003f1f3b",
   "metadata": {},
   "source": [
    "Pandas Series support vectorized operations, which means we can perform operations on the entire Series at once without using explicit loops. This feature makes data manipulation efficient and concise. In the following example, we multiply each element of the Series by 2:"
   ]
  },
  {
   "cell_type": "code",
   "execution_count": 3,
   "id": "ff373c73",
   "metadata": {},
   "outputs": [
    {
     "data": {
      "text/plain": [
       "a     0\n",
       "b    20\n",
       "c    40\n",
       "dtype: int64"
      ]
     },
     "execution_count": 3,
     "metadata": {},
     "output_type": "execute_result"
    }
   ],
   "source": [
    "ser * 2"
   ]
  },
  {
   "cell_type": "markdown",
   "id": "499c8cec",
   "metadata": {},
   "source": [
    "The result is a new Series with the same index as the original, but with each value doubled. Notice how the operation is applied element-wise without the need for explicit iteration. The `dtype` of the resulting Series is `int64`, which indicates 64-bit integer values. Pandas automatically preserves the index during operations, maintaining the relationship between labels and values."
   ]
  },
  {
   "cell_type": "markdown",
   "id": "1eb38e5d",
   "metadata": {},
   "source": [
    "pandas Series offer flexible indexing options. Let's explore label-based and position-based indexing:"
   ]
  },
  {
   "cell_type": "code",
   "execution_count": 4,
   "id": "0b6f4ffe",
   "metadata": {},
   "outputs": [
    {
     "data": {
      "text/plain": [
       "10"
      ]
     },
     "execution_count": 4,
     "metadata": {},
     "output_type": "execute_result"
    }
   ],
   "source": [
    "ser[\"b\"]"
   ]
  },
  {
   "cell_type": "markdown",
   "id": "28c7df1f",
   "metadata": {},
   "source": [
    "In this example, we use label-based indexing to access the value associated with the label 'b'. This is particularly useful when working with non-numeric indices."
   ]
  },
  {
   "cell_type": "markdown",
   "id": "a4bd602d",
   "metadata": {},
   "source": [
    "Series can also be created directly from a dictionary, where keys become the index and values become the Series values:"
   ]
  },
  {
   "cell_type": "code",
   "execution_count": 5,
   "id": "e747a497",
   "metadata": {},
   "outputs": [
    {
     "data": {
      "text/plain": [
       "a     0\n",
       "b    10\n",
       "dtype: int64"
      ]
     },
     "execution_count": 5,
     "metadata": {},
     "output_type": "execute_result"
    }
   ],
   "source": [
    "pd.Series({\"a\": 0, \"b\": 10})"
   ]
  },
  {
   "cell_type": "markdown",
   "id": "8809bf81",
   "metadata": {},
   "source": [
    "This creates a pandas Series from a dictionary. The keys of the dictionary become the index of the Series, while the values become the data. The `dtype: int64` indicates that the data type of the Series is 64-bit integer."
   ]
  },
  {
   "cell_type": "markdown",
   "id": "666a4c61",
   "metadata": {},
   "source": [
    "For positional indexing, pandas provides the `iloc` accessor. This is useful when you need to access elements by their integer position:"
   ]
  },
  {
   "cell_type": "code",
   "execution_count": 6,
   "id": "85f83a46",
   "metadata": {},
   "outputs": [
    {
     "data": {
      "text/plain": [
       "10"
      ]
     },
     "execution_count": 6,
     "metadata": {},
     "output_type": "execute_result"
    }
   ],
   "source": [
    "ser.iloc[1]"
   ]
  },
  {
   "cell_type": "markdown",
   "id": "712ac698",
   "metadata": {},
   "source": [
    "Here, `ser.iloc[1]` retrieves the second element (index 1) of the Series. Remember, Python uses zero-based indexing, so `iloc[1]` refers to the second element."
   ]
  },
  {
   "cell_type": "markdown",
   "id": "cea1d3cf",
   "metadata": {},
   "source": [
    "Now, let's create two Series objects representing students' grades:"
   ]
  },
  {
   "cell_type": "code",
   "execution_count": 7,
   "id": "2294ec29",
   "metadata": {},
   "outputs": [],
   "source": [
    "alice = pd.Series({\"Algebra\": 5, \"Geometry\": 3, \"Music\": 4})\n",
    "bob = pd.Series({\"Algebra\": 4, \"Music\": 3, \"History\": 4})"
   ]
  },
  {
   "cell_type": "markdown",
   "id": "316a7c82",
   "metadata": {},
   "source": [
    "These Series objects, `alice` and `bob`, represent their respective grades in different subjects. The keys are subject names, and the values are the corresponding grades. Notice that Alice and Bob have some overlapping subjects (Algebra and Music) and some unique subjects (Geometry for Alice, History for Bob). This setup is useful for demonstrating operations on Series with different indexes."
   ]
  },
  {
   "cell_type": "markdown",
   "id": "19540453",
   "metadata": {},
   "source": [
    "We can check the data type of the Series using the `dtype` attribute:"
   ]
  },
  {
   "cell_type": "code",
   "execution_count": 8,
   "id": "a1d3f4a7",
   "metadata": {},
   "outputs": [
    {
     "data": {
      "text/plain": [
       "dtype('int64')"
      ]
     },
     "execution_count": 8,
     "metadata": {},
     "output_type": "execute_result"
    }
   ],
   "source": [
    "alice.dtype"
   ]
  },
  {
   "cell_type": "markdown",
   "id": "78da1101",
   "metadata": {},
   "source": [
    "The `dtype` of `int64` indicates that the values in the Series are 64-bit integers. This is important to know when performing operations or analysis on the data, as certain functions may require specific data types."
   ]
  },
  {
   "cell_type": "code",
   "execution_count": 9,
   "id": "50ca3e3b",
   "metadata": {},
   "outputs": [],
   "source": [
    "grade = alice + bob"
   ]
  },
  {
   "cell_type": "markdown",
   "id": "ebf797c9",
   "metadata": {},
   "source": [
    "We examine the result of adding two Series objects, `alice` and `bob`. Pandas aligns data based on the index (subject names) during operations. For subjects in both Series, grades are added. Subjects in only one Series result in NaN (Not a Number) due to missing values."
   ]
  },
  {
   "cell_type": "code",
   "execution_count": 10,
   "id": "212839be",
   "metadata": {},
   "outputs": [
    {
     "data": {
      "text/plain": [
       "dtype('float64')"
      ]
     },
     "execution_count": 10,
     "metadata": {},
     "output_type": "execute_result"
    }
   ],
   "source": [
    "grade.dtype"
   ]
  },
  {
   "cell_type": "markdown",
   "id": "263d1555",
   "metadata": {},
   "source": [
    "The `dtype` of the resulting `grade` Series is `float64`, despite starting with `int64` Series. Pandas promotes the data type to handle potential NaN values from the addition. The `float64` type represents whole numbers, decimals, and special values like NaN."
   ]
  },
  {
   "cell_type": "code",
   "execution_count": 11,
   "id": "7a6119eb",
   "metadata": {},
   "outputs": [
    {
     "data": {
      "text/plain": [
       "Algebra     9.0\n",
       "Geometry    NaN\n",
       "History     NaN\n",
       "Music       7.0\n",
       "dtype: float64"
      ]
     },
     "execution_count": 11,
     "metadata": {},
     "output_type": "execute_result"
    }
   ],
   "source": [
    "grade"
   ]
  },
  {
   "cell_type": "markdown",
   "id": "1f7bc3f1",
   "metadata": {},
   "source": [
    "The `grade` Series displays the result of combining `alice` and `bob`. 'Algebra' and 'Music' show the sum of their grades, while 'Geometry' and 'History' show NaN (Not a Number) as they were present in only one of the original Series. This demonstrates how pandas handles missing data during operations, preserving all index labels and using NaN for absent values."
   ]
  },
  {
   "cell_type": "code",
   "execution_count": 12,
   "id": "47a50141",
   "metadata": {},
   "outputs": [
    {
     "data": {
      "text/plain": [
       "nan"
      ]
     },
     "execution_count": 12,
     "metadata": {},
     "output_type": "execute_result"
    }
   ],
   "source": [
    "grade[\"Geometry\"]"
   ]
  },
  {
   "cell_type": "code",
   "execution_count": 13,
   "id": "3ad934a8",
   "metadata": {},
   "outputs": [
    {
     "data": {
      "text/plain": [
       "nan"
      ]
     },
     "execution_count": 13,
     "metadata": {},
     "output_type": "execute_result"
    }
   ],
   "source": [
    "float(\"NaN\")"
   ]
  },
  {
   "cell_type": "markdown",
   "id": "3d4cd2a1",
   "metadata": {},
   "source": [
    "In pandas, `NaN` (Not a Number) is used to represent missing or undefined values. It's important to note that `NaN` values behave differently from other numeric values and require special handling."
   ]
  },
  {
   "cell_type": "code",
   "execution_count": 14,
   "id": "b250afd3",
   "metadata": {},
   "outputs": [
    {
     "name": "stdout",
     "output_type": "stream",
     "text": [
      "????!!!\n"
     ]
    }
   ],
   "source": [
    "if grade[\"Geometry\"] == float(\"NaN\"):\n",
    "    print(\"It's a NaN\")\n",
    "else:\n",
    "    print(\"????!!!\")"
   ]
  },
  {
   "cell_type": "markdown",
   "id": "26fca445",
   "metadata": {},
   "source": [
    "The output above might be surprising. Despite both `grade['Geometry']` and `float(\"NaN\")` appearing to be `NaN`, the comparison returns `False`. This is because `NaN` is not equal to itself in floating-point arithmetic, a behavior inherited from the IEEE 754 standard."
   ]
  },
  {
   "cell_type": "code",
   "execution_count": 15,
   "id": "9ee52500",
   "metadata": {},
   "outputs": [
    {
     "name": "stdout",
     "output_type": "stream",
     "text": [
      "????!!!\n"
     ]
    }
   ],
   "source": [
    "if float(\"NaN\") == float(\"NaN\"):\n",
    "    print(\"It's a NaN\")\n",
    "else:\n",
    "    print(\"????!!!\")"
   ]
  },
  {
   "cell_type": "markdown",
   "id": "1c874d43",
   "metadata": {},
   "source": [
    "Okay, so checking equality does not work. Then, how we can determine whether some value is NaN? There exists special functions for that."
   ]
  },
  {
   "cell_type": "code",
   "execution_count": 16,
   "id": "01d29c1f",
   "metadata": {},
   "outputs": [
    {
     "name": "stdout",
     "output_type": "stream",
     "text": [
      "Yes\n"
     ]
    }
   ],
   "source": [
    "if pd.isna(float(\"NaN\")):\n",
    "    print(\"Yes\")"
   ]
  },
  {
   "cell_type": "markdown",
   "id": "02274741",
   "metadata": {},
   "source": [
    "The `pd.isna()` function is a reliable tool for identifying `NaN` (Not a Number) values in pandas. It returns `True` for `NaN`, which is particularly useful because `NaN` values behave unusually in comparisons - they're considered unequal to everything, including themselves."
   ]
  },
  {
   "cell_type": "code",
   "execution_count": 17,
   "id": "c6673a68",
   "metadata": {},
   "outputs": [
    {
     "data": {
      "text/plain": [
       "True"
      ]
     },
     "execution_count": 17,
     "metadata": {},
     "output_type": "execute_result"
    }
   ],
   "source": [
    "pd.isna(None)"
   ]
  },
  {
   "cell_type": "markdown",
   "id": "d284393a",
   "metadata": {},
   "source": [
    "Interestingly, `pd.isna()` also returns `True` for `None` values. This is because pandas treats both `NaN` and `None` as representations of missing data, providing a consistent approach to handling missing values across different data types. This behavior is especially helpful when working with datasets that might use various ways to denote missing information."
   ]
  },
  {
   "cell_type": "markdown",
   "id": "3e5c7684",
   "metadata": {},
   "source": [
    "It's worth comparing `pd.isna()` with NumPy's `np.isnan()` function to understand their differences:"
   ]
  },
  {
   "cell_type": "code",
   "execution_count": 18,
   "id": "f1a7745c",
   "metadata": {},
   "outputs": [
    {
     "data": {
      "text/plain": [
       "True"
      ]
     },
     "execution_count": 18,
     "metadata": {},
     "output_type": "execute_result"
    }
   ],
   "source": [
    "np.isnan(float(\"NaN\"))"
   ]
  },
  {
   "cell_type": "code",
   "execution_count": 19,
   "id": "60d4a60c",
   "metadata": {},
   "outputs": [
    {
     "ename": "TypeError",
     "evalue": "ufunc 'isnan' not supported for the input types, and the inputs could not be safely coerced to any supported types according to the casting rule ''safe''",
     "output_type": "error",
     "traceback": [
      "\u001b[0;31m---------------------------------------------------------------------------\u001b[0m",
      "\u001b[0;31mTypeError\u001b[0m                                 Traceback (most recent call last)",
      "Cell \u001b[0;32mIn[19], line 1\u001b[0m\n\u001b[0;32m----> 1\u001b[0m np\u001b[38;5;241m.\u001b[39misnan(\u001b[38;5;28;01mNone\u001b[39;00m)\n",
      "\u001b[0;31mTypeError\u001b[0m: ufunc 'isnan' not supported for the input types, and the inputs could not be safely coerced to any supported types according to the casting rule ''safe''"
     ]
    }
   ],
   "source": [
    "np.isnan(None)"
   ]
  },
  {
   "cell_type": "markdown",
   "id": "737092d4",
   "metadata": {},
   "source": [
    "This error demonstrates a limitation of NumPy's `isnan()` function when dealing with `None` values. NumPy's `isnan()` is designed primarily for numerical data and doesn't handle `None` values, which are often used to represent missing data in Python. This is where pandas' `isna()` function shows its versatility, as it can handle both `NaN` and `None` values seamlessly."
   ]
  },
  {
   "cell_type": "markdown",
   "id": "55c55538",
   "metadata": {},
   "source": [
    "Let's examine a pandas Series object named `alice`:"
   ]
  },
  {
   "cell_type": "code",
   "execution_count": 20,
   "id": "f4eda68d",
   "metadata": {},
   "outputs": [
    {
     "data": {
      "text/plain": [
       "Algebra     5\n",
       "Geometry    3\n",
       "Music       4\n",
       "dtype: int64"
      ]
     },
     "execution_count": 20,
     "metadata": {},
     "output_type": "execute_result"
    }
   ],
   "source": [
    "alice"
   ]
  },
  {
   "cell_type": "markdown",
   "id": "360f62a4",
   "metadata": {},
   "source": [
    "The `alice` Series represents a student's grades across different subjects. In this structure, the subject names (Algebra, Geometry, Music) serve as the index labels, while the corresponding integers are the grade values. The `dtype: int64` indicates that the values are stored as 64-bit integers."
   ]
  },
  {
   "cell_type": "markdown",
   "id": "b8d52619",
   "metadata": {},
   "source": [
    "We can access specific elements of the Series using various indexing methods:"
   ]
  },
  {
   "cell_type": "code",
   "execution_count": 21,
   "id": "14117bd8",
   "metadata": {},
   "outputs": [
    {
     "data": {
      "text/plain": [
       "Algebra     5\n",
       "Geometry    3\n",
       "dtype: int64"
      ]
     },
     "execution_count": 21,
     "metadata": {},
     "output_type": "execute_result"
    }
   ],
   "source": [
    "alice[\"Algebra\":\"Geometry\"]"
   ]
  },
  {
   "cell_type": "markdown",
   "id": "f9966818",
   "metadata": {},
   "source": [
    "This demonstrates label-based indexing in pandas Series. We select a range of elements from 'Algebra' to 'Geometry', inclusive of both end points. This is different from Python's typical slicing behavior and is a feature specific to pandas."
   ]
  },
  {
   "cell_type": "code",
   "execution_count": 23,
   "id": "ca322455",
   "metadata": {},
   "outputs": [
    {
     "data": {
      "text/plain": [
       "Algebra    5\n",
       "dtype: int64"
      ]
     },
     "execution_count": 23,
     "metadata": {},
     "output_type": "execute_result"
    }
   ],
   "source": [
    "alice[0:1]"
   ]
  },
  {
   "cell_type": "markdown",
   "id": "96e2d819",
   "metadata": {},
   "source": [
    "When use positional indexing, the usual convention \"last index is not included\" is respected."
   ]
  },
  {
   "cell_type": "markdown",
   "id": "da060cc9",
   "metadata": {},
   "source": [
    "The `values` attribute of a pandas Series provides access to the underlying NumPy array. This can be useful for operations that are more efficient with NumPy or when interfacing with libraries that expect NumPy arrays."
   ]
  },
  {
   "cell_type": "code",
   "execution_count": 24,
   "id": "f4131ca3",
   "metadata": {},
   "outputs": [
    {
     "data": {
      "text/plain": [
       "array([5, 3, 4])"
      ]
     },
     "execution_count": 24,
     "metadata": {},
     "output_type": "execute_result"
    }
   ],
   "source": [
    "alice.values"
   ]
  },
  {
   "cell_type": "markdown",
   "id": "1c7b1f92",
   "metadata": {},
   "source": [
    "By accessing `alice.values`, we retrieve the Series data as a NumPy array. This representation loses the index information but can be advantageous for certain numerical operations or when working with libraries that primarily use NumPy arrays."
   ]
  },
  {
   "cell_type": "code",
   "execution_count": 76,
   "id": "64221124",
   "metadata": {},
   "outputs": [],
   "source": [
    "df = pd.DataFrame(\n",
    "    [[\"Alice\", 1, 2, 3], [\"Bob\", 4, 5, 6], [\"Claudia\", 2, 3, 4]],\n",
    "    columns=[\"Name\", \"Algebra\", \"Geometry\", \"Calculus\"],\n",
    ")"
   ]
  },
  {
   "cell_type": "markdown",
   "id": "4e635228",
   "metadata": {},
   "source": [
    "Here, we create a pandas DataFrame named `df`. The DataFrame is initialized with a list of lists, where each inner list represents a row of data. The `columns` parameter specifies the column names for the DataFrame. This structure allows us to represent tabular data with multiple columns, including both string and numeric data types."
   ]
  },
  {
   "cell_type": "code",
   "execution_count": 77,
   "id": "7d7257e8",
   "metadata": {},
   "outputs": [
    {
     "data": {
      "text/plain": [
       "Name        object\n",
       "Algebra      int64\n",
       "Geometry     int64\n",
       "Calculus     int64\n",
       "dtype: object"
      ]
     },
     "execution_count": 77,
     "metadata": {},
     "output_type": "execute_result"
    }
   ],
   "source": [
    "df.dtypes"
   ]
  },
  {
   "cell_type": "markdown",
   "id": "92cb5626",
   "metadata": {},
   "source": [
    "The `dtypes` attribute of a DataFrame shows the data type of each column. Here, we see that the `Name` column is of type `object`, which is used for strings in pandas. The other columns (`Algebra`, `Geometry`, and `Calculus`) are of type `int64`, representing 64-bit integers. Understanding the data types is crucial for performing operations and ensuring data consistency in your analysis.\n",
    "\n",
    "Why we use `object` instead of a proper string dtype in pandas? Let's investigate how numpy treats arrays with string dtypes."
   ]
  },
  {
   "cell_type": "code",
   "execution_count": 78,
   "id": "21052ee4",
   "metadata": {},
   "outputs": [],
   "source": [
    "x = np.array([\"a\", \"b\"])"
   ]
  },
  {
   "cell_type": "code",
   "execution_count": 79,
   "id": "f1606179",
   "metadata": {},
   "outputs": [],
   "source": [
    "x[0] = \"hello, world\""
   ]
  },
  {
   "cell_type": "markdown",
   "id": "9fb8a0df",
   "metadata": {},
   "source": [
    "Here, we attempt to assign a longer string to the first element of the NumPy array `x`. However, NumPy arrays have fixed-size elements, determined by the longest string at creation time. (Otherwise, it is impossible to make they so efficient.) If `x` was created with single-character strings, it can only store single characters."
   ]
  },
  {
   "cell_type": "code",
   "execution_count": 80,
   "id": "87d0f293",
   "metadata": {},
   "outputs": [
    {
     "data": {
      "text/plain": [
       "array(['h', 'b'], dtype='<U1')"
      ]
     },
     "execution_count": 80,
     "metadata": {},
     "output_type": "execute_result"
    }
   ],
   "source": [
    "x"
   ]
  },
  {
   "cell_type": "markdown",
   "id": "2cd4b545",
   "metadata": {},
   "source": [
    "The output of `x` will show that only the first character `'h'` of `'hello, world'` was stored. This behavior highlights the limitations of NumPy arrays when working with variable-length string data. If we want to store variable-length strings (or other variable-length types of data) in an array, the only option is to store there not the data itself, but pointers to the corresponding objects that store the data. That's what pandas does by default with string text columns. That's why it uses `object` dtype for such columns. They are not processed as efficiently as fixed-length arrays, but when it comes to processing of text data it is usually more important to make sure that no data will be lost rather than optimize the processing time."
   ]
  },
  {
   "cell_type": "code",
   "execution_count": 81,
   "id": "c7c5afa8",
   "metadata": {},
   "outputs": [
    {
     "data": {
      "text/html": [
       "<div>\n",
       "<style scoped>\n",
       "    .dataframe tbody tr th:only-of-type {\n",
       "        vertical-align: middle;\n",
       "    }\n",
       "\n",
       "    .dataframe tbody tr th {\n",
       "        vertical-align: top;\n",
       "    }\n",
       "\n",
       "    .dataframe thead th {\n",
       "        text-align: right;\n",
       "    }\n",
       "</style>\n",
       "<table border=\"1\" class=\"dataframe\">\n",
       "  <thead>\n",
       "    <tr style=\"text-align: right;\">\n",
       "      <th></th>\n",
       "      <th>Name</th>\n",
       "      <th>Algebra</th>\n",
       "      <th>Geometry</th>\n",
       "      <th>Calculus</th>\n",
       "    </tr>\n",
       "  </thead>\n",
       "  <tbody>\n",
       "    <tr>\n",
       "      <th>0</th>\n",
       "      <td>Alice</td>\n",
       "      <td>1</td>\n",
       "      <td>2</td>\n",
       "      <td>3</td>\n",
       "    </tr>\n",
       "    <tr>\n",
       "      <th>1</th>\n",
       "      <td>Bob</td>\n",
       "      <td>4</td>\n",
       "      <td>5</td>\n",
       "      <td>6</td>\n",
       "    </tr>\n",
       "    <tr>\n",
       "      <th>2</th>\n",
       "      <td>Claudia</td>\n",
       "      <td>2</td>\n",
       "      <td>3</td>\n",
       "      <td>4</td>\n",
       "    </tr>\n",
       "  </tbody>\n",
       "</table>\n",
       "</div>"
      ],
      "text/plain": [
       "      Name  Algebra  Geometry  Calculus\n",
       "0    Alice        1         2         3\n",
       "1      Bob        4         5         6\n",
       "2  Claudia        2         3         4"
      ]
     },
     "execution_count": 81,
     "metadata": {},
     "output_type": "execute_result"
    }
   ],
   "source": [
    "df"
   ]
  },
  {
   "cell_type": "markdown",
   "id": "b49f7879",
   "metadata": {},
   "source": [
    "The `df` variable is a pandas DataFrame containing student names and their scores in different subjects. The DataFrame has four columns: `Name`, `Algebra`, `Geometry`, and `Calculus`. Each row represents a student's data, allowing for easy manipulation and analysis of tabular data in Python."
   ]
  },
  {
   "cell_type": "code",
   "execution_count": 82,
   "id": "58f999c1",
   "metadata": {},
   "outputs": [
    {
     "data": {
      "text/html": [
       "<div>\n",
       "<style scoped>\n",
       "    .dataframe tbody tr th:only-of-type {\n",
       "        vertical-align: middle;\n",
       "    }\n",
       "\n",
       "    .dataframe tbody tr th {\n",
       "        vertical-align: top;\n",
       "    }\n",
       "\n",
       "    .dataframe thead th {\n",
       "        text-align: right;\n",
       "    }\n",
       "</style>\n",
       "<table border=\"1\" class=\"dataframe\">\n",
       "  <thead>\n",
       "    <tr style=\"text-align: right;\">\n",
       "      <th></th>\n",
       "      <th>Algebra</th>\n",
       "      <th>Geometry</th>\n",
       "      <th>Calculus</th>\n",
       "    </tr>\n",
       "    <tr>\n",
       "      <th>Name</th>\n",
       "      <th></th>\n",
       "      <th></th>\n",
       "      <th></th>\n",
       "    </tr>\n",
       "  </thead>\n",
       "  <tbody>\n",
       "    <tr>\n",
       "      <th>Alice</th>\n",
       "      <td>1</td>\n",
       "      <td>2</td>\n",
       "      <td>3</td>\n",
       "    </tr>\n",
       "    <tr>\n",
       "      <th>Bob</th>\n",
       "      <td>4</td>\n",
       "      <td>5</td>\n",
       "      <td>6</td>\n",
       "    </tr>\n",
       "    <tr>\n",
       "      <th>Claudia</th>\n",
       "      <td>2</td>\n",
       "      <td>3</td>\n",
       "      <td>4</td>\n",
       "    </tr>\n",
       "  </tbody>\n",
       "</table>\n",
       "</div>"
      ],
      "text/plain": [
       "         Algebra  Geometry  Calculus\n",
       "Name                                \n",
       "Alice          1         2         3\n",
       "Bob            4         5         6\n",
       "Claudia        2         3         4"
      ]
     },
     "execution_count": 82,
     "metadata": {},
     "output_type": "execute_result"
    }
   ],
   "source": [
    "df.set_index(\"Name\")"
   ]
  },
  {
   "cell_type": "markdown",
   "id": "7f8fb997",
   "metadata": {},
   "source": [
    "The `set_index()` method is used to change the index of the DataFrame. In this case, we set the `Name` column as the new index. This operation returns a new DataFrame where student names become the row labels, making it easier to access and manipulate data for specific students."
   ]
  },
  {
   "cell_type": "code",
   "execution_count": 83,
   "id": "8a0509b1",
   "metadata": {},
   "outputs": [],
   "source": [
    "df.set_index(\"Name\", inplace=True)"
   ]
  },
  {
   "cell_type": "markdown",
   "id": "0cc3cd69",
   "metadata": {},
   "source": [
    "By using `inplace=True`, we modify the original `df` DataFrame directly. The `Name` column is removed from the DataFrame and becomes the index. This allows for more intuitive data access, as we can now use student names to select rows, like `df.loc['Alice']` to get Alice's scores."
   ]
  },
  {
   "cell_type": "code",
   "execution_count": 84,
   "id": "f71a0a52",
   "metadata": {},
   "outputs": [
    {
     "data": {
      "text/plain": [
       "Index(['Alice', 'Bob', 'Claudia'], dtype='object', name='Name')"
      ]
     },
     "execution_count": 84,
     "metadata": {},
     "output_type": "execute_result"
    }
   ],
   "source": [
    "df.index"
   ]
  },
  {
   "cell_type": "markdown",
   "id": "b4aaf155",
   "metadata": {},
   "source": [
    "The `df.index` command displays the current index of the DataFrame. After setting 'Name' as the index, we can see that the index now consists of student names. The output shows an Index object with the student names and additional metadata, such as the data type ('object' for strings) and the name of the index ('Name')."
   ]
  },
  {
   "cell_type": "code",
   "execution_count": 85,
   "id": "aedb10dc",
   "metadata": {},
   "outputs": [
    {
     "data": {
      "text/plain": [
       "Index(['Algebra', 'Geometry', 'Calculus'], dtype='object')"
      ]
     },
     "execution_count": 85,
     "metadata": {},
     "output_type": "execute_result"
    }
   ],
   "source": [
    "df.columns"
   ]
  },
  {
   "cell_type": "markdown",
   "id": "0d3a3938",
   "metadata": {},
   "source": [
    "The `df.columns` attribute returns an Index object containing the column labels of the DataFrame. This is useful for verifying the structure of the DataFrame after modifications, showing us the remaining columns after 'Name' has been set as the index."
   ]
  },
  {
   "cell_type": "code",
   "execution_count": 86,
   "id": "30f91fb8",
   "metadata": {},
   "outputs": [
    {
     "data": {
      "text/html": [
       "<div>\n",
       "<style scoped>\n",
       "    .dataframe tbody tr th:only-of-type {\n",
       "        vertical-align: middle;\n",
       "    }\n",
       "\n",
       "    .dataframe tbody tr th {\n",
       "        vertical-align: top;\n",
       "    }\n",
       "\n",
       "    .dataframe thead th {\n",
       "        text-align: right;\n",
       "    }\n",
       "</style>\n",
       "<table border=\"1\" class=\"dataframe\">\n",
       "  <thead>\n",
       "    <tr style=\"text-align: right;\">\n",
       "      <th></th>\n",
       "      <th>0</th>\n",
       "      <th>1</th>\n",
       "      <th>2</th>\n",
       "    </tr>\n",
       "  </thead>\n",
       "  <tbody>\n",
       "    <tr>\n",
       "      <th>0</th>\n",
       "      <td>1</td>\n",
       "      <td>20</td>\n",
       "      <td>54</td>\n",
       "    </tr>\n",
       "    <tr>\n",
       "      <th>1</th>\n",
       "      <td>13</td>\n",
       "      <td>23</td>\n",
       "      <td>54</td>\n",
       "    </tr>\n",
       "  </tbody>\n",
       "</table>\n",
       "</div>"
      ],
      "text/plain": [
       "    0   1   2\n",
       "0   1  20  54\n",
       "1  13  23  54"
      ]
     },
     "execution_count": 86,
     "metadata": {},
     "output_type": "execute_result"
    }
   ],
   "source": [
    "pd.DataFrame([[1, 20, 54], [13, 23, 54]])"
   ]
  },
  {
   "cell_type": "markdown",
   "id": "bb304bfd",
   "metadata": {},
   "source": [
    "This code demonstrates various ways to access data in a pandas DataFrame. The DataFrame `df` appears to contain information about students' scores in different subjects, with the students' names as the index."
   ]
  },
  {
   "cell_type": "code",
   "execution_count": 87,
   "id": "11b5210a",
   "metadata": {},
   "outputs": [
    {
     "ename": "KeyError",
     "evalue": "'Alice'",
     "output_type": "error",
     "traceback": [
      "\u001b[0;31m---------------------------------------------------------------------------\u001b[0m",
      "\u001b[0;31mKeyError\u001b[0m                                  Traceback (most recent call last)",
      "File \u001b[0;32m~/miniconda3/envs/scientific-computing-2024-lesson01/lib/python3.11/site-packages/pandas/core/indexes/base.py:3805\u001b[0m, in \u001b[0;36mIndex.get_loc\u001b[0;34m(self, key)\u001b[0m\n\u001b[1;32m   3804\u001b[0m \u001b[38;5;28;01mtry\u001b[39;00m:\n\u001b[0;32m-> 3805\u001b[0m     \u001b[38;5;28;01mreturn\u001b[39;00m \u001b[38;5;28mself\u001b[39m\u001b[38;5;241m.\u001b[39m_engine\u001b[38;5;241m.\u001b[39mget_loc(casted_key)\n\u001b[1;32m   3806\u001b[0m \u001b[38;5;28;01mexcept\u001b[39;00m \u001b[38;5;167;01mKeyError\u001b[39;00m \u001b[38;5;28;01mas\u001b[39;00m err:\n",
      "File \u001b[0;32mindex.pyx:167\u001b[0m, in \u001b[0;36mpandas._libs.index.IndexEngine.get_loc\u001b[0;34m()\u001b[0m\n",
      "File \u001b[0;32mindex.pyx:196\u001b[0m, in \u001b[0;36mpandas._libs.index.IndexEngine.get_loc\u001b[0;34m()\u001b[0m\n",
      "File \u001b[0;32mpandas/_libs/hashtable_class_helper.pxi:7081\u001b[0m, in \u001b[0;36mpandas._libs.hashtable.PyObjectHashTable.get_item\u001b[0;34m()\u001b[0m\n",
      "File \u001b[0;32mpandas/_libs/hashtable_class_helper.pxi:7089\u001b[0m, in \u001b[0;36mpandas._libs.hashtable.PyObjectHashTable.get_item\u001b[0;34m()\u001b[0m\n",
      "\u001b[0;31mKeyError\u001b[0m: 'Alice'",
      "\nThe above exception was the direct cause of the following exception:\n",
      "\u001b[0;31mKeyError\u001b[0m                                  Traceback (most recent call last)",
      "Cell \u001b[0;32mIn[87], line 1\u001b[0m\n\u001b[0;32m----> 1\u001b[0m df[\u001b[38;5;124m\"\u001b[39m\u001b[38;5;124mAlice\u001b[39m\u001b[38;5;124m\"\u001b[39m]\n",
      "File \u001b[0;32m~/miniconda3/envs/scientific-computing-2024-lesson01/lib/python3.11/site-packages/pandas/core/frame.py:4102\u001b[0m, in \u001b[0;36mDataFrame.__getitem__\u001b[0;34m(self, key)\u001b[0m\n\u001b[1;32m   4100\u001b[0m \u001b[38;5;28;01mif\u001b[39;00m \u001b[38;5;28mself\u001b[39m\u001b[38;5;241m.\u001b[39mcolumns\u001b[38;5;241m.\u001b[39mnlevels \u001b[38;5;241m>\u001b[39m \u001b[38;5;241m1\u001b[39m:\n\u001b[1;32m   4101\u001b[0m     \u001b[38;5;28;01mreturn\u001b[39;00m \u001b[38;5;28mself\u001b[39m\u001b[38;5;241m.\u001b[39m_getitem_multilevel(key)\n\u001b[0;32m-> 4102\u001b[0m indexer \u001b[38;5;241m=\u001b[39m \u001b[38;5;28mself\u001b[39m\u001b[38;5;241m.\u001b[39mcolumns\u001b[38;5;241m.\u001b[39mget_loc(key)\n\u001b[1;32m   4103\u001b[0m \u001b[38;5;28;01mif\u001b[39;00m is_integer(indexer):\n\u001b[1;32m   4104\u001b[0m     indexer \u001b[38;5;241m=\u001b[39m [indexer]\n",
      "File \u001b[0;32m~/miniconda3/envs/scientific-computing-2024-lesson01/lib/python3.11/site-packages/pandas/core/indexes/base.py:3812\u001b[0m, in \u001b[0;36mIndex.get_loc\u001b[0;34m(self, key)\u001b[0m\n\u001b[1;32m   3807\u001b[0m     \u001b[38;5;28;01mif\u001b[39;00m \u001b[38;5;28misinstance\u001b[39m(casted_key, \u001b[38;5;28mslice\u001b[39m) \u001b[38;5;129;01mor\u001b[39;00m (\n\u001b[1;32m   3808\u001b[0m         \u001b[38;5;28misinstance\u001b[39m(casted_key, abc\u001b[38;5;241m.\u001b[39mIterable)\n\u001b[1;32m   3809\u001b[0m         \u001b[38;5;129;01mand\u001b[39;00m \u001b[38;5;28many\u001b[39m(\u001b[38;5;28misinstance\u001b[39m(x, \u001b[38;5;28mslice\u001b[39m) \u001b[38;5;28;01mfor\u001b[39;00m x \u001b[38;5;129;01min\u001b[39;00m casted_key)\n\u001b[1;32m   3810\u001b[0m     ):\n\u001b[1;32m   3811\u001b[0m         \u001b[38;5;28;01mraise\u001b[39;00m InvalidIndexError(key)\n\u001b[0;32m-> 3812\u001b[0m     \u001b[38;5;28;01mraise\u001b[39;00m \u001b[38;5;167;01mKeyError\u001b[39;00m(key) \u001b[38;5;28;01mfrom\u001b[39;00m \u001b[38;5;21;01merr\u001b[39;00m\n\u001b[1;32m   3813\u001b[0m \u001b[38;5;28;01mexcept\u001b[39;00m \u001b[38;5;167;01mTypeError\u001b[39;00m:\n\u001b[1;32m   3814\u001b[0m     \u001b[38;5;66;03m# If we have a listlike key, _check_indexing_error will raise\u001b[39;00m\n\u001b[1;32m   3815\u001b[0m     \u001b[38;5;66;03m#  InvalidIndexError. Otherwise we fall through and re-raise\u001b[39;00m\n\u001b[1;32m   3816\u001b[0m     \u001b[38;5;66;03m#  the TypeError.\u001b[39;00m\n\u001b[1;32m   3817\u001b[0m     \u001b[38;5;28mself\u001b[39m\u001b[38;5;241m.\u001b[39m_check_indexing_error(key)\n",
      "\u001b[0;31mKeyError\u001b[0m: 'Alice'"
     ]
    }
   ],
   "source": [
    "df[\"Alice\"]"
   ]
  },
  {
   "cell_type": "markdown",
   "id": "f921c57c",
   "metadata": {},
   "source": [
    "The attempt to access `df['Alice']` results in a `KeyError`. This error occurs because `'Alice'` is part of the index (row labels), not a column name. To access data for Alice, we would use `df.loc['Alice']` instead."
   ]
  },
  {
   "cell_type": "code",
   "execution_count": 88,
   "id": "64be95a2",
   "metadata": {},
   "outputs": [
    {
     "data": {
      "text/plain": [
       "Name\n",
       "Alice      1\n",
       "Bob        4\n",
       "Claudia    2\n",
       "Name: Algebra, dtype: int64"
      ]
     },
     "execution_count": 88,
     "metadata": {},
     "output_type": "execute_result"
    }
   ],
   "source": [
    "df[\"Algebra\"]"
   ]
  },
  {
   "cell_type": "markdown",
   "id": "0d0fff2c",
   "metadata": {},
   "source": [
    "Here, we successfully access the `'Algebra'` column using `df['Algebra']`. The output is a pandas Series object, which is a one-dimensional labeled array. The Series contains the Algebra scores for each student, with the student names as the index. This demonstrates how to retrieve a single column from a DataFrame."
   ]
  },
  {
   "cell_type": "code",
   "execution_count": 89,
   "id": "af6d08f3",
   "metadata": {},
   "outputs": [
    {
     "data": {
      "text/html": [
       "<div>\n",
       "<style scoped>\n",
       "    .dataframe tbody tr th:only-of-type {\n",
       "        vertical-align: middle;\n",
       "    }\n",
       "\n",
       "    .dataframe tbody tr th {\n",
       "        vertical-align: top;\n",
       "    }\n",
       "\n",
       "    .dataframe thead th {\n",
       "        text-align: right;\n",
       "    }\n",
       "</style>\n",
       "<table border=\"1\" class=\"dataframe\">\n",
       "  <thead>\n",
       "    <tr style=\"text-align: right;\">\n",
       "      <th></th>\n",
       "      <th>Algebra</th>\n",
       "      <th>Geometry</th>\n",
       "      <th>Calculus</th>\n",
       "    </tr>\n",
       "    <tr>\n",
       "      <th>Name</th>\n",
       "      <th></th>\n",
       "      <th></th>\n",
       "      <th></th>\n",
       "    </tr>\n",
       "  </thead>\n",
       "  <tbody>\n",
       "    <tr>\n",
       "      <th>Alice</th>\n",
       "      <td>1</td>\n",
       "      <td>2</td>\n",
       "      <td>3</td>\n",
       "    </tr>\n",
       "    <tr>\n",
       "      <th>Bob</th>\n",
       "      <td>4</td>\n",
       "      <td>5</td>\n",
       "      <td>6</td>\n",
       "    </tr>\n",
       "  </tbody>\n",
       "</table>\n",
       "</div>"
      ],
      "text/plain": [
       "       Algebra  Geometry  Calculus\n",
       "Name                              \n",
       "Alice        1         2         3\n",
       "Bob          4         5         6"
      ]
     },
     "execution_count": 89,
     "metadata": {},
     "output_type": "execute_result"
    }
   ],
   "source": [
    "df[0:2]"
   ]
  },
  {
   "cell_type": "markdown",
   "id": "09d8e065",
   "metadata": {},
   "source": [
    "This code demonstrates integer-based indexing in pandas. `df[0:2]` selects the first two rows of the DataFrame. Note that unlike Python lists, the upper bound (2) is exclusive in pandas integer-based indexing. The output shows a subset of the original DataFrame with the specified rows and all columns. This method is useful for quickly viewing a portion of your data."
   ]
  },
  {
   "cell_type": "code",
   "execution_count": 90,
   "id": "d4c71026",
   "metadata": {},
   "outputs": [
    {
     "data": {
      "text/plain": [
       "Algebra     1\n",
       "Geometry    2\n",
       "Calculus    3\n",
       "Name: Alice, dtype: int64"
      ]
     },
     "execution_count": 90,
     "metadata": {},
     "output_type": "execute_result"
    }
   ],
   "source": [
    "df.loc[\"Alice\"]"
   ]
  },
  {
   "cell_type": "markdown",
   "id": "20386107",
   "metadata": {},
   "source": [
    "The `loc` accessor in pandas is a powerful tool for label-based indexing and selection. Let's explore its various uses:"
   ]
  },
  {
   "cell_type": "code",
   "execution_count": 91,
   "id": "28f63272",
   "metadata": {},
   "outputs": [
    {
     "data": {
      "text/plain": [
       "2"
      ]
     },
     "execution_count": 91,
     "metadata": {},
     "output_type": "execute_result"
    }
   ],
   "source": [
    "df.loc[\"Alice\", \"Geometry\"]"
   ]
  },
  {
   "cell_type": "markdown",
   "id": "71a39048",
   "metadata": {},
   "source": [
    "The `loc` accessor in pandas is used for label-based indexing. It allows us to select data from a DataFrame or Series based on the labels of rows and columns."
   ]
  },
  {
   "cell_type": "code",
   "execution_count": 92,
   "id": "a73126fa",
   "metadata": {},
   "outputs": [
    {
     "data": {
      "text/plain": [
       "Name\n",
       "Alice      2\n",
       "Bob        5\n",
       "Claudia    3\n",
       "Name: Geometry, dtype: int64"
      ]
     },
     "execution_count": 92,
     "metadata": {},
     "output_type": "execute_result"
    }
   ],
   "source": [
    "df.loc[:, \"Geometry\"]"
   ]
  },
  {
   "cell_type": "markdown",
   "id": "c29f7e79",
   "metadata": {},
   "source": [
    "In this example, we use `loc` to select all rows (`:`) and the 'Geometry' column. This returns a Series containing Geometry scores for all students. The `:` acts as a wildcard, selecting all row labels."
   ]
  },
  {
   "cell_type": "code",
   "execution_count": 93,
   "id": "cd07f770",
   "metadata": {},
   "outputs": [
    {
     "data": {
      "text/html": [
       "<div>\n",
       "<style scoped>\n",
       "    .dataframe tbody tr th:only-of-type {\n",
       "        vertical-align: middle;\n",
       "    }\n",
       "\n",
       "    .dataframe tbody tr th {\n",
       "        vertical-align: top;\n",
       "    }\n",
       "\n",
       "    .dataframe thead th {\n",
       "        text-align: right;\n",
       "    }\n",
       "</style>\n",
       "<table border=\"1\" class=\"dataframe\">\n",
       "  <thead>\n",
       "    <tr style=\"text-align: right;\">\n",
       "      <th></th>\n",
       "      <th>Algebra</th>\n",
       "      <th>Geometry</th>\n",
       "    </tr>\n",
       "    <tr>\n",
       "      <th>Name</th>\n",
       "      <th></th>\n",
       "      <th></th>\n",
       "    </tr>\n",
       "  </thead>\n",
       "  <tbody>\n",
       "    <tr>\n",
       "      <th>Alice</th>\n",
       "      <td>1</td>\n",
       "      <td>2</td>\n",
       "    </tr>\n",
       "    <tr>\n",
       "      <th>Bob</th>\n",
       "      <td>4</td>\n",
       "      <td>5</td>\n",
       "    </tr>\n",
       "    <tr>\n",
       "      <th>Claudia</th>\n",
       "      <td>2</td>\n",
       "      <td>3</td>\n",
       "    </tr>\n",
       "  </tbody>\n",
       "</table>\n",
       "</div>"
      ],
      "text/plain": [
       "         Algebra  Geometry\n",
       "Name                      \n",
       "Alice          1         2\n",
       "Bob            4         5\n",
       "Claudia        2         3"
      ]
     },
     "execution_count": 93,
     "metadata": {},
     "output_type": "execute_result"
    }
   ],
   "source": [
    "df.loc[:, \"Algebra\":\"Geometry\"]"
   ]
  },
  {
   "cell_type": "markdown",
   "id": "ce06c027",
   "metadata": {},
   "source": [
    "The `loc` accessor is used for label-based indexing, allowing selection of rows and columns by their labels. Here, we use it with a slice for both rows and columns. The `:` selects all rows, while `'Algebra':'Geometry'` selects a range of columns from 'Algebra' to 'Geometry' (inclusive). This returns a subset of the original DataFrame containing only the specified columns for all students."
   ]
  },
  {
   "cell_type": "code",
   "execution_count": 94,
   "id": "5b25e0d1",
   "metadata": {},
   "outputs": [
    {
     "data": {
      "text/plain": [
       "Algebra     1\n",
       "Geometry    2\n",
       "Calculus    3\n",
       "Name: Alice, dtype: int64"
      ]
     },
     "execution_count": 94,
     "metadata": {},
     "output_type": "execute_result"
    }
   ],
   "source": [
    "df.iloc[0]"
   ]
  },
  {
   "cell_type": "markdown",
   "id": "c6ae1b6f",
   "metadata": {},
   "source": [
    "In contrast to `loc`, the `iloc` accessor is used for integer-based indexing. `df.iloc[0]` selects the first row of the DataFrame (index 0) and returns it as a Series. This Series contains all the subject scores for Alice, the first student in the DataFrame. The output shows Alice's scores in each subject, with the index being the subject names and the values being the scores."
   ]
  },
  {
   "cell_type": "code",
   "execution_count": 95,
   "id": "adbf8d65",
   "metadata": {},
   "outputs": [],
   "source": [
    "new_df = pd.DataFrame([[2, 3, 1], [5, 6, 7]], index=[1, 0])"
   ]
  },
  {
   "cell_type": "markdown",
   "id": "daaf498c",
   "metadata": {},
   "source": [
    "This code demonstrates the creation and indexing of a pandas DataFrame with a custom index."
   ]
  },
  {
   "cell_type": "code",
   "execution_count": 96,
   "id": "a2959f84",
   "metadata": {},
   "outputs": [
    {
     "data": {
      "text/html": [
       "<div>\n",
       "<style scoped>\n",
       "    .dataframe tbody tr th:only-of-type {\n",
       "        vertical-align: middle;\n",
       "    }\n",
       "\n",
       "    .dataframe tbody tr th {\n",
       "        vertical-align: top;\n",
       "    }\n",
       "\n",
       "    .dataframe thead th {\n",
       "        text-align: right;\n",
       "    }\n",
       "</style>\n",
       "<table border=\"1\" class=\"dataframe\">\n",
       "  <thead>\n",
       "    <tr style=\"text-align: right;\">\n",
       "      <th></th>\n",
       "      <th>0</th>\n",
       "      <th>1</th>\n",
       "      <th>2</th>\n",
       "    </tr>\n",
       "  </thead>\n",
       "  <tbody>\n",
       "    <tr>\n",
       "      <th>1</th>\n",
       "      <td>2</td>\n",
       "      <td>3</td>\n",
       "      <td>1</td>\n",
       "    </tr>\n",
       "    <tr>\n",
       "      <th>0</th>\n",
       "      <td>5</td>\n",
       "      <td>6</td>\n",
       "      <td>7</td>\n",
       "    </tr>\n",
       "  </tbody>\n",
       "</table>\n",
       "</div>"
      ],
      "text/plain": [
       "   0  1  2\n",
       "1  2  3  1\n",
       "0  5  6  7"
      ]
     },
     "execution_count": 96,
     "metadata": {},
     "output_type": "execute_result"
    }
   ],
   "source": [
    "new_df"
   ]
  },
  {
   "cell_type": "code",
   "execution_count": 97,
   "id": "ed60fca8",
   "metadata": {},
   "outputs": [
    {
     "data": {
      "text/plain": [
       "0    5\n",
       "1    6\n",
       "2    7\n",
       "Name: 0, dtype: int64"
      ]
     },
     "execution_count": 97,
     "metadata": {},
     "output_type": "execute_result"
    }
   ],
   "source": [
    "new_df.loc[0]"
   ]
  },
  {
   "cell_type": "code",
   "execution_count": 98,
   "id": "2245a011",
   "metadata": {},
   "outputs": [
    {
     "data": {
      "text/plain": [
       "0    2\n",
       "1    3\n",
       "2    1\n",
       "Name: 1, dtype: int64"
      ]
     },
     "execution_count": 98,
     "metadata": {},
     "output_type": "execute_result"
    }
   ],
   "source": [
    "new_df.iloc[0]"
   ]
  },
  {
   "cell_type": "markdown",
   "id": "6c90cb24",
   "metadata": {},
   "source": [
    "When working with pandas DataFrames, we can access specific columns or subsets of data in various ways. Here, we're focusing on column and row selection techniques."
   ]
  },
  {
   "cell_type": "code",
   "execution_count": 99,
   "id": "ef373bb0",
   "metadata": {},
   "outputs": [
    {
     "data": {
      "text/plain": [
       "Name\n",
       "Alice    1\n",
       "Bob      4\n",
       "Name: Algebra, dtype: int64"
      ]
     },
     "execution_count": 99,
     "metadata": {},
     "output_type": "execute_result"
    }
   ],
   "source": [
    "df[:2][\"Algebra\"]"
   ]
  },
  {
   "cell_type": "markdown",
   "id": "d5f582d1",
   "metadata": {},
   "source": [
    "In this example, we're selecting the 'Algebra' column for the first two rows of the DataFrame `df`. The result is a pandas Series containing the 'Algebra' scores for Alice and Bob. The `[:2]` slice selects the first two rows, and `['Algebra']` specifies the column we want to retrieve."
   ]
  },
  {
   "cell_type": "code",
   "execution_count": 100,
   "id": "a3547aed",
   "metadata": {},
   "outputs": [],
   "source": [
    "df.loc[\"Alice\", \"Algebra\"] = 4"
   ]
  },
  {
   "cell_type": "markdown",
   "id": "a54f6dd2",
   "metadata": {},
   "source": [
    "Here, we're attempting to update Alice's 'Algebra' score using chained indexing. However, this method is not recommended and can lead to unexpected behavior."
   ]
  },
  {
   "cell_type": "code",
   "execution_count": 101,
   "id": "fba36dcd",
   "metadata": {},
   "outputs": [
    {
     "data": {
      "text/html": [
       "<div>\n",
       "<style scoped>\n",
       "    .dataframe tbody tr th:only-of-type {\n",
       "        vertical-align: middle;\n",
       "    }\n",
       "\n",
       "    .dataframe tbody tr th {\n",
       "        vertical-align: top;\n",
       "    }\n",
       "\n",
       "    .dataframe thead th {\n",
       "        text-align: right;\n",
       "    }\n",
       "</style>\n",
       "<table border=\"1\" class=\"dataframe\">\n",
       "  <thead>\n",
       "    <tr style=\"text-align: right;\">\n",
       "      <th></th>\n",
       "      <th>Algebra</th>\n",
       "      <th>Geometry</th>\n",
       "      <th>Calculus</th>\n",
       "    </tr>\n",
       "    <tr>\n",
       "      <th>Name</th>\n",
       "      <th></th>\n",
       "      <th></th>\n",
       "      <th></th>\n",
       "    </tr>\n",
       "  </thead>\n",
       "  <tbody>\n",
       "    <tr>\n",
       "      <th>Alice</th>\n",
       "      <td>4</td>\n",
       "      <td>2</td>\n",
       "      <td>3</td>\n",
       "    </tr>\n",
       "    <tr>\n",
       "      <th>Bob</th>\n",
       "      <td>4</td>\n",
       "      <td>5</td>\n",
       "      <td>6</td>\n",
       "    </tr>\n",
       "    <tr>\n",
       "      <th>Claudia</th>\n",
       "      <td>2</td>\n",
       "      <td>3</td>\n",
       "      <td>4</td>\n",
       "    </tr>\n",
       "  </tbody>\n",
       "</table>\n",
       "</div>"
      ],
      "text/plain": [
       "         Algebra  Geometry  Calculus\n",
       "Name                                \n",
       "Alice          4         2         3\n",
       "Bob            4         5         6\n",
       "Claudia        2         3         4"
      ]
     },
     "execution_count": 101,
     "metadata": {},
     "output_type": "execute_result"
    }
   ],
   "source": [
    "df"
   ]
  },
  {
   "cell_type": "markdown",
   "id": "7c5f20e2",
   "metadata": {},
   "source": [
    "The DataFrame `df` is displayed, showing the current state of our data. Note that Alice's 'Algebra' score is 4 at this point."
   ]
  },
  {
   "cell_type": "code",
   "execution_count": 102,
   "id": "79a1bae3",
   "metadata": {},
   "outputs": [
    {
     "name": "stderr",
     "output_type": "stream",
     "text": [
      "/var/folders/h2/9nyrt4p55kq6pdvqg02_zmj40000gn/T/ipykernel_44519/1134890167.py:1: FutureWarning: ChainedAssignmentError: behaviour will change in pandas 3.0!\n",
      "You are setting values through chained assignment. Currently this works in certain cases, but when using Copy-on-Write (which will become the default behaviour in pandas 3.0) this will never work to update the original DataFrame or Series, because the intermediate object on which we are setting values will behave as a copy.\n",
      "A typical example is when you are setting values in a column of a DataFrame, like:\n",
      "\n",
      "df[\"col\"][row_indexer] = value\n",
      "\n",
      "Use `df.loc[row_indexer, \"col\"] = values` instead, to perform the assignment in a single step and ensure this keeps updating the original `df`.\n",
      "\n",
      "See the caveats in the documentation: https://pandas.pydata.org/pandas-docs/stable/user_guide/indexing.html#returning-a-view-versus-a-copy\n",
      "\n",
      "  df[:2][\"Algebra\"][b\"Alice\"] = 2\n",
      "/var/folders/h2/9nyrt4p55kq6pdvqg02_zmj40000gn/T/ipykernel_44519/1134890167.py:1: SettingWithCopyWarning: \n",
      "A value is trying to be set on a copy of a slice from a DataFrame\n",
      "\n",
      "See the caveats in the documentation: https://pandas.pydata.org/pandas-docs/stable/user_guide/indexing.html#returning-a-view-versus-a-copy\n",
      "  df[:2][\"Algebra\"][b\"Alice\"] = 2\n"
     ]
    }
   ],
   "source": [
    "df[:2][\"Algebra\"][b\"Alice\"] = 2"
   ]
  },
  {
   "cell_type": "markdown",
   "id": "302d8141",
   "metadata": {},
   "source": [
    "This section demonstrates the complexities of chained indexing and data views in pandas."
   ]
  },
  {
   "cell_type": "code",
   "execution_count": 103,
   "id": "96114916",
   "metadata": {},
   "outputs": [
    {
     "data": {
      "text/html": [
       "<div>\n",
       "<style scoped>\n",
       "    .dataframe tbody tr th:only-of-type {\n",
       "        vertical-align: middle;\n",
       "    }\n",
       "\n",
       "    .dataframe tbody tr th {\n",
       "        vertical-align: top;\n",
       "    }\n",
       "\n",
       "    .dataframe thead th {\n",
       "        text-align: right;\n",
       "    }\n",
       "</style>\n",
       "<table border=\"1\" class=\"dataframe\">\n",
       "  <thead>\n",
       "    <tr style=\"text-align: right;\">\n",
       "      <th></th>\n",
       "      <th>Algebra</th>\n",
       "      <th>Geometry</th>\n",
       "      <th>Calculus</th>\n",
       "    </tr>\n",
       "    <tr>\n",
       "      <th>Name</th>\n",
       "      <th></th>\n",
       "      <th></th>\n",
       "      <th></th>\n",
       "    </tr>\n",
       "  </thead>\n",
       "  <tbody>\n",
       "    <tr>\n",
       "      <th>Alice</th>\n",
       "      <td>4</td>\n",
       "      <td>2</td>\n",
       "      <td>3</td>\n",
       "    </tr>\n",
       "    <tr>\n",
       "      <th>Bob</th>\n",
       "      <td>4</td>\n",
       "      <td>5</td>\n",
       "      <td>6</td>\n",
       "    </tr>\n",
       "    <tr>\n",
       "      <th>Claudia</th>\n",
       "      <td>2</td>\n",
       "      <td>3</td>\n",
       "      <td>4</td>\n",
       "    </tr>\n",
       "  </tbody>\n",
       "</table>\n",
       "</div>"
      ],
      "text/plain": [
       "         Algebra  Geometry  Calculus\n",
       "Name                                \n",
       "Alice          4         2         3\n",
       "Bob            4         5         6\n",
       "Claudia        2         3         4"
      ]
     },
     "execution_count": 103,
     "metadata": {},
     "output_type": "execute_result"
    }
   ],
   "source": [
    "df"
   ]
  },
  {
   "cell_type": "markdown",
   "id": "1a872ba4",
   "metadata": {},
   "source": [
    "The DataFrame `df` shows the updated scores after the previous operation. Alice's 'Algebra' score is 4, reflecting that chain assignment did not make changes to the initial DataFrame. In other circumstances, it can make changes, depending on whether the indexing operation returned view or copy."
   ]
  },
  {
   "cell_type": "code",
   "execution_count": 104,
   "id": "548f6728",
   "metadata": {},
   "outputs": [],
   "source": [
    "short_df_algebra = df[:2][\"Algebra\"]"
   ]
  },
  {
   "cell_type": "markdown",
   "id": "aef5e7ef",
   "metadata": {},
   "source": [
    "Here, we create a new Series `short_df_algebra` containing 'Algebra' scores for the first two students. This operation creates a view of the original DataFrame, not a copy. The relationship between `short_df_algebra` and `df` is complex and can lead to unexpected behavior in data manipulation."
   ]
  },
  {
   "cell_type": "code",
   "execution_count": 105,
   "id": "c7435a2a",
   "metadata": {},
   "outputs": [
    {
     "name": "stderr",
     "output_type": "stream",
     "text": [
      "/var/folders/h2/9nyrt4p55kq6pdvqg02_zmj40000gn/T/ipykernel_44519/1938316182.py:1: SettingWithCopyWarning: \n",
      "A value is trying to be set on a copy of a slice from a DataFrame\n",
      "\n",
      "See the caveats in the documentation: https://pandas.pydata.org/pandas-docs/stable/user_guide/indexing.html#returning-a-view-versus-a-copy\n",
      "  short_df_algebra[\"Alice\"] = 3\n"
     ]
    }
   ],
   "source": [
    "short_df_algebra[\"Alice\"] = 3"
   ]
  },
  {
   "cell_type": "markdown",
   "id": "6d7a39a0",
   "metadata": {},
   "source": [
    "This operation attempts to modify Alice's 'Algebra' score in `short_df_algebra`. The warning message indicates that this approach might not reliably update the original DataFrame. Pandas issues this `SettingWithCopyWarning` to alert us about potential unexpected behavior. This scenario highlights the importance of using explicit data access methods like `loc` when modifying data in pandas."
   ]
  },
  {
   "cell_type": "code",
   "execution_count": 106,
   "id": "d3ff1a5b",
   "metadata": {},
   "outputs": [],
   "source": [
    "short_df_algebra_copy = df[:2][\"Algebra\"].copy()"
   ]
  },
  {
   "cell_type": "markdown",
   "id": "fd617e25",
   "metadata": {},
   "source": [
    "Here, we create `short_df_algebra_copy` using the `.copy()` method. This generates an actual copy of the data, not just a view. By working with a copy, we ensure that any modifications to `short_df_algebra_copy` won't affect the original DataFrame `df`. This approach prevents potential SettingWithCopyWarning issues and provides a more reliable way to manipulate subsets of data."
   ]
  },
  {
   "cell_type": "code",
   "execution_count": 107,
   "id": "cb25abc1",
   "metadata": {},
   "outputs": [],
   "source": [
    "short_df_algebra_copy[\"Alice\"] = 4"
   ]
  },
  {
   "cell_type": "code",
   "execution_count": 108,
   "id": "40b9af41",
   "metadata": {},
   "outputs": [
    {
     "data": {
      "text/plain": [
       "Algebra     3.000000\n",
       "Geometry    3.333333\n",
       "Calculus    4.333333\n",
       "dtype: float64"
      ]
     },
     "execution_count": 108,
     "metadata": {},
     "output_type": "execute_result"
    }
   ],
   "source": [
    "df.mean()"
   ]
  },
  {
   "cell_type": "markdown",
   "id": "230c9ee8",
   "metadata": {},
   "source": [
    "The `df.mean()` function calculates the mean of each column in the DataFrame. It computes the average score for each subject across all students. The result is a Series with subject names as the index and their respective mean scores as values."
   ]
  },
  {
   "cell_type": "code",
   "execution_count": 109,
   "id": "c90b5ebd",
   "metadata": {},
   "outputs": [
    {
     "data": {
      "text/plain": [
       "Name\n",
       "Alice      2.666667\n",
       "Bob        5.000000\n",
       "Claudia    3.000000\n",
       "dtype: float64"
      ]
     },
     "execution_count": 109,
     "metadata": {},
     "output_type": "execute_result"
    }
   ],
   "source": [
    "df.mean(axis=1)"
   ]
  },
  {
   "cell_type": "markdown",
   "id": "cafad6bc",
   "metadata": {},
   "source": [
    "Using `df.mean(axis=1)`, we calculate the mean along the rows (axis=1) instead of columns. This gives us the average score for each student across all subjects. The resulting Series has student names as the index and their overall average scores as values."
   ]
  },
  {
   "cell_type": "markdown",
   "id": "f1268a79",
   "metadata": {},
   "source": [
    "Now, let's add a new column to our DataFrame that represents the mean score for each student across all subjects:"
   ]
  },
  {
   "cell_type": "code",
   "execution_count": 110,
   "id": "82bed532",
   "metadata": {},
   "outputs": [],
   "source": [
    "df[\"mean\"] = df.mean(axis=1)"
   ]
  },
  {
   "cell_type": "markdown",
   "id": "427f3477",
   "metadata": {},
   "source": [
    "The `mean()` function is applied with `axis=1`, which calculates the mean across columns (i.e., for each row). This new 'mean' column is added directly to our existing DataFrame `df`.\n",
    "\n",
    "Next, we'll explore the `assign()` method, which allows us to create a new DataFrame with an additional column without modifying the original DataFrame:"
   ]
  },
  {
   "cell_type": "code",
   "execution_count": 111,
   "id": "c8342196",
   "metadata": {},
   "outputs": [
    {
     "data": {
      "text/html": [
       "<div>\n",
       "<style scoped>\n",
       "    .dataframe tbody tr th:only-of-type {\n",
       "        vertical-align: middle;\n",
       "    }\n",
       "\n",
       "    .dataframe tbody tr th {\n",
       "        vertical-align: top;\n",
       "    }\n",
       "\n",
       "    .dataframe thead th {\n",
       "        text-align: right;\n",
       "    }\n",
       "</style>\n",
       "<table border=\"1\" class=\"dataframe\">\n",
       "  <thead>\n",
       "    <tr style=\"text-align: right;\">\n",
       "      <th></th>\n",
       "      <th>Algebra</th>\n",
       "      <th>Geometry</th>\n",
       "      <th>Calculus</th>\n",
       "      <th>mean</th>\n",
       "      <th>min</th>\n",
       "    </tr>\n",
       "    <tr>\n",
       "      <th>Name</th>\n",
       "      <th></th>\n",
       "      <th></th>\n",
       "      <th></th>\n",
       "      <th></th>\n",
       "      <th></th>\n",
       "    </tr>\n",
       "  </thead>\n",
       "  <tbody>\n",
       "    <tr>\n",
       "      <th>Alice</th>\n",
       "      <td>3</td>\n",
       "      <td>2</td>\n",
       "      <td>3</td>\n",
       "      <td>2.666667</td>\n",
       "      <td>2.0</td>\n",
       "    </tr>\n",
       "    <tr>\n",
       "      <th>Bob</th>\n",
       "      <td>4</td>\n",
       "      <td>5</td>\n",
       "      <td>6</td>\n",
       "      <td>5.000000</td>\n",
       "      <td>4.0</td>\n",
       "    </tr>\n",
       "    <tr>\n",
       "      <th>Claudia</th>\n",
       "      <td>2</td>\n",
       "      <td>3</td>\n",
       "      <td>4</td>\n",
       "      <td>3.000000</td>\n",
       "      <td>2.0</td>\n",
       "    </tr>\n",
       "  </tbody>\n",
       "</table>\n",
       "</div>"
      ],
      "text/plain": [
       "         Algebra  Geometry  Calculus      mean  min\n",
       "Name                                               \n",
       "Alice          3         2         3  2.666667  2.0\n",
       "Bob            4         5         6  5.000000  4.0\n",
       "Claudia        2         3         4  3.000000  2.0"
      ]
     },
     "execution_count": 111,
     "metadata": {},
     "output_type": "execute_result"
    }
   ],
   "source": [
    "df.assign(min=df.min(axis=1))"
   ]
  },
  {
   "cell_type": "markdown",
   "id": "f49c3a21",
   "metadata": {},
   "source": [
    "The `assign()` method creates a new DataFrame with an additional 'min' column. This column contains the minimum score for each student across all subjects, calculated using `df.min(axis=1)`. The `axis=1` parameter tells pandas to compute the minimum across columns for each row.\n",
    "\n",
    "It's important to note that `assign()` returns a new DataFrame without modifying the original `df`. This is useful when you want to create temporary views of your data without altering the source DataFrame."
   ]
  },
  {
   "cell_type": "code",
   "execution_count": 112,
   "id": "82f1ba1d",
   "metadata": {},
   "outputs": [
    {
     "data": {
      "text/html": [
       "<div>\n",
       "<style scoped>\n",
       "    .dataframe tbody tr th:only-of-type {\n",
       "        vertical-align: middle;\n",
       "    }\n",
       "\n",
       "    .dataframe tbody tr th {\n",
       "        vertical-align: top;\n",
       "    }\n",
       "\n",
       "    .dataframe thead th {\n",
       "        text-align: right;\n",
       "    }\n",
       "</style>\n",
       "<table border=\"1\" class=\"dataframe\">\n",
       "  <thead>\n",
       "    <tr style=\"text-align: right;\">\n",
       "      <th></th>\n",
       "      <th>Algebra</th>\n",
       "      <th>Geometry</th>\n",
       "      <th>Calculus</th>\n",
       "      <th>mean</th>\n",
       "    </tr>\n",
       "    <tr>\n",
       "      <th>Name</th>\n",
       "      <th></th>\n",
       "      <th></th>\n",
       "      <th></th>\n",
       "      <th></th>\n",
       "    </tr>\n",
       "  </thead>\n",
       "  <tbody>\n",
       "    <tr>\n",
       "      <th>Alice</th>\n",
       "      <td>3</td>\n",
       "      <td>2</td>\n",
       "      <td>3</td>\n",
       "      <td>2.666667</td>\n",
       "    </tr>\n",
       "    <tr>\n",
       "      <th>Bob</th>\n",
       "      <td>4</td>\n",
       "      <td>5</td>\n",
       "      <td>6</td>\n",
       "      <td>5.000000</td>\n",
       "    </tr>\n",
       "    <tr>\n",
       "      <th>Claudia</th>\n",
       "      <td>2</td>\n",
       "      <td>3</td>\n",
       "      <td>4</td>\n",
       "      <td>3.000000</td>\n",
       "    </tr>\n",
       "  </tbody>\n",
       "</table>\n",
       "</div>"
      ],
      "text/plain": [
       "         Algebra  Geometry  Calculus      mean\n",
       "Name                                          \n",
       "Alice          3         2         3  2.666667\n",
       "Bob            4         5         6  5.000000\n",
       "Claudia        2         3         4  3.000000"
      ]
     },
     "execution_count": 112,
     "metadata": {},
     "output_type": "execute_result"
    }
   ],
   "source": [
    "df"
   ]
  },
  {
   "cell_type": "markdown",
   "id": "93ec7105",
   "metadata": {},
   "source": [
    "The DataFrame `df` currently contains columns for 'Algebra', 'Geometry', 'Calculus', and 'mean'. The 'mean' column represents the average score for each student across all subjects.\n",
    "\n",
    "It's worth noting that when we use methods like `df.mean(axis=1)`, we're performing operations across rows (axis=1). This calculates the mean for each row, which in our case represents the average score for each student."
   ]
  },
  {
   "cell_type": "code",
   "execution_count": 113,
   "id": "a0a50895",
   "metadata": {},
   "outputs": [
    {
     "data": {
      "text/html": [
       "<div>\n",
       "<style scoped>\n",
       "    .dataframe tbody tr th:only-of-type {\n",
       "        vertical-align: middle;\n",
       "    }\n",
       "\n",
       "    .dataframe tbody tr th {\n",
       "        vertical-align: top;\n",
       "    }\n",
       "\n",
       "    .dataframe thead th {\n",
       "        text-align: right;\n",
       "    }\n",
       "</style>\n",
       "<table border=\"1\" class=\"dataframe\">\n",
       "  <thead>\n",
       "    <tr style=\"text-align: right;\">\n",
       "      <th></th>\n",
       "      <th>Algebra</th>\n",
       "      <th>Geometry</th>\n",
       "      <th>Calculus</th>\n",
       "      <th>mean</th>\n",
       "    </tr>\n",
       "    <tr>\n",
       "      <th>Name</th>\n",
       "      <th></th>\n",
       "      <th></th>\n",
       "      <th></th>\n",
       "      <th></th>\n",
       "    </tr>\n",
       "  </thead>\n",
       "  <tbody>\n",
       "    <tr>\n",
       "      <th>Alice</th>\n",
       "      <td>3</td>\n",
       "      <td>2</td>\n",
       "      <td>3</td>\n",
       "      <td>2.666667</td>\n",
       "    </tr>\n",
       "    <tr>\n",
       "      <th>Bob</th>\n",
       "      <td>4</td>\n",
       "      <td>5</td>\n",
       "      <td>6</td>\n",
       "      <td>5.000000</td>\n",
       "    </tr>\n",
       "    <tr>\n",
       "      <th>Claudia</th>\n",
       "      <td>2</td>\n",
       "      <td>3</td>\n",
       "      <td>4</td>\n",
       "      <td>3.000000</td>\n",
       "    </tr>\n",
       "  </tbody>\n",
       "</table>\n",
       "</div>"
      ],
      "text/plain": [
       "         Algebra  Geometry  Calculus      mean\n",
       "Name                                          \n",
       "Alice          3         2         3  2.666667\n",
       "Bob            4         5         6  5.000000\n",
       "Claudia        2         3         4  3.000000"
      ]
     },
     "execution_count": 113,
     "metadata": {},
     "output_type": "execute_result"
    }
   ],
   "source": [
    "df"
   ]
  },
  {
   "cell_type": "markdown",
   "id": "9ff6ee54",
   "metadata": {},
   "source": [
    "Now, let's add a new column `mean` to our DataFrame using direct assignment. This operation will modify the original DataFrame in-place.\n",
    "\n",
    "The line `df['mean'] = df.mean(axis=1)` creates a new column named 'mean' and assigns it the row-wise mean values. This calculates each student's average score across all subjects."
   ]
  },
  {
   "cell_type": "code",
   "execution_count": 114,
   "id": "f804978f",
   "metadata": {},
   "outputs": [],
   "source": [
    "df[\"mean\"] = df.mean(axis=1)"
   ]
  },
  {
   "cell_type": "markdown",
   "id": "0e1cd0ea",
   "metadata": {},
   "source": [
    "After adding the 'mean' column, let's view the updated DataFrame:"
   ]
  },
  {
   "cell_type": "code",
   "execution_count": 115,
   "id": "c1be7ffb",
   "metadata": {},
   "outputs": [
    {
     "data": {
      "text/html": [
       "<div>\n",
       "<style scoped>\n",
       "    .dataframe tbody tr th:only-of-type {\n",
       "        vertical-align: middle;\n",
       "    }\n",
       "\n",
       "    .dataframe tbody tr th {\n",
       "        vertical-align: top;\n",
       "    }\n",
       "\n",
       "    .dataframe thead th {\n",
       "        text-align: right;\n",
       "    }\n",
       "</style>\n",
       "<table border=\"1\" class=\"dataframe\">\n",
       "  <thead>\n",
       "    <tr style=\"text-align: right;\">\n",
       "      <th></th>\n",
       "      <th>Algebra</th>\n",
       "      <th>Geometry</th>\n",
       "      <th>Calculus</th>\n",
       "      <th>mean</th>\n",
       "    </tr>\n",
       "    <tr>\n",
       "      <th>Name</th>\n",
       "      <th></th>\n",
       "      <th></th>\n",
       "      <th></th>\n",
       "      <th></th>\n",
       "    </tr>\n",
       "  </thead>\n",
       "  <tbody>\n",
       "    <tr>\n",
       "      <th>Alice</th>\n",
       "      <td>3</td>\n",
       "      <td>2</td>\n",
       "      <td>3</td>\n",
       "      <td>2.666667</td>\n",
       "    </tr>\n",
       "    <tr>\n",
       "      <th>Bob</th>\n",
       "      <td>4</td>\n",
       "      <td>5</td>\n",
       "      <td>6</td>\n",
       "      <td>5.000000</td>\n",
       "    </tr>\n",
       "    <tr>\n",
       "      <th>Claudia</th>\n",
       "      <td>2</td>\n",
       "      <td>3</td>\n",
       "      <td>4</td>\n",
       "      <td>3.000000</td>\n",
       "    </tr>\n",
       "  </tbody>\n",
       "</table>\n",
       "</div>"
      ],
      "text/plain": [
       "         Algebra  Geometry  Calculus      mean\n",
       "Name                                          \n",
       "Alice          3         2         3  2.666667\n",
       "Bob            4         5         6  5.000000\n",
       "Claudia        2         3         4  3.000000"
      ]
     },
     "execution_count": 115,
     "metadata": {},
     "output_type": "execute_result"
    }
   ],
   "source": [
    "df"
   ]
  },
  {
   "cell_type": "markdown",
   "id": "0d1150fc",
   "metadata": {},
   "source": [
    "The `mean` column has been added to the DataFrame, showing the average score for each student across all subjects. This direct assignment method modifies the DataFrame in-place.\n",
    "\n",
    "Now, let's add another column `sum` to calculate the total score for each student:"
   ]
  },
  {
   "cell_type": "code",
   "execution_count": 116,
   "id": "c09086fa",
   "metadata": {},
   "outputs": [],
   "source": [
    "df[\"sum\"] = df.sum(axis=1)"
   ]
  },
  {
   "cell_type": "markdown",
   "id": "0880c6e1",
   "metadata": {},
   "source": [
    "This code creates a new 'sum' column by summing up the values across each row (axis=1). The `sum()` function with `axis=1` operates horizontally across columns for each row, calculating the total score for each student across all subjects, including the 'mean' column."
   ]
  },
  {
   "cell_type": "code",
   "execution_count": 117,
   "id": "6fb5e29e",
   "metadata": {},
   "outputs": [
    {
     "data": {
      "text/html": [
       "<div>\n",
       "<style scoped>\n",
       "    .dataframe tbody tr th:only-of-type {\n",
       "        vertical-align: middle;\n",
       "    }\n",
       "\n",
       "    .dataframe tbody tr th {\n",
       "        vertical-align: top;\n",
       "    }\n",
       "\n",
       "    .dataframe thead th {\n",
       "        text-align: right;\n",
       "    }\n",
       "</style>\n",
       "<table border=\"1\" class=\"dataframe\">\n",
       "  <thead>\n",
       "    <tr style=\"text-align: right;\">\n",
       "      <th></th>\n",
       "      <th>Algebra</th>\n",
       "      <th>Geometry</th>\n",
       "      <th>Calculus</th>\n",
       "      <th>mean</th>\n",
       "      <th>sum</th>\n",
       "    </tr>\n",
       "    <tr>\n",
       "      <th>Name</th>\n",
       "      <th></th>\n",
       "      <th></th>\n",
       "      <th></th>\n",
       "      <th></th>\n",
       "      <th></th>\n",
       "    </tr>\n",
       "  </thead>\n",
       "  <tbody>\n",
       "    <tr>\n",
       "      <th>Alice</th>\n",
       "      <td>3</td>\n",
       "      <td>2</td>\n",
       "      <td>3</td>\n",
       "      <td>2.666667</td>\n",
       "      <td>10.666667</td>\n",
       "    </tr>\n",
       "    <tr>\n",
       "      <th>Bob</th>\n",
       "      <td>4</td>\n",
       "      <td>5</td>\n",
       "      <td>6</td>\n",
       "      <td>5.000000</td>\n",
       "      <td>20.000000</td>\n",
       "    </tr>\n",
       "    <tr>\n",
       "      <th>Claudia</th>\n",
       "      <td>2</td>\n",
       "      <td>3</td>\n",
       "      <td>4</td>\n",
       "      <td>3.000000</td>\n",
       "      <td>12.000000</td>\n",
       "    </tr>\n",
       "  </tbody>\n",
       "</table>\n",
       "</div>"
      ],
      "text/plain": [
       "         Algebra  Geometry  Calculus      mean        sum\n",
       "Name                                                     \n",
       "Alice          3         2         3  2.666667  10.666667\n",
       "Bob            4         5         6  5.000000  20.000000\n",
       "Claudia        2         3         4  3.000000  12.000000"
      ]
     },
     "execution_count": 117,
     "metadata": {},
     "output_type": "execute_result"
    }
   ],
   "source": [
    "df"
   ]
  },
  {
   "cell_type": "markdown",
   "id": "db28ca7b",
   "metadata": {},
   "source": [
    "The DataFrame now includes both `mean` and `sum` columns. The `sum` column values are higher than expected because they include the `mean` in the calculation. To get the sum of only the subject scores, we would need to sum only the specific subject columns.\n",
    "\n",
    "Next, we add a 'min' column to show the lowest score for each student:"
   ]
  },
  {
   "cell_type": "code",
   "execution_count": 118,
   "id": "c0d8db92",
   "metadata": {},
   "outputs": [],
   "source": [
    "df_with_min = df.assign(min=df.min(axis=1))"
   ]
  },
  {
   "cell_type": "markdown",
   "id": "914d5d29",
   "metadata": {},
   "source": [
    "The `assign()` method creates a new DataFrame `df_with_min` with an additional 'min' column. The `min()` function with `axis=1` finds the minimum value across each row. This new DataFrame includes all the original columns plus the new 'min' column, without modifying the original `df`.\n",
    "\n",
    "Let's examine the new DataFrame:"
   ]
  },
  {
   "cell_type": "code",
   "execution_count": 119,
   "id": "c9eb6a64",
   "metadata": {},
   "outputs": [
    {
     "data": {
      "text/html": [
       "<div>\n",
       "<style scoped>\n",
       "    .dataframe tbody tr th:only-of-type {\n",
       "        vertical-align: middle;\n",
       "    }\n",
       "\n",
       "    .dataframe tbody tr th {\n",
       "        vertical-align: top;\n",
       "    }\n",
       "\n",
       "    .dataframe thead th {\n",
       "        text-align: right;\n",
       "    }\n",
       "</style>\n",
       "<table border=\"1\" class=\"dataframe\">\n",
       "  <thead>\n",
       "    <tr style=\"text-align: right;\">\n",
       "      <th></th>\n",
       "      <th>Algebra</th>\n",
       "      <th>Geometry</th>\n",
       "      <th>Calculus</th>\n",
       "      <th>mean</th>\n",
       "      <th>sum</th>\n",
       "      <th>min</th>\n",
       "    </tr>\n",
       "    <tr>\n",
       "      <th>Name</th>\n",
       "      <th></th>\n",
       "      <th></th>\n",
       "      <th></th>\n",
       "      <th></th>\n",
       "      <th></th>\n",
       "      <th></th>\n",
       "    </tr>\n",
       "  </thead>\n",
       "  <tbody>\n",
       "    <tr>\n",
       "      <th>Alice</th>\n",
       "      <td>3</td>\n",
       "      <td>2</td>\n",
       "      <td>3</td>\n",
       "      <td>2.666667</td>\n",
       "      <td>10.666667</td>\n",
       "      <td>2.0</td>\n",
       "    </tr>\n",
       "    <tr>\n",
       "      <th>Bob</th>\n",
       "      <td>4</td>\n",
       "      <td>5</td>\n",
       "      <td>6</td>\n",
       "      <td>5.000000</td>\n",
       "      <td>20.000000</td>\n",
       "      <td>4.0</td>\n",
       "    </tr>\n",
       "    <tr>\n",
       "      <th>Claudia</th>\n",
       "      <td>2</td>\n",
       "      <td>3</td>\n",
       "      <td>4</td>\n",
       "      <td>3.000000</td>\n",
       "      <td>12.000000</td>\n",
       "      <td>2.0</td>\n",
       "    </tr>\n",
       "  </tbody>\n",
       "</table>\n",
       "</div>"
      ],
      "text/plain": [
       "         Algebra  Geometry  Calculus      mean        sum  min\n",
       "Name                                                          \n",
       "Alice          3         2         3  2.666667  10.666667  2.0\n",
       "Bob            4         5         6  5.000000  20.000000  4.0\n",
       "Claudia        2         3         4  3.000000  12.000000  2.0"
      ]
     },
     "execution_count": 119,
     "metadata": {},
     "output_type": "execute_result"
    }
   ],
   "source": [
    "df_with_min"
   ]
  },
  {
   "cell_type": "markdown",
   "id": "41e2d10a",
   "metadata": {},
   "source": [
    "The `min` column displays the lowest score for each student across all subjects. This can be useful for quickly identifying a student's weakest subject or comparing performance across different students.\n",
    "\n",
    "Now, let's compare this with the original DataFrame:"
   ]
  },
  {
   "cell_type": "code",
   "execution_count": 121,
   "id": "32266c44",
   "metadata": {},
   "outputs": [
    {
     "data": {
      "text/html": [
       "<div>\n",
       "<style scoped>\n",
       "    .dataframe tbody tr th:only-of-type {\n",
       "        vertical-align: middle;\n",
       "    }\n",
       "\n",
       "    .dataframe tbody tr th {\n",
       "        vertical-align: top;\n",
       "    }\n",
       "\n",
       "    .dataframe thead th {\n",
       "        text-align: right;\n",
       "    }\n",
       "</style>\n",
       "<table border=\"1\" class=\"dataframe\">\n",
       "  <thead>\n",
       "    <tr style=\"text-align: right;\">\n",
       "      <th></th>\n",
       "      <th>Algebra</th>\n",
       "      <th>Geometry</th>\n",
       "      <th>Calculus</th>\n",
       "      <th>mean</th>\n",
       "      <th>sum</th>\n",
       "    </tr>\n",
       "    <tr>\n",
       "      <th>Name</th>\n",
       "      <th></th>\n",
       "      <th></th>\n",
       "      <th></th>\n",
       "      <th></th>\n",
       "      <th></th>\n",
       "    </tr>\n",
       "  </thead>\n",
       "  <tbody>\n",
       "    <tr>\n",
       "      <th>Alice</th>\n",
       "      <td>3</td>\n",
       "      <td>2</td>\n",
       "      <td>3</td>\n",
       "      <td>2.666667</td>\n",
       "      <td>10.666667</td>\n",
       "    </tr>\n",
       "    <tr>\n",
       "      <th>Bob</th>\n",
       "      <td>4</td>\n",
       "      <td>5</td>\n",
       "      <td>6</td>\n",
       "      <td>5.000000</td>\n",
       "      <td>20.000000</td>\n",
       "    </tr>\n",
       "    <tr>\n",
       "      <th>Claudia</th>\n",
       "      <td>2</td>\n",
       "      <td>3</td>\n",
       "      <td>4</td>\n",
       "      <td>3.000000</td>\n",
       "      <td>12.000000</td>\n",
       "    </tr>\n",
       "  </tbody>\n",
       "</table>\n",
       "</div>"
      ],
      "text/plain": [
       "         Algebra  Geometry  Calculus      mean        sum\n",
       "Name                                                     \n",
       "Alice          3         2         3  2.666667  10.666667\n",
       "Bob            4         5         6  5.000000  20.000000\n",
       "Claudia        2         3         4  3.000000  12.000000"
      ]
     },
     "execution_count": 121,
     "metadata": {},
     "output_type": "execute_result"
    }
   ],
   "source": [
    "df"
   ]
  },
  {
   "cell_type": "markdown",
   "id": "f01910ac",
   "metadata": {},
   "source": [
    "The original DataFrame remains unchanged, demonstrating that `assign()` creates a new DataFrame without modifying the existing one. This non-destructive approach is particularly useful when you want to preserve the original data while creating new derived columns for analysis.\n",
    "\n",
    "Now, let's filter the DataFrame to show only students with an Algebra score less than 3:"
   ]
  },
  {
   "cell_type": "code",
   "execution_count": 122,
   "id": "0ef32034",
   "metadata": {},
   "outputs": [
    {
     "data": {
      "text/html": [
       "<div>\n",
       "<style scoped>\n",
       "    .dataframe tbody tr th:only-of-type {\n",
       "        vertical-align: middle;\n",
       "    }\n",
       "\n",
       "    .dataframe tbody tr th {\n",
       "        vertical-align: top;\n",
       "    }\n",
       "\n",
       "    .dataframe thead th {\n",
       "        text-align: right;\n",
       "    }\n",
       "</style>\n",
       "<table border=\"1\" class=\"dataframe\">\n",
       "  <thead>\n",
       "    <tr style=\"text-align: right;\">\n",
       "      <th></th>\n",
       "      <th>Algebra</th>\n",
       "      <th>Geometry</th>\n",
       "      <th>Calculus</th>\n",
       "      <th>mean</th>\n",
       "      <th>sum</th>\n",
       "    </tr>\n",
       "    <tr>\n",
       "      <th>Name</th>\n",
       "      <th></th>\n",
       "      <th></th>\n",
       "      <th></th>\n",
       "      <th></th>\n",
       "      <th></th>\n",
       "    </tr>\n",
       "  </thead>\n",
       "  <tbody>\n",
       "    <tr>\n",
       "      <th>Claudia</th>\n",
       "      <td>2</td>\n",
       "      <td>3</td>\n",
       "      <td>4</td>\n",
       "      <td>3.0</td>\n",
       "      <td>12.0</td>\n",
       "    </tr>\n",
       "  </tbody>\n",
       "</table>\n",
       "</div>"
      ],
      "text/plain": [
       "         Algebra  Geometry  Calculus  mean   sum\n",
       "Name                                            \n",
       "Claudia        2         3         4   3.0  12.0"
      ]
     },
     "execution_count": 122,
     "metadata": {},
     "output_type": "execute_result"
    }
   ],
   "source": [
    "df[df[\"Algebra\"] < 3]"
   ]
  },
  {
   "cell_type": "markdown",
   "id": "b5fd74f4",
   "metadata": {},
   "source": [
    "Boolean indexing is a powerful feature in pandas that allows for efficient filtering of data. The condition `df['Algebra'] < 3` creates a boolean mask, which is then applied to the DataFrame to select only the rows where the condition is True.\n",
    "\n",
    "Let's examine the boolean mask created by this condition:"
   ]
  },
  {
   "cell_type": "code",
   "execution_count": 123,
   "id": "00e0125a",
   "metadata": {},
   "outputs": [
    {
     "data": {
      "text/plain": [
       "Name\n",
       "Alice      False\n",
       "Bob        False\n",
       "Claudia     True\n",
       "Name: Algebra, dtype: bool"
      ]
     },
     "execution_count": 123,
     "metadata": {},
     "output_type": "execute_result"
    }
   ],
   "source": [
    "df[\"Algebra\"] < 3"
   ]
  },
  {
   "cell_type": "markdown",
   "id": "ae3cca0d",
   "metadata": {},
   "source": [
    "The `assign()` method in pandas allows us to create new columns in a DataFrame. It can be combined with filtering to create new columns and then filter the results. In the following example, we create a new column 'min' and then filter for students with an Algebra score less than 4:"
   ]
  },
  {
   "cell_type": "code",
   "execution_count": 124,
   "id": "c22d0341",
   "metadata": {},
   "outputs": [
    {
     "data": {
      "text/html": [
       "<div>\n",
       "<style scoped>\n",
       "    .dataframe tbody tr th:only-of-type {\n",
       "        vertical-align: middle;\n",
       "    }\n",
       "\n",
       "    .dataframe tbody tr th {\n",
       "        vertical-align: top;\n",
       "    }\n",
       "\n",
       "    .dataframe thead th {\n",
       "        text-align: right;\n",
       "    }\n",
       "</style>\n",
       "<table border=\"1\" class=\"dataframe\">\n",
       "  <thead>\n",
       "    <tr style=\"text-align: right;\">\n",
       "      <th></th>\n",
       "      <th>Algebra</th>\n",
       "      <th>Geometry</th>\n",
       "      <th>Calculus</th>\n",
       "      <th>mean</th>\n",
       "      <th>sum</th>\n",
       "      <th>min</th>\n",
       "    </tr>\n",
       "    <tr>\n",
       "      <th>Name</th>\n",
       "      <th></th>\n",
       "      <th></th>\n",
       "      <th></th>\n",
       "      <th></th>\n",
       "      <th></th>\n",
       "      <th></th>\n",
       "    </tr>\n",
       "  </thead>\n",
       "  <tbody>\n",
       "    <tr>\n",
       "      <th>Alice</th>\n",
       "      <td>3</td>\n",
       "      <td>2</td>\n",
       "      <td>3</td>\n",
       "      <td>2.666667</td>\n",
       "      <td>10.666667</td>\n",
       "      <td>2.0</td>\n",
       "    </tr>\n",
       "    <tr>\n",
       "      <th>Claudia</th>\n",
       "      <td>2</td>\n",
       "      <td>3</td>\n",
       "      <td>4</td>\n",
       "      <td>3.000000</td>\n",
       "      <td>12.000000</td>\n",
       "      <td>2.0</td>\n",
       "    </tr>\n",
       "  </tbody>\n",
       "</table>\n",
       "</div>"
      ],
      "text/plain": [
       "         Algebra  Geometry  Calculus      mean        sum  min\n",
       "Name                                                          \n",
       "Alice          3         2         3  2.666667  10.666667  2.0\n",
       "Claudia        2         3         4  3.000000  12.000000  2.0"
      ]
     },
     "execution_count": 124,
     "metadata": {},
     "output_type": "execute_result"
    }
   ],
   "source": [
    "df.assign(min=df.min(axis=1))[lambda x: x[\"Algebra\"] < 4]"
   ]
  },
  {
   "cell_type": "markdown",
   "id": "909f648b",
   "metadata": {},
   "source": [
    "### Case study: IMDb-5000 dataset"
   ]
  },
  {
   "cell_type": "markdown",
   "id": "109ecad8",
   "metadata": {},
   "source": [
    "In this section, we'll be working with a new dataset containing movie metadata. We use the `pd.read_csv()` function to load the data from a URL directly into a pandas DataFrame called `df`.\n",
    "\n",
    "The dataset is sourced from GitHub and contains information about various movies. Let's examine its contents:"
   ]
  },
  {
   "cell_type": "code",
   "execution_count": 125,
   "id": "3bc215fa",
   "metadata": {},
   "outputs": [],
   "source": [
    "df = pd.read_csv(\n",
    "    \"https://github.com/anishshah23/IMDb-5000-Data-analysis/raw/master/movie_metadata.csv\"\n",
    ")"
   ]
  },
  {
   "cell_type": "markdown",
   "id": "50e62d4f",
   "metadata": {},
   "source": [
    "After loading the data, it's a good practice to inspect the DataFrame to understand its structure and contents. We can use methods like `head()`, `info()`, or `describe()` to get an overview of the data."
   ]
  },
  {
   "cell_type": "code",
   "execution_count": 126,
   "id": "6a40909f",
   "metadata": {},
   "outputs": [
    {
     "data": {
      "text/html": [
       "<div>\n",
       "<style scoped>\n",
       "    .dataframe tbody tr th:only-of-type {\n",
       "        vertical-align: middle;\n",
       "    }\n",
       "\n",
       "    .dataframe tbody tr th {\n",
       "        vertical-align: top;\n",
       "    }\n",
       "\n",
       "    .dataframe thead th {\n",
       "        text-align: right;\n",
       "    }\n",
       "</style>\n",
       "<table border=\"1\" class=\"dataframe\">\n",
       "  <thead>\n",
       "    <tr style=\"text-align: right;\">\n",
       "      <th></th>\n",
       "      <th>color</th>\n",
       "      <th>director_name</th>\n",
       "      <th>num_critic_for_reviews</th>\n",
       "      <th>duration</th>\n",
       "      <th>director_facebook_likes</th>\n",
       "      <th>actor_3_facebook_likes</th>\n",
       "      <th>actor_2_name</th>\n",
       "      <th>actor_1_facebook_likes</th>\n",
       "      <th>gross</th>\n",
       "      <th>genres</th>\n",
       "      <th>...</th>\n",
       "      <th>num_user_for_reviews</th>\n",
       "      <th>language</th>\n",
       "      <th>country</th>\n",
       "      <th>content_rating</th>\n",
       "      <th>budget</th>\n",
       "      <th>title_year</th>\n",
       "      <th>actor_2_facebook_likes</th>\n",
       "      <th>imdb_score</th>\n",
       "      <th>aspect_ratio</th>\n",
       "      <th>movie_facebook_likes</th>\n",
       "    </tr>\n",
       "  </thead>\n",
       "  <tbody>\n",
       "    <tr>\n",
       "      <th>0</th>\n",
       "      <td>Color</td>\n",
       "      <td>James Cameron</td>\n",
       "      <td>723.0</td>\n",
       "      <td>178.0</td>\n",
       "      <td>0.0</td>\n",
       "      <td>855.0</td>\n",
       "      <td>Joel David Moore</td>\n",
       "      <td>1000.0</td>\n",
       "      <td>760505847.0</td>\n",
       "      <td>Action|Adventure|Fantasy|Sci-Fi</td>\n",
       "      <td>...</td>\n",
       "      <td>3054.0</td>\n",
       "      <td>English</td>\n",
       "      <td>USA</td>\n",
       "      <td>PG-13</td>\n",
       "      <td>237000000.0</td>\n",
       "      <td>2009.0</td>\n",
       "      <td>936.0</td>\n",
       "      <td>7.9</td>\n",
       "      <td>1.78</td>\n",
       "      <td>33000</td>\n",
       "    </tr>\n",
       "    <tr>\n",
       "      <th>1</th>\n",
       "      <td>Color</td>\n",
       "      <td>Gore Verbinski</td>\n",
       "      <td>302.0</td>\n",
       "      <td>169.0</td>\n",
       "      <td>563.0</td>\n",
       "      <td>1000.0</td>\n",
       "      <td>Orlando Bloom</td>\n",
       "      <td>40000.0</td>\n",
       "      <td>309404152.0</td>\n",
       "      <td>Action|Adventure|Fantasy</td>\n",
       "      <td>...</td>\n",
       "      <td>1238.0</td>\n",
       "      <td>English</td>\n",
       "      <td>USA</td>\n",
       "      <td>PG-13</td>\n",
       "      <td>300000000.0</td>\n",
       "      <td>2007.0</td>\n",
       "      <td>5000.0</td>\n",
       "      <td>7.1</td>\n",
       "      <td>2.35</td>\n",
       "      <td>0</td>\n",
       "    </tr>\n",
       "    <tr>\n",
       "      <th>2</th>\n",
       "      <td>Color</td>\n",
       "      <td>Sam Mendes</td>\n",
       "      <td>602.0</td>\n",
       "      <td>148.0</td>\n",
       "      <td>0.0</td>\n",
       "      <td>161.0</td>\n",
       "      <td>Rory Kinnear</td>\n",
       "      <td>11000.0</td>\n",
       "      <td>200074175.0</td>\n",
       "      <td>Action|Adventure|Thriller</td>\n",
       "      <td>...</td>\n",
       "      <td>994.0</td>\n",
       "      <td>English</td>\n",
       "      <td>UK</td>\n",
       "      <td>PG-13</td>\n",
       "      <td>245000000.0</td>\n",
       "      <td>2015.0</td>\n",
       "      <td>393.0</td>\n",
       "      <td>6.8</td>\n",
       "      <td>2.35</td>\n",
       "      <td>85000</td>\n",
       "    </tr>\n",
       "    <tr>\n",
       "      <th>3</th>\n",
       "      <td>Color</td>\n",
       "      <td>Christopher Nolan</td>\n",
       "      <td>813.0</td>\n",
       "      <td>164.0</td>\n",
       "      <td>22000.0</td>\n",
       "      <td>23000.0</td>\n",
       "      <td>Christian Bale</td>\n",
       "      <td>27000.0</td>\n",
       "      <td>448130642.0</td>\n",
       "      <td>Action|Thriller</td>\n",
       "      <td>...</td>\n",
       "      <td>2701.0</td>\n",
       "      <td>English</td>\n",
       "      <td>USA</td>\n",
       "      <td>PG-13</td>\n",
       "      <td>250000000.0</td>\n",
       "      <td>2012.0</td>\n",
       "      <td>23000.0</td>\n",
       "      <td>8.5</td>\n",
       "      <td>2.35</td>\n",
       "      <td>164000</td>\n",
       "    </tr>\n",
       "    <tr>\n",
       "      <th>4</th>\n",
       "      <td>NaN</td>\n",
       "      <td>Doug Walker</td>\n",
       "      <td>NaN</td>\n",
       "      <td>NaN</td>\n",
       "      <td>131.0</td>\n",
       "      <td>NaN</td>\n",
       "      <td>Rob Walker</td>\n",
       "      <td>131.0</td>\n",
       "      <td>NaN</td>\n",
       "      <td>Documentary</td>\n",
       "      <td>...</td>\n",
       "      <td>NaN</td>\n",
       "      <td>NaN</td>\n",
       "      <td>NaN</td>\n",
       "      <td>NaN</td>\n",
       "      <td>NaN</td>\n",
       "      <td>NaN</td>\n",
       "      <td>12.0</td>\n",
       "      <td>7.1</td>\n",
       "      <td>NaN</td>\n",
       "      <td>0</td>\n",
       "    </tr>\n",
       "  </tbody>\n",
       "</table>\n",
       "<p>5 rows × 28 columns</p>\n",
       "</div>"
      ],
      "text/plain": [
       "   color      director_name  num_critic_for_reviews  duration  \\\n",
       "0  Color      James Cameron                   723.0     178.0   \n",
       "1  Color     Gore Verbinski                   302.0     169.0   \n",
       "2  Color         Sam Mendes                   602.0     148.0   \n",
       "3  Color  Christopher Nolan                   813.0     164.0   \n",
       "4    NaN        Doug Walker                     NaN       NaN   \n",
       "\n",
       "   director_facebook_likes  actor_3_facebook_likes      actor_2_name  \\\n",
       "0                      0.0                   855.0  Joel David Moore   \n",
       "1                    563.0                  1000.0     Orlando Bloom   \n",
       "2                      0.0                   161.0      Rory Kinnear   \n",
       "3                  22000.0                 23000.0    Christian Bale   \n",
       "4                    131.0                     NaN        Rob Walker   \n",
       "\n",
       "   actor_1_facebook_likes        gross                           genres  ...  \\\n",
       "0                  1000.0  760505847.0  Action|Adventure|Fantasy|Sci-Fi  ...   \n",
       "1                 40000.0  309404152.0         Action|Adventure|Fantasy  ...   \n",
       "2                 11000.0  200074175.0        Action|Adventure|Thriller  ...   \n",
       "3                 27000.0  448130642.0                  Action|Thriller  ...   \n",
       "4                   131.0          NaN                      Documentary  ...   \n",
       "\n",
       "  num_user_for_reviews language  country  content_rating       budget  \\\n",
       "0               3054.0  English      USA           PG-13  237000000.0   \n",
       "1               1238.0  English      USA           PG-13  300000000.0   \n",
       "2                994.0  English       UK           PG-13  245000000.0   \n",
       "3               2701.0  English      USA           PG-13  250000000.0   \n",
       "4                  NaN      NaN      NaN             NaN          NaN   \n",
       "\n",
       "   title_year actor_2_facebook_likes imdb_score  aspect_ratio  \\\n",
       "0      2009.0                  936.0        7.9          1.78   \n",
       "1      2007.0                 5000.0        7.1          2.35   \n",
       "2      2015.0                  393.0        6.8          2.35   \n",
       "3      2012.0                23000.0        8.5          2.35   \n",
       "4         NaN                   12.0        7.1           NaN   \n",
       "\n",
       "  movie_facebook_likes  \n",
       "0                33000  \n",
       "1                    0  \n",
       "2                85000  \n",
       "3               164000  \n",
       "4                    0  \n",
       "\n",
       "[5 rows x 28 columns]"
      ]
     },
     "execution_count": 126,
     "metadata": {},
     "output_type": "execute_result"
    }
   ],
   "source": [
    "df.head()"
   ]
  },
  {
   "cell_type": "markdown",
   "id": "348fb9a1",
   "metadata": {},
   "source": [
    "The `head()` method displays the first few rows of the DataFrame, giving us a glimpse of the movie metadata. This allows us to see the column names and the type of information stored in each column.\n",
    "\n",
    "Let's check the basic information about the DataFrame:"
   ]
  },
  {
   "cell_type": "code",
   "execution_count": 127,
   "id": "daa36d6d",
   "metadata": {},
   "outputs": [
    {
     "name": "stdout",
     "output_type": "stream",
     "text": [
      "<class 'pandas.core.frame.DataFrame'>\n",
      "RangeIndex: 5043 entries, 0 to 5042\n",
      "Data columns (total 28 columns):\n",
      " #   Column                     Non-Null Count  Dtype  \n",
      "---  ------                     --------------  -----  \n",
      " 0   color                      5024 non-null   object \n",
      " 1   director_name              4939 non-null   object \n",
      " 2   num_critic_for_reviews     4993 non-null   float64\n",
      " 3   duration                   5028 non-null   float64\n",
      " 4   director_facebook_likes    4939 non-null   float64\n",
      " 5   actor_3_facebook_likes     5020 non-null   float64\n",
      " 6   actor_2_name               5030 non-null   object \n",
      " 7   actor_1_facebook_likes     5036 non-null   float64\n",
      " 8   gross                      4159 non-null   float64\n",
      " 9   genres                     5043 non-null   object \n",
      " 10  actor_1_name               5036 non-null   object \n",
      " 11  movie_title                5043 non-null   object \n",
      " 12  num_voted_users            5043 non-null   int64  \n",
      " 13  cast_total_facebook_likes  5043 non-null   int64  \n",
      " 14  actor_3_name               5020 non-null   object \n",
      " 15  facenumber_in_poster       5030 non-null   float64\n",
      " 16  plot_keywords              4890 non-null   object \n",
      " 17  movie_imdb_link            5043 non-null   object \n",
      " 18  num_user_for_reviews       5022 non-null   float64\n",
      " 19  language                   5029 non-null   object \n",
      " 20  country                    5038 non-null   object \n",
      " 21  content_rating             4740 non-null   object \n",
      " 22  budget                     4551 non-null   float64\n",
      " 23  title_year                 4935 non-null   float64\n",
      " 24  actor_2_facebook_likes     5030 non-null   float64\n",
      " 25  imdb_score                 5043 non-null   float64\n",
      " 26  aspect_ratio               4714 non-null   float64\n",
      " 27  movie_facebook_likes       5043 non-null   int64  \n",
      "dtypes: float64(13), int64(3), object(12)\n",
      "memory usage: 1.1+ MB\n"
     ]
    }
   ],
   "source": [
    "df.info()"
   ]
  },
  {
   "cell_type": "markdown",
   "id": "83724c12",
   "metadata": {},
   "source": [
    "The `info()` method provides a concise summary of the DataFrame, including the number of non-null values in each column and their data types. This is useful for identifying potential missing data or unexpected data types.\n",
    "\n",
    "To get a more detailed view of the data types for each column, we can use the `dtypes` attribute:"
   ]
  },
  {
   "cell_type": "code",
   "execution_count": 128,
   "id": "3bec6ee0",
   "metadata": {},
   "outputs": [
    {
     "data": {
      "text/plain": [
       "color                         object\n",
       "director_name                 object\n",
       "num_critic_for_reviews       float64\n",
       "duration                     float64\n",
       "director_facebook_likes      float64\n",
       "actor_3_facebook_likes       float64\n",
       "actor_2_name                  object\n",
       "actor_1_facebook_likes       float64\n",
       "gross                        float64\n",
       "genres                        object\n",
       "actor_1_name                  object\n",
       "movie_title                   object\n",
       "num_voted_users                int64\n",
       "cast_total_facebook_likes      int64\n",
       "actor_3_name                  object\n",
       "facenumber_in_poster         float64\n",
       "plot_keywords                 object\n",
       "movie_imdb_link               object\n",
       "num_user_for_reviews         float64\n",
       "language                      object\n",
       "country                       object\n",
       "content_rating                object\n",
       "budget                       float64\n",
       "title_year                   float64\n",
       "actor_2_facebook_likes       float64\n",
       "imdb_score                   float64\n",
       "aspect_ratio                 float64\n",
       "movie_facebook_likes           int64\n",
       "dtype: object"
      ]
     },
     "execution_count": 128,
     "metadata": {},
     "output_type": "execute_result"
    }
   ],
   "source": [
    "df.dtypes"
   ]
  },
  {
   "cell_type": "markdown",
   "id": "b354cc60",
   "metadata": {},
   "source": [
    "The `dtypes` attribute shows the data type of each column in the DataFrame. This is particularly useful for understanding how pandas has interpreted our data. We can see that:\n",
    "\n",
    "- Categorical data like `color`, `director_name`, and `genres` are stored as `object` data type, which is pandas' way of handling string data.\n",
    "- Numerical data like `num_critic_for_reviews`, `duration`, and `gross` are stored as `float64`, which allows for decimal values.\n",
    "- Some integer data like `num_voted_users` and `cast_total_facebook_likes` are stored as `int64`.\n",
    "\n",
    "Understanding these data types is crucial for further data manipulation and analysis, as certain operations may require specific data types. For example, statistical operations typically work with numerical data types, while text processing functions work with object (string) data types.\n",
    "\n",
    "Let's take a closer look at the detailed output of `info()`:"
   ]
  },
  {
   "cell_type": "code",
   "execution_count": 129,
   "id": "ae090455",
   "metadata": {},
   "outputs": [
    {
     "name": "stdout",
     "output_type": "stream",
     "text": [
      "<class 'pandas.core.frame.DataFrame'>\n",
      "RangeIndex: 5043 entries, 0 to 5042\n",
      "Data columns (total 28 columns):\n",
      " #   Column                     Non-Null Count  Dtype  \n",
      "---  ------                     --------------  -----  \n",
      " 0   color                      5024 non-null   object \n",
      " 1   director_name              4939 non-null   object \n",
      " 2   num_critic_for_reviews     4993 non-null   float64\n",
      " 3   duration                   5028 non-null   float64\n",
      " 4   director_facebook_likes    4939 non-null   float64\n",
      " 5   actor_3_facebook_likes     5020 non-null   float64\n",
      " 6   actor_2_name               5030 non-null   object \n",
      " 7   actor_1_facebook_likes     5036 non-null   float64\n",
      " 8   gross                      4159 non-null   float64\n",
      " 9   genres                     5043 non-null   object \n",
      " 10  actor_1_name               5036 non-null   object \n",
      " 11  movie_title                5043 non-null   object \n",
      " 12  num_voted_users            5043 non-null   int64  \n",
      " 13  cast_total_facebook_likes  5043 non-null   int64  \n",
      " 14  actor_3_name               5020 non-null   object \n",
      " 15  facenumber_in_poster       5030 non-null   float64\n",
      " 16  plot_keywords              4890 non-null   object \n",
      " 17  movie_imdb_link            5043 non-null   object \n",
      " 18  num_user_for_reviews       5022 non-null   float64\n",
      " 19  language                   5029 non-null   object \n",
      " 20  country                    5038 non-null   object \n",
      " 21  content_rating             4740 non-null   object \n",
      " 22  budget                     4551 non-null   float64\n",
      " 23  title_year                 4935 non-null   float64\n",
      " 24  actor_2_facebook_likes     5030 non-null   float64\n",
      " 25  imdb_score                 5043 non-null   float64\n",
      " 26  aspect_ratio               4714 non-null   float64\n",
      " 27  movie_facebook_likes       5043 non-null   int64  \n",
      "dtypes: float64(13), int64(3), object(12)\n",
      "memory usage: 1.1+ MB\n"
     ]
    }
   ],
   "source": [
    "df.info()"
   ]
  },
  {
   "cell_type": "markdown",
   "id": "a7103168",
   "metadata": {},
   "source": [
    "The `info()` method provides a concise summary of the DataFrame, including the number of non-null values and data types for each column. This is particularly useful for identifying missing data and understanding the structure of our dataset.\n",
    "\n",
    "We can see that we have 5043 entries (rows) and 28 columns. The 'Non-Null Count' shows how many non-null values exist for each feature, helping us identify columns with missing data. For example, `budget` has 4551 non-null values, indicating that some movies lack budget information.\n",
    "\n",
    "This information is crucial for data preprocessing. We might need to handle missing values or consider converting some `float64` columns to `int64` if they represent whole numbers (e.g., `title_year`)."
   ]
  },
  {
   "cell_type": "code",
   "execution_count": 130,
   "id": "88e7398d",
   "metadata": {},
   "outputs": [
    {
     "data": {
      "text/html": [
       "<div>\n",
       "<style scoped>\n",
       "    .dataframe tbody tr th:only-of-type {\n",
       "        vertical-align: middle;\n",
       "    }\n",
       "\n",
       "    .dataframe tbody tr th {\n",
       "        vertical-align: top;\n",
       "    }\n",
       "\n",
       "    .dataframe thead th {\n",
       "        text-align: right;\n",
       "    }\n",
       "</style>\n",
       "<table border=\"1\" class=\"dataframe\">\n",
       "  <thead>\n",
       "    <tr style=\"text-align: right;\">\n",
       "      <th></th>\n",
       "      <th>color</th>\n",
       "      <th>director_name</th>\n",
       "      <th>num_critic_for_reviews</th>\n",
       "      <th>duration</th>\n",
       "      <th>director_facebook_likes</th>\n",
       "      <th>actor_3_facebook_likes</th>\n",
       "      <th>actor_2_name</th>\n",
       "      <th>actor_1_facebook_likes</th>\n",
       "      <th>gross</th>\n",
       "      <th>genres</th>\n",
       "      <th>...</th>\n",
       "      <th>num_user_for_reviews</th>\n",
       "      <th>language</th>\n",
       "      <th>country</th>\n",
       "      <th>content_rating</th>\n",
       "      <th>budget</th>\n",
       "      <th>title_year</th>\n",
       "      <th>actor_2_facebook_likes</th>\n",
       "      <th>imdb_score</th>\n",
       "      <th>aspect_ratio</th>\n",
       "      <th>movie_facebook_likes</th>\n",
       "    </tr>\n",
       "  </thead>\n",
       "  <tbody>\n",
       "    <tr>\n",
       "      <th>0</th>\n",
       "      <td>Color</td>\n",
       "      <td>James Cameron</td>\n",
       "      <td>723.0</td>\n",
       "      <td>178.0</td>\n",
       "      <td>0.0</td>\n",
       "      <td>855.0</td>\n",
       "      <td>Joel David Moore</td>\n",
       "      <td>1000.0</td>\n",
       "      <td>760505847.0</td>\n",
       "      <td>Action|Adventure|Fantasy|Sci-Fi</td>\n",
       "      <td>...</td>\n",
       "      <td>3054.0</td>\n",
       "      <td>English</td>\n",
       "      <td>USA</td>\n",
       "      <td>PG-13</td>\n",
       "      <td>237000000.0</td>\n",
       "      <td>2009.0</td>\n",
       "      <td>936.0</td>\n",
       "      <td>7.9</td>\n",
       "      <td>1.78</td>\n",
       "      <td>33000</td>\n",
       "    </tr>\n",
       "    <tr>\n",
       "      <th>1</th>\n",
       "      <td>Color</td>\n",
       "      <td>Gore Verbinski</td>\n",
       "      <td>302.0</td>\n",
       "      <td>169.0</td>\n",
       "      <td>563.0</td>\n",
       "      <td>1000.0</td>\n",
       "      <td>Orlando Bloom</td>\n",
       "      <td>40000.0</td>\n",
       "      <td>309404152.0</td>\n",
       "      <td>Action|Adventure|Fantasy</td>\n",
       "      <td>...</td>\n",
       "      <td>1238.0</td>\n",
       "      <td>English</td>\n",
       "      <td>USA</td>\n",
       "      <td>PG-13</td>\n",
       "      <td>300000000.0</td>\n",
       "      <td>2007.0</td>\n",
       "      <td>5000.0</td>\n",
       "      <td>7.1</td>\n",
       "      <td>2.35</td>\n",
       "      <td>0</td>\n",
       "    </tr>\n",
       "    <tr>\n",
       "      <th>2</th>\n",
       "      <td>Color</td>\n",
       "      <td>Sam Mendes</td>\n",
       "      <td>602.0</td>\n",
       "      <td>148.0</td>\n",
       "      <td>0.0</td>\n",
       "      <td>161.0</td>\n",
       "      <td>Rory Kinnear</td>\n",
       "      <td>11000.0</td>\n",
       "      <td>200074175.0</td>\n",
       "      <td>Action|Adventure|Thriller</td>\n",
       "      <td>...</td>\n",
       "      <td>994.0</td>\n",
       "      <td>English</td>\n",
       "      <td>UK</td>\n",
       "      <td>PG-13</td>\n",
       "      <td>245000000.0</td>\n",
       "      <td>2015.0</td>\n",
       "      <td>393.0</td>\n",
       "      <td>6.8</td>\n",
       "      <td>2.35</td>\n",
       "      <td>85000</td>\n",
       "    </tr>\n",
       "    <tr>\n",
       "      <th>3</th>\n",
       "      <td>Color</td>\n",
       "      <td>Christopher Nolan</td>\n",
       "      <td>813.0</td>\n",
       "      <td>164.0</td>\n",
       "      <td>22000.0</td>\n",
       "      <td>23000.0</td>\n",
       "      <td>Christian Bale</td>\n",
       "      <td>27000.0</td>\n",
       "      <td>448130642.0</td>\n",
       "      <td>Action|Thriller</td>\n",
       "      <td>...</td>\n",
       "      <td>2701.0</td>\n",
       "      <td>English</td>\n",
       "      <td>USA</td>\n",
       "      <td>PG-13</td>\n",
       "      <td>250000000.0</td>\n",
       "      <td>2012.0</td>\n",
       "      <td>23000.0</td>\n",
       "      <td>8.5</td>\n",
       "      <td>2.35</td>\n",
       "      <td>164000</td>\n",
       "    </tr>\n",
       "    <tr>\n",
       "      <th>4</th>\n",
       "      <td>NaN</td>\n",
       "      <td>Doug Walker</td>\n",
       "      <td>NaN</td>\n",
       "      <td>NaN</td>\n",
       "      <td>131.0</td>\n",
       "      <td>NaN</td>\n",
       "      <td>Rob Walker</td>\n",
       "      <td>131.0</td>\n",
       "      <td>NaN</td>\n",
       "      <td>Documentary</td>\n",
       "      <td>...</td>\n",
       "      <td>NaN</td>\n",
       "      <td>NaN</td>\n",
       "      <td>NaN</td>\n",
       "      <td>NaN</td>\n",
       "      <td>NaN</td>\n",
       "      <td>NaN</td>\n",
       "      <td>12.0</td>\n",
       "      <td>7.1</td>\n",
       "      <td>NaN</td>\n",
       "      <td>0</td>\n",
       "    </tr>\n",
       "    <tr>\n",
       "      <th>...</th>\n",
       "      <td>...</td>\n",
       "      <td>...</td>\n",
       "      <td>...</td>\n",
       "      <td>...</td>\n",
       "      <td>...</td>\n",
       "      <td>...</td>\n",
       "      <td>...</td>\n",
       "      <td>...</td>\n",
       "      <td>...</td>\n",
       "      <td>...</td>\n",
       "      <td>...</td>\n",
       "      <td>...</td>\n",
       "      <td>...</td>\n",
       "      <td>...</td>\n",
       "      <td>...</td>\n",
       "      <td>...</td>\n",
       "      <td>...</td>\n",
       "      <td>...</td>\n",
       "      <td>...</td>\n",
       "      <td>...</td>\n",
       "      <td>...</td>\n",
       "    </tr>\n",
       "    <tr>\n",
       "      <th>5038</th>\n",
       "      <td>Color</td>\n",
       "      <td>Scott Smith</td>\n",
       "      <td>1.0</td>\n",
       "      <td>87.0</td>\n",
       "      <td>2.0</td>\n",
       "      <td>318.0</td>\n",
       "      <td>Daphne Zuniga</td>\n",
       "      <td>637.0</td>\n",
       "      <td>NaN</td>\n",
       "      <td>Comedy|Drama</td>\n",
       "      <td>...</td>\n",
       "      <td>6.0</td>\n",
       "      <td>English</td>\n",
       "      <td>Canada</td>\n",
       "      <td>NaN</td>\n",
       "      <td>NaN</td>\n",
       "      <td>2013.0</td>\n",
       "      <td>470.0</td>\n",
       "      <td>7.7</td>\n",
       "      <td>NaN</td>\n",
       "      <td>84</td>\n",
       "    </tr>\n",
       "    <tr>\n",
       "      <th>5039</th>\n",
       "      <td>Color</td>\n",
       "      <td>NaN</td>\n",
       "      <td>43.0</td>\n",
       "      <td>43.0</td>\n",
       "      <td>NaN</td>\n",
       "      <td>319.0</td>\n",
       "      <td>Valorie Curry</td>\n",
       "      <td>841.0</td>\n",
       "      <td>NaN</td>\n",
       "      <td>Crime|Drama|Mystery|Thriller</td>\n",
       "      <td>...</td>\n",
       "      <td>359.0</td>\n",
       "      <td>English</td>\n",
       "      <td>USA</td>\n",
       "      <td>TV-14</td>\n",
       "      <td>NaN</td>\n",
       "      <td>NaN</td>\n",
       "      <td>593.0</td>\n",
       "      <td>7.5</td>\n",
       "      <td>16.00</td>\n",
       "      <td>32000</td>\n",
       "    </tr>\n",
       "    <tr>\n",
       "      <th>5040</th>\n",
       "      <td>Color</td>\n",
       "      <td>Benjamin Roberds</td>\n",
       "      <td>13.0</td>\n",
       "      <td>76.0</td>\n",
       "      <td>0.0</td>\n",
       "      <td>0.0</td>\n",
       "      <td>Maxwell Moody</td>\n",
       "      <td>0.0</td>\n",
       "      <td>NaN</td>\n",
       "      <td>Drama|Horror|Thriller</td>\n",
       "      <td>...</td>\n",
       "      <td>3.0</td>\n",
       "      <td>English</td>\n",
       "      <td>USA</td>\n",
       "      <td>NaN</td>\n",
       "      <td>1400.0</td>\n",
       "      <td>2013.0</td>\n",
       "      <td>0.0</td>\n",
       "      <td>6.3</td>\n",
       "      <td>NaN</td>\n",
       "      <td>16</td>\n",
       "    </tr>\n",
       "    <tr>\n",
       "      <th>5041</th>\n",
       "      <td>Color</td>\n",
       "      <td>Daniel Hsia</td>\n",
       "      <td>14.0</td>\n",
       "      <td>100.0</td>\n",
       "      <td>0.0</td>\n",
       "      <td>489.0</td>\n",
       "      <td>Daniel Henney</td>\n",
       "      <td>946.0</td>\n",
       "      <td>10443.0</td>\n",
       "      <td>Comedy|Drama|Romance</td>\n",
       "      <td>...</td>\n",
       "      <td>9.0</td>\n",
       "      <td>English</td>\n",
       "      <td>USA</td>\n",
       "      <td>PG-13</td>\n",
       "      <td>NaN</td>\n",
       "      <td>2012.0</td>\n",
       "      <td>719.0</td>\n",
       "      <td>6.3</td>\n",
       "      <td>2.35</td>\n",
       "      <td>660</td>\n",
       "    </tr>\n",
       "    <tr>\n",
       "      <th>5042</th>\n",
       "      <td>Color</td>\n",
       "      <td>Jon Gunn</td>\n",
       "      <td>43.0</td>\n",
       "      <td>90.0</td>\n",
       "      <td>16.0</td>\n",
       "      <td>16.0</td>\n",
       "      <td>Brian Herzlinger</td>\n",
       "      <td>86.0</td>\n",
       "      <td>85222.0</td>\n",
       "      <td>Documentary</td>\n",
       "      <td>...</td>\n",
       "      <td>84.0</td>\n",
       "      <td>English</td>\n",
       "      <td>USA</td>\n",
       "      <td>PG</td>\n",
       "      <td>1100.0</td>\n",
       "      <td>2004.0</td>\n",
       "      <td>23.0</td>\n",
       "      <td>6.6</td>\n",
       "      <td>1.85</td>\n",
       "      <td>456</td>\n",
       "    </tr>\n",
       "  </tbody>\n",
       "</table>\n",
       "<p>5043 rows × 28 columns</p>\n",
       "</div>"
      ],
      "text/plain": [
       "      color      director_name  num_critic_for_reviews  duration  \\\n",
       "0     Color      James Cameron                   723.0     178.0   \n",
       "1     Color     Gore Verbinski                   302.0     169.0   \n",
       "2     Color         Sam Mendes                   602.0     148.0   \n",
       "3     Color  Christopher Nolan                   813.0     164.0   \n",
       "4       NaN        Doug Walker                     NaN       NaN   \n",
       "...     ...                ...                     ...       ...   \n",
       "5038  Color        Scott Smith                     1.0      87.0   \n",
       "5039  Color                NaN                    43.0      43.0   \n",
       "5040  Color   Benjamin Roberds                    13.0      76.0   \n",
       "5041  Color        Daniel Hsia                    14.0     100.0   \n",
       "5042  Color           Jon Gunn                    43.0      90.0   \n",
       "\n",
       "      director_facebook_likes  actor_3_facebook_likes      actor_2_name  \\\n",
       "0                         0.0                   855.0  Joel David Moore   \n",
       "1                       563.0                  1000.0     Orlando Bloom   \n",
       "2                         0.0                   161.0      Rory Kinnear   \n",
       "3                     22000.0                 23000.0    Christian Bale   \n",
       "4                       131.0                     NaN        Rob Walker   \n",
       "...                       ...                     ...               ...   \n",
       "5038                      2.0                   318.0     Daphne Zuniga   \n",
       "5039                      NaN                   319.0     Valorie Curry   \n",
       "5040                      0.0                     0.0     Maxwell Moody   \n",
       "5041                      0.0                   489.0     Daniel Henney   \n",
       "5042                     16.0                    16.0  Brian Herzlinger   \n",
       "\n",
       "      actor_1_facebook_likes        gross                           genres  \\\n",
       "0                     1000.0  760505847.0  Action|Adventure|Fantasy|Sci-Fi   \n",
       "1                    40000.0  309404152.0         Action|Adventure|Fantasy   \n",
       "2                    11000.0  200074175.0        Action|Adventure|Thriller   \n",
       "3                    27000.0  448130642.0                  Action|Thriller   \n",
       "4                      131.0          NaN                      Documentary   \n",
       "...                      ...          ...                              ...   \n",
       "5038                   637.0          NaN                     Comedy|Drama   \n",
       "5039                   841.0          NaN     Crime|Drama|Mystery|Thriller   \n",
       "5040                     0.0          NaN            Drama|Horror|Thriller   \n",
       "5041                   946.0      10443.0             Comedy|Drama|Romance   \n",
       "5042                    86.0      85222.0                      Documentary   \n",
       "\n",
       "      ... num_user_for_reviews language  country  content_rating       budget  \\\n",
       "0     ...               3054.0  English      USA           PG-13  237000000.0   \n",
       "1     ...               1238.0  English      USA           PG-13  300000000.0   \n",
       "2     ...                994.0  English       UK           PG-13  245000000.0   \n",
       "3     ...               2701.0  English      USA           PG-13  250000000.0   \n",
       "4     ...                  NaN      NaN      NaN             NaN          NaN   \n",
       "...   ...                  ...      ...      ...             ...          ...   \n",
       "5038  ...                  6.0  English   Canada             NaN          NaN   \n",
       "5039  ...                359.0  English      USA           TV-14          NaN   \n",
       "5040  ...                  3.0  English      USA             NaN       1400.0   \n",
       "5041  ...                  9.0  English      USA           PG-13          NaN   \n",
       "5042  ...                 84.0  English      USA              PG       1100.0   \n",
       "\n",
       "      title_year actor_2_facebook_likes imdb_score  aspect_ratio  \\\n",
       "0         2009.0                  936.0        7.9          1.78   \n",
       "1         2007.0                 5000.0        7.1          2.35   \n",
       "2         2015.0                  393.0        6.8          2.35   \n",
       "3         2012.0                23000.0        8.5          2.35   \n",
       "4            NaN                   12.0        7.1           NaN   \n",
       "...          ...                    ...        ...           ...   \n",
       "5038      2013.0                  470.0        7.7           NaN   \n",
       "5039         NaN                  593.0        7.5         16.00   \n",
       "5040      2013.0                    0.0        6.3           NaN   \n",
       "5041      2012.0                  719.0        6.3          2.35   \n",
       "5042      2004.0                   23.0        6.6          1.85   \n",
       "\n",
       "     movie_facebook_likes  \n",
       "0                   33000  \n",
       "1                       0  \n",
       "2                   85000  \n",
       "3                  164000  \n",
       "4                       0  \n",
       "...                   ...  \n",
       "5038                   84  \n",
       "5039                32000  \n",
       "5040                   16  \n",
       "5041                  660  \n",
       "5042                  456  \n",
       "\n",
       "[5043 rows x 28 columns]"
      ]
     },
     "execution_count": 130,
     "metadata": {},
     "output_type": "execute_result"
    }
   ],
   "source": [
    "df"
   ]
  },
  {
   "cell_type": "markdown",
   "id": "17d98e0a",
   "metadata": {},
   "source": [
    "The output of `df` displays the entire DataFrame, giving us a comprehensive view of our movie dataset. Each row represents a unique movie, and each column represents a specific attribute of the movie.\n",
    "\n",
    "The `genres` column contains multiple genres separated by '|', indicating that movies can belong to multiple categories. This might require special handling if we want to analyze movies by genre, such as splitting the genres into separate columns or using text processing techniques.\n",
    "\n",
    "The `imdb_score` column provides the IMDb rating for each movie, which could be a key metric for analysis. We might want to explore the relationship between this score and other features like budget, director, or release year."
   ]
  },
  {
   "cell_type": "code",
   "execution_count": 131,
   "id": "3c338e38",
   "metadata": {},
   "outputs": [
    {
     "data": {
      "text/plain": [
       "color\n",
       "Color               4815\n",
       " Black and White     209\n",
       "NaN                   19\n",
       "Name: count, dtype: int64"
      ]
     },
     "execution_count": 131,
     "metadata": {},
     "output_type": "execute_result"
    }
   ],
   "source": [
    "df[\"color\"].value_counts(dropna=False)"
   ]
  },
  {
   "cell_type": "markdown",
   "id": "fd75e08e",
   "metadata": {},
   "source": [
    "Let's analyze the distribution of movie colors in our dataset using the `value_counts()` method."
   ]
  },
  {
   "cell_type": "code",
   "execution_count": 132,
   "id": "6f89f249",
   "metadata": {},
   "outputs": [
    {
     "name": "stdout",
     "output_type": "stream",
     "text": [
      "color\n",
      "Color               4815\n",
      " Black and White     209\n",
      "NaN                   19\n",
      "Name: count, dtype: int64\n"
     ]
    }
   ],
   "source": [
    "print(df[\"color\"].value_counts(dropna=False))"
   ]
  },
  {
   "cell_type": "markdown",
   "id": "42089bdd",
   "metadata": {},
   "source": [
    "The `value_counts()` method counts the occurrences of each unique value in the `color` column. The `dropna=False` parameter ensures that NaN (missing) values are included in the count.\n",
    "\n",
    "From the output, we can observe:\n",
    "- The majority of movies (4815) are in color\n",
    "- 209 movies are in black and white\n",
    "- 19 movies have missing color information (NaN)\n",
    "\n",
    "This distribution gives us insight into the prevalence of color in our movie dataset and identifies the presence of missing values. We might consider how to handle these missing values in our subsequent analysis."
   ]
  },
  {
   "cell_type": "code",
   "execution_count": 133,
   "id": "799b640f",
   "metadata": {},
   "outputs": [
    {
     "data": {
      "text/html": [
       "<div>\n",
       "<style scoped>\n",
       "    .dataframe tbody tr th:only-of-type {\n",
       "        vertical-align: middle;\n",
       "    }\n",
       "\n",
       "    .dataframe tbody tr th {\n",
       "        vertical-align: top;\n",
       "    }\n",
       "\n",
       "    .dataframe thead th {\n",
       "        text-align: right;\n",
       "    }\n",
       "</style>\n",
       "<table border=\"1\" class=\"dataframe\">\n",
       "  <thead>\n",
       "    <tr style=\"text-align: right;\">\n",
       "      <th></th>\n",
       "      <th>color</th>\n",
       "      <th>director_name</th>\n",
       "      <th>num_critic_for_reviews</th>\n",
       "      <th>duration</th>\n",
       "      <th>director_facebook_likes</th>\n",
       "      <th>actor_3_facebook_likes</th>\n",
       "      <th>actor_2_name</th>\n",
       "      <th>actor_1_facebook_likes</th>\n",
       "      <th>gross</th>\n",
       "      <th>genres</th>\n",
       "      <th>...</th>\n",
       "      <th>num_user_for_reviews</th>\n",
       "      <th>language</th>\n",
       "      <th>country</th>\n",
       "      <th>content_rating</th>\n",
       "      <th>budget</th>\n",
       "      <th>title_year</th>\n",
       "      <th>actor_2_facebook_likes</th>\n",
       "      <th>imdb_score</th>\n",
       "      <th>aspect_ratio</th>\n",
       "      <th>movie_facebook_likes</th>\n",
       "    </tr>\n",
       "  </thead>\n",
       "  <tbody>\n",
       "  </tbody>\n",
       "</table>\n",
       "<p>0 rows × 28 columns</p>\n",
       "</div>"
      ],
      "text/plain": [
       "Empty DataFrame\n",
       "Columns: [color, director_name, num_critic_for_reviews, duration, director_facebook_likes, actor_3_facebook_likes, actor_2_name, actor_1_facebook_likes, gross, genres, actor_1_name, movie_title, num_voted_users, cast_total_facebook_likes, actor_3_name, facenumber_in_poster, plot_keywords, movie_imdb_link, num_user_for_reviews, language, country, content_rating, budget, title_year, actor_2_facebook_likes, imdb_score, aspect_ratio, movie_facebook_likes]\n",
       "Index: []\n",
       "\n",
       "[0 rows x 28 columns]"
      ]
     },
     "execution_count": 133,
     "metadata": {},
     "output_type": "execute_result"
    }
   ],
   "source": [
    "df.query('color == \"Black and White\"')"
   ]
  },
  {
   "cell_type": "markdown",
   "id": "7fe78163",
   "metadata": {},
   "source": [
    "We encountered an issue when trying to filter the DataFrame for \"Black and White\" movies using the `query()` method. Let's investigate further."
   ]
  },
  {
   "cell_type": "code",
   "execution_count": 134,
   "id": "25c52ae2",
   "metadata": {},
   "outputs": [
    {
     "data": {
      "text/html": [
       "<div>\n",
       "<style scoped>\n",
       "    .dataframe tbody tr th:only-of-type {\n",
       "        vertical-align: middle;\n",
       "    }\n",
       "\n",
       "    .dataframe tbody tr th {\n",
       "        vertical-align: top;\n",
       "    }\n",
       "\n",
       "    .dataframe thead th {\n",
       "        text-align: right;\n",
       "    }\n",
       "</style>\n",
       "<table border=\"1\" class=\"dataframe\">\n",
       "  <thead>\n",
       "    <tr style=\"text-align: right;\">\n",
       "      <th></th>\n",
       "      <th>color</th>\n",
       "      <th>director_name</th>\n",
       "      <th>num_critic_for_reviews</th>\n",
       "      <th>duration</th>\n",
       "      <th>director_facebook_likes</th>\n",
       "      <th>actor_3_facebook_likes</th>\n",
       "      <th>actor_2_name</th>\n",
       "      <th>actor_1_facebook_likes</th>\n",
       "      <th>gross</th>\n",
       "      <th>genres</th>\n",
       "      <th>...</th>\n",
       "      <th>num_user_for_reviews</th>\n",
       "      <th>language</th>\n",
       "      <th>country</th>\n",
       "      <th>content_rating</th>\n",
       "      <th>budget</th>\n",
       "      <th>title_year</th>\n",
       "      <th>actor_2_facebook_likes</th>\n",
       "      <th>imdb_score</th>\n",
       "      <th>aspect_ratio</th>\n",
       "      <th>movie_facebook_likes</th>\n",
       "    </tr>\n",
       "  </thead>\n",
       "  <tbody>\n",
       "    <tr>\n",
       "      <th>111</th>\n",
       "      <td>Black and White</td>\n",
       "      <td>Michael Bay</td>\n",
       "      <td>191.0</td>\n",
       "      <td>184.0</td>\n",
       "      <td>0.0</td>\n",
       "      <td>691.0</td>\n",
       "      <td>Jaime King</td>\n",
       "      <td>3000.0</td>\n",
       "      <td>198539855.0</td>\n",
       "      <td>Action|Drama|History|Romance|War</td>\n",
       "      <td>...</td>\n",
       "      <td>1999.0</td>\n",
       "      <td>English</td>\n",
       "      <td>USA</td>\n",
       "      <td>PG-13</td>\n",
       "      <td>140000000.0</td>\n",
       "      <td>2001.0</td>\n",
       "      <td>961.0</td>\n",
       "      <td>6.1</td>\n",
       "      <td>2.35</td>\n",
       "      <td>0</td>\n",
       "    </tr>\n",
       "    <tr>\n",
       "      <th>149</th>\n",
       "      <td>Black and White</td>\n",
       "      <td>Lee Tamahori</td>\n",
       "      <td>264.0</td>\n",
       "      <td>133.0</td>\n",
       "      <td>93.0</td>\n",
       "      <td>746.0</td>\n",
       "      <td>Colin Salmon</td>\n",
       "      <td>769.0</td>\n",
       "      <td>160201106.0</td>\n",
       "      <td>Action|Adventure|Thriller</td>\n",
       "      <td>...</td>\n",
       "      <td>1185.0</td>\n",
       "      <td>English</td>\n",
       "      <td>UK</td>\n",
       "      <td>PG-13</td>\n",
       "      <td>142000000.0</td>\n",
       "      <td>2002.0</td>\n",
       "      <td>766.0</td>\n",
       "      <td>6.1</td>\n",
       "      <td>2.35</td>\n",
       "      <td>0</td>\n",
       "    </tr>\n",
       "    <tr>\n",
       "      <th>257</th>\n",
       "      <td>Black and White</td>\n",
       "      <td>Martin Scorsese</td>\n",
       "      <td>267.0</td>\n",
       "      <td>170.0</td>\n",
       "      <td>17000.0</td>\n",
       "      <td>827.0</td>\n",
       "      <td>Adam Scott</td>\n",
       "      <td>29000.0</td>\n",
       "      <td>102608827.0</td>\n",
       "      <td>Biography|Drama</td>\n",
       "      <td>...</td>\n",
       "      <td>799.0</td>\n",
       "      <td>English</td>\n",
       "      <td>USA</td>\n",
       "      <td>PG-13</td>\n",
       "      <td>110000000.0</td>\n",
       "      <td>2004.0</td>\n",
       "      <td>3000.0</td>\n",
       "      <td>7.5</td>\n",
       "      <td>2.35</td>\n",
       "      <td>0</td>\n",
       "    </tr>\n",
       "    <tr>\n",
       "      <th>272</th>\n",
       "      <td>Black and White</td>\n",
       "      <td>Michael Mann</td>\n",
       "      <td>174.0</td>\n",
       "      <td>165.0</td>\n",
       "      <td>0.0</td>\n",
       "      <td>780.0</td>\n",
       "      <td>Jada Pinkett Smith</td>\n",
       "      <td>10000.0</td>\n",
       "      <td>58183966.0</td>\n",
       "      <td>Biography|Drama|Sport</td>\n",
       "      <td>...</td>\n",
       "      <td>386.0</td>\n",
       "      <td>English</td>\n",
       "      <td>USA</td>\n",
       "      <td>R</td>\n",
       "      <td>107000000.0</td>\n",
       "      <td>2001.0</td>\n",
       "      <td>851.0</td>\n",
       "      <td>6.8</td>\n",
       "      <td>2.35</td>\n",
       "      <td>0</td>\n",
       "    </tr>\n",
       "    <tr>\n",
       "      <th>286</th>\n",
       "      <td>Black and White</td>\n",
       "      <td>Martin Campbell</td>\n",
       "      <td>400.0</td>\n",
       "      <td>144.0</td>\n",
       "      <td>258.0</td>\n",
       "      <td>834.0</td>\n",
       "      <td>Tobias Menzies</td>\n",
       "      <td>6000.0</td>\n",
       "      <td>167007184.0</td>\n",
       "      <td>Action|Adventure|Thriller</td>\n",
       "      <td>...</td>\n",
       "      <td>2301.0</td>\n",
       "      <td>English</td>\n",
       "      <td>UK</td>\n",
       "      <td>PG-13</td>\n",
       "      <td>150000000.0</td>\n",
       "      <td>2006.0</td>\n",
       "      <td>1000.0</td>\n",
       "      <td>8.0</td>\n",
       "      <td>2.35</td>\n",
       "      <td>0</td>\n",
       "    </tr>\n",
       "    <tr>\n",
       "      <th>...</th>\n",
       "      <td>...</td>\n",
       "      <td>...</td>\n",
       "      <td>...</td>\n",
       "      <td>...</td>\n",
       "      <td>...</td>\n",
       "      <td>...</td>\n",
       "      <td>...</td>\n",
       "      <td>...</td>\n",
       "      <td>...</td>\n",
       "      <td>...</td>\n",
       "      <td>...</td>\n",
       "      <td>...</td>\n",
       "      <td>...</td>\n",
       "      <td>...</td>\n",
       "      <td>...</td>\n",
       "      <td>...</td>\n",
       "      <td>...</td>\n",
       "      <td>...</td>\n",
       "      <td>...</td>\n",
       "      <td>...</td>\n",
       "      <td>...</td>\n",
       "    </tr>\n",
       "    <tr>\n",
       "      <th>5005</th>\n",
       "      <td>Black and White</td>\n",
       "      <td>Andrew Bujalski</td>\n",
       "      <td>52.0</td>\n",
       "      <td>109.0</td>\n",
       "      <td>26.0</td>\n",
       "      <td>3.0</td>\n",
       "      <td>Kate Dollenmayer</td>\n",
       "      <td>26.0</td>\n",
       "      <td>NaN</td>\n",
       "      <td>Comedy</td>\n",
       "      <td>...</td>\n",
       "      <td>23.0</td>\n",
       "      <td>English</td>\n",
       "      <td>USA</td>\n",
       "      <td>R</td>\n",
       "      <td>NaN</td>\n",
       "      <td>2005.0</td>\n",
       "      <td>6.0</td>\n",
       "      <td>6.9</td>\n",
       "      <td>1.66</td>\n",
       "      <td>91</td>\n",
       "    </tr>\n",
       "    <tr>\n",
       "      <th>5008</th>\n",
       "      <td>Black and White</td>\n",
       "      <td>Kevin Smith</td>\n",
       "      <td>136.0</td>\n",
       "      <td>102.0</td>\n",
       "      <td>0.0</td>\n",
       "      <td>216.0</td>\n",
       "      <td>Brian O'Halloran</td>\n",
       "      <td>898.0</td>\n",
       "      <td>3151130.0</td>\n",
       "      <td>Comedy</td>\n",
       "      <td>...</td>\n",
       "      <td>615.0</td>\n",
       "      <td>English</td>\n",
       "      <td>USA</td>\n",
       "      <td>R</td>\n",
       "      <td>230000.0</td>\n",
       "      <td>1994.0</td>\n",
       "      <td>657.0</td>\n",
       "      <td>7.8</td>\n",
       "      <td>1.37</td>\n",
       "      <td>0</td>\n",
       "    </tr>\n",
       "    <tr>\n",
       "      <th>5015</th>\n",
       "      <td>Black and White</td>\n",
       "      <td>Richard Linklater</td>\n",
       "      <td>61.0</td>\n",
       "      <td>100.0</td>\n",
       "      <td>0.0</td>\n",
       "      <td>0.0</td>\n",
       "      <td>Richard Linklater</td>\n",
       "      <td>5.0</td>\n",
       "      <td>1227508.0</td>\n",
       "      <td>Comedy|Drama</td>\n",
       "      <td>...</td>\n",
       "      <td>80.0</td>\n",
       "      <td>English</td>\n",
       "      <td>USA</td>\n",
       "      <td>R</td>\n",
       "      <td>23000.0</td>\n",
       "      <td>1991.0</td>\n",
       "      <td>0.0</td>\n",
       "      <td>7.1</td>\n",
       "      <td>1.37</td>\n",
       "      <td>2000</td>\n",
       "    </tr>\n",
       "    <tr>\n",
       "      <th>5022</th>\n",
       "      <td>Black and White</td>\n",
       "      <td>Jim Chuchu</td>\n",
       "      <td>6.0</td>\n",
       "      <td>60.0</td>\n",
       "      <td>0.0</td>\n",
       "      <td>4.0</td>\n",
       "      <td>Olwenya Maina</td>\n",
       "      <td>147.0</td>\n",
       "      <td>NaN</td>\n",
       "      <td>Drama</td>\n",
       "      <td>...</td>\n",
       "      <td>1.0</td>\n",
       "      <td>Swahili</td>\n",
       "      <td>Kenya</td>\n",
       "      <td>NaN</td>\n",
       "      <td>15000.0</td>\n",
       "      <td>2014.0</td>\n",
       "      <td>19.0</td>\n",
       "      <td>7.4</td>\n",
       "      <td>NaN</td>\n",
       "      <td>45</td>\n",
       "    </tr>\n",
       "    <tr>\n",
       "      <th>5028</th>\n",
       "      <td>Black and White</td>\n",
       "      <td>Ivan Kavanagh</td>\n",
       "      <td>12.0</td>\n",
       "      <td>83.0</td>\n",
       "      <td>18.0</td>\n",
       "      <td>0.0</td>\n",
       "      <td>Michael Parle</td>\n",
       "      <td>10.0</td>\n",
       "      <td>NaN</td>\n",
       "      <td>Horror</td>\n",
       "      <td>...</td>\n",
       "      <td>1.0</td>\n",
       "      <td>English</td>\n",
       "      <td>Ireland</td>\n",
       "      <td>NaN</td>\n",
       "      <td>10000.0</td>\n",
       "      <td>2007.0</td>\n",
       "      <td>5.0</td>\n",
       "      <td>6.7</td>\n",
       "      <td>1.33</td>\n",
       "      <td>105</td>\n",
       "    </tr>\n",
       "  </tbody>\n",
       "</table>\n",
       "<p>209 rows × 28 columns</p>\n",
       "</div>"
      ],
      "text/plain": [
       "                 color      director_name  num_critic_for_reviews  duration  \\\n",
       "111    Black and White        Michael Bay                   191.0     184.0   \n",
       "149    Black and White       Lee Tamahori                   264.0     133.0   \n",
       "257    Black and White    Martin Scorsese                   267.0     170.0   \n",
       "272    Black and White       Michael Mann                   174.0     165.0   \n",
       "286    Black and White    Martin Campbell                   400.0     144.0   \n",
       "...                ...                ...                     ...       ...   \n",
       "5005   Black and White    Andrew Bujalski                    52.0     109.0   \n",
       "5008   Black and White        Kevin Smith                   136.0     102.0   \n",
       "5015   Black and White  Richard Linklater                    61.0     100.0   \n",
       "5022   Black and White         Jim Chuchu                     6.0      60.0   \n",
       "5028   Black and White      Ivan Kavanagh                    12.0      83.0   \n",
       "\n",
       "      director_facebook_likes  actor_3_facebook_likes        actor_2_name  \\\n",
       "111                       0.0                   691.0          Jaime King   \n",
       "149                      93.0                   746.0        Colin Salmon   \n",
       "257                   17000.0                   827.0          Adam Scott   \n",
       "272                       0.0                   780.0  Jada Pinkett Smith   \n",
       "286                     258.0                   834.0      Tobias Menzies   \n",
       "...                       ...                     ...                 ...   \n",
       "5005                     26.0                     3.0    Kate Dollenmayer   \n",
       "5008                      0.0                   216.0    Brian O'Halloran   \n",
       "5015                      0.0                     0.0   Richard Linklater   \n",
       "5022                      0.0                     4.0       Olwenya Maina   \n",
       "5028                     18.0                     0.0       Michael Parle   \n",
       "\n",
       "      actor_1_facebook_likes        gross                            genres  \\\n",
       "111                   3000.0  198539855.0  Action|Drama|History|Romance|War   \n",
       "149                    769.0  160201106.0         Action|Adventure|Thriller   \n",
       "257                  29000.0  102608827.0                   Biography|Drama   \n",
       "272                  10000.0   58183966.0             Biography|Drama|Sport   \n",
       "286                   6000.0  167007184.0         Action|Adventure|Thriller   \n",
       "...                      ...          ...                               ...   \n",
       "5005                    26.0          NaN                            Comedy   \n",
       "5008                   898.0    3151130.0                            Comedy   \n",
       "5015                     5.0    1227508.0                      Comedy|Drama   \n",
       "5022                   147.0          NaN                             Drama   \n",
       "5028                    10.0          NaN                            Horror   \n",
       "\n",
       "      ... num_user_for_reviews language  country  content_rating       budget  \\\n",
       "111   ...               1999.0  English      USA           PG-13  140000000.0   \n",
       "149   ...               1185.0  English       UK           PG-13  142000000.0   \n",
       "257   ...                799.0  English      USA           PG-13  110000000.0   \n",
       "272   ...                386.0  English      USA               R  107000000.0   \n",
       "286   ...               2301.0  English       UK           PG-13  150000000.0   \n",
       "...   ...                  ...      ...      ...             ...          ...   \n",
       "5005  ...                 23.0  English      USA               R          NaN   \n",
       "5008  ...                615.0  English      USA               R     230000.0   \n",
       "5015  ...                 80.0  English      USA               R      23000.0   \n",
       "5022  ...                  1.0  Swahili    Kenya             NaN      15000.0   \n",
       "5028  ...                  1.0  English  Ireland             NaN      10000.0   \n",
       "\n",
       "      title_year actor_2_facebook_likes imdb_score  aspect_ratio  \\\n",
       "111       2001.0                  961.0        6.1          2.35   \n",
       "149       2002.0                  766.0        6.1          2.35   \n",
       "257       2004.0                 3000.0        7.5          2.35   \n",
       "272       2001.0                  851.0        6.8          2.35   \n",
       "286       2006.0                 1000.0        8.0          2.35   \n",
       "...          ...                    ...        ...           ...   \n",
       "5005      2005.0                    6.0        6.9          1.66   \n",
       "5008      1994.0                  657.0        7.8          1.37   \n",
       "5015      1991.0                    0.0        7.1          1.37   \n",
       "5022      2014.0                   19.0        7.4           NaN   \n",
       "5028      2007.0                    5.0        6.7          1.33   \n",
       "\n",
       "     movie_facebook_likes  \n",
       "111                     0  \n",
       "149                     0  \n",
       "257                     0  \n",
       "272                     0  \n",
       "286                     0  \n",
       "...                   ...  \n",
       "5005                   91  \n",
       "5008                    0  \n",
       "5015                 2000  \n",
       "5022                   45  \n",
       "5028                  105  \n",
       "\n",
       "[209 rows x 28 columns]"
      ]
     },
     "execution_count": 134,
     "metadata": {},
     "output_type": "execute_result"
    }
   ],
   "source": [
    "df[df[\"color\"] == \" Black and White\"]"
   ]
  },
  {
   "cell_type": "markdown",
   "id": "3e55070b",
   "metadata": {},
   "source": [
    "The previous code utilized boolean indexing to filter the DataFrame, revealing an unexpected space before \"Black and White\" in the condition. This successfully returned a DataFrame with 209 rows, matching our earlier count.\n",
    "\n",
    "This discovery highlights the importance of data cleaning and consistency in string values when working with real-world datasets. Let's investigate further and clean our data."
   ]
  },
  {
   "cell_type": "code",
   "execution_count": 135,
   "id": "e5105abd",
   "metadata": {},
   "outputs": [
    {
     "name": "stdout",
     "output_type": "stream",
     "text": [
      "color\n",
      "Color              4815\n",
      "Black and White     209\n",
      "Name: count, dtype: int64\n"
     ]
    }
   ],
   "source": [
    "print(df[\"color\"].str.strip().value_counts())"
   ]
  },
  {
   "cell_type": "markdown",
   "id": "ea9c84d4",
   "metadata": {},
   "source": [
    "To ensure data consistency and accuracy, we'll clean the `color` column by removing any leading or trailing whitespace. This is an important step in data preprocessing."
   ]
  },
  {
   "cell_type": "code",
   "execution_count": 136,
   "id": "96463e44",
   "metadata": {},
   "outputs": [],
   "source": [
    "df[\"color\"] = df[\"color\"].str.strip()"
   ]
  },
  {
   "cell_type": "markdown",
   "id": "cda442e4",
   "metadata": {},
   "source": [
    "We start by examining the value counts of the `color` column to understand its distribution."
   ]
  },
  {
   "cell_type": "code",
   "execution_count": 137,
   "id": "bc3a9241",
   "metadata": {},
   "outputs": [
    {
     "name": "stdout",
     "output_type": "stream",
     "text": [
      "color\n",
      "Color              4815\n",
      "Black and White     209\n",
      "Name: count, dtype: int64\n"
     ]
    }
   ],
   "source": [
    "print(df[\"color\"].value_counts())"
   ]
  },
  {
   "cell_type": "markdown",
   "id": "24b6eac0",
   "metadata": {},
   "source": [
    "We'll now analyze the duration of movies based on their color classification."
   ]
  },
  {
   "cell_type": "code",
   "execution_count": 138,
   "id": "a5d43211",
   "metadata": {},
   "outputs": [],
   "source": [
    "df = pd.read_csv(\n",
    "    \"https://github.com/anishshah23/IMDb-5000-Data-analysis/raw/master/movie_metadata.csv\"\n",
    ")\n",
    "string_columns = df.select_dtypes(include=\"object\").columns\n",
    "for column in string_columns:\n",
    "    df[column] = df[column].str.strip()"
   ]
  },
  {
   "cell_type": "markdown",
   "id": "bc5b3f42",
   "metadata": {},
   "source": [
    "Now we'll analyze the relationship between movie color and duration."
   ]
  },
  {
   "cell_type": "code",
   "execution_count": 139,
   "id": "ac337c60",
   "metadata": {},
   "outputs": [
    {
     "data": {
      "text/plain": [
       "107.04290772755675"
      ]
     },
     "execution_count": 139,
     "metadata": {},
     "output_type": "execute_result"
    }
   ],
   "source": [
    "df.query('color == \"Color\"')[\"duration\"].mean()"
   ]
  },
  {
   "cell_type": "markdown",
   "id": "3d04212b",
   "metadata": {},
   "source": [
    "This code calculates the average duration of black and white movies using the `query()` method to filter the DataFrame."
   ]
  },
  {
   "cell_type": "code",
   "execution_count": 140,
   "id": "88596d3d",
   "metadata": {},
   "outputs": [
    {
     "data": {
      "text/plain": [
       "112.2535885167464"
      ]
     },
     "execution_count": 140,
     "metadata": {},
     "output_type": "execute_result"
    }
   ],
   "source": [
    "df.query('color == \"Black and White\"')[\"duration\"].mean()"
   ]
  },
  {
   "cell_type": "markdown",
   "id": "df5aef89",
   "metadata": {},
   "source": [
    "The output shows that black and white movies in this dataset have an average duration of approximately 112.25 minutes."
   ]
  },
  {
   "cell_type": "code",
   "execution_count": 141,
   "id": "236f3c58",
   "metadata": {},
   "outputs": [
    {
     "data": {
      "text/plain": [
       "color\n",
       "Black and White    112.253589\n",
       "Color              107.042908\n",
       "NaN                 90.722222\n",
       "Name: duration, dtype: float64"
      ]
     },
     "execution_count": 141,
     "metadata": {},
     "output_type": "execute_result"
    }
   ],
   "source": [
    "df.groupby(\"color\", dropna=False)[\"duration\"].mean()"
   ]
  },
  {
   "cell_type": "markdown",
   "id": "682a0c18",
   "metadata": {},
   "source": [
    "This code groups the movies by their color category and calculates the mean duration for each group. The `dropna=False` parameter ensures that movies with missing color information (NaN) are included in the results. \n",
    "\n",
    "Interestingly, black and white movies have the longest average duration (112.25 minutes), followed by color movies (107.04 minutes). Movies with missing color information have the shortest average duration (90.72 minutes)."
   ]
  },
  {
   "cell_type": "code",
   "execution_count": 142,
   "id": "c4fc8dc6",
   "metadata": {},
   "outputs": [
    {
     "data": {
      "text/plain": [
       "nan"
      ]
     },
     "execution_count": 142,
     "metadata": {},
     "output_type": "execute_result"
    }
   ],
   "source": [
    "np.array([3, 4, np.nan, 2]).mean()"
   ]
  },
  {
   "cell_type": "markdown",
   "id": "415577d2",
   "metadata": {},
   "source": [
    "This example demonstrates how NumPy and pandas handle `NaN` values when calculating the mean. NumPy's `mean()` function returns `NaN` if the array contains any `NaN` values, while pandas' `Series.mean()` method automatically excludes `NaN` values by default."
   ]
  },
  {
   "cell_type": "code",
   "execution_count": 143,
   "id": "8b9ddc62",
   "metadata": {},
   "outputs": [
    {
     "data": {
      "text/plain": [
       "3.0"
      ]
     },
     "execution_count": 143,
     "metadata": {},
     "output_type": "execute_result"
    }
   ],
   "source": [
    "np.nanmean(np.array([3, 4, np.nan, 2]))"
   ]
  },
  {
   "cell_type": "markdown",
   "id": "213416b3",
   "metadata": {},
   "source": [
    "The `np.nanmean()` function is used to calculate the mean while ignoring `NaN` values in NumPy arrays. This function is particularly useful when working with datasets that may contain missing values, as it provides a way to compute the mean without manually filtering out `NaN` values."
   ]
  },
  {
   "cell_type": "code",
   "execution_count": 144,
   "id": "b9369e16",
   "metadata": {},
   "outputs": [
    {
     "data": {
      "text/plain": [
       "3.0"
      ]
     },
     "execution_count": 144,
     "metadata": {},
     "output_type": "execute_result"
    }
   ],
   "source": [
    "pd.Series([3, 4, np.nan, 2]).mean()"
   ]
  },
  {
   "cell_type": "markdown",
   "id": "226e158f",
   "metadata": {},
   "source": [
    "As we can see, pandas' `Series.mean()` method automatically ignores `NaN` values, producing the same result as `np.nanmean()`. This behavior simplifies calculations on data with missing values, as it doesn't require explicit handling of `NaN` values for every operation."
   ]
  },
  {
   "cell_type": "code",
   "execution_count": 145,
   "id": "e802fb03",
   "metadata": {},
   "outputs": [
    {
     "data": {
      "text/plain": [
       "2.25"
      ]
     },
     "execution_count": 145,
     "metadata": {},
     "output_type": "execute_result"
    }
   ],
   "source": [
    "pd.Series([3, 4, np.nan, 2]).fillna(0).mean()"
   ]
  },
  {
   "cell_type": "markdown",
   "id": "fdbefb33",
   "metadata": {},
   "source": [
    "Here, we use the `fillna()` method to replace `NaN` values with 0 before calculating the mean. This approach results in a different outcome compared to ignoring `NaN` values, as it treats missing data as actual zero values. The choice between ignoring `NaN` values or replacing them depends on the specific requirements of the data analysis task at hand."
   ]
  },
  {
   "cell_type": "code",
   "execution_count": 146,
   "id": "fb89d78c",
   "metadata": {},
   "outputs": [
    {
     "data": {
      "text/plain": [
       "16"
      ]
     },
     "execution_count": 146,
     "metadata": {},
     "output_type": "execute_result"
    }
   ],
   "source": [
    "df[\"director_name\"].value_counts()[\"Tim Burton\"]"
   ]
  },
  {
   "cell_type": "markdown",
   "id": "75af1fbc",
   "metadata": {},
   "source": [
    "This code snippet explores the distribution of directors in our dataset using the `value_counts()` method from pandas."
   ]
  },
  {
   "cell_type": "code",
   "execution_count": 147,
   "id": "6d06f542",
   "metadata": {},
   "outputs": [
    {
     "data": {
      "text/plain": [
       "(16, 28)"
      ]
     },
     "execution_count": 147,
     "metadata": {},
     "output_type": "execute_result"
    }
   ],
   "source": [
    "df.query('director_name == \"Tim Burton\"').shape"
   ]
  },
  {
   "cell_type": "markdown",
   "id": "51148a5b",
   "metadata": {},
   "source": [
    "Here, we use the `query()` method to filter the DataFrame for movies directed by Tim Burton. The `shape` attribute returns a tuple representing the dimensions of the resulting DataFrame. The output (16, 28) indicates that there are 16 movies by Tim Burton in our dataset, with 28 columns of information for each movie."
   ]
  },
  {
   "cell_type": "code",
   "execution_count": 148,
   "id": "72fc795a",
   "metadata": {},
   "outputs": [
    {
     "data": {
      "text/plain": [
       "director_name\n",
       "Steven Spielberg    26\n",
       "Woody Allen         22\n",
       "Clint Eastwood      20\n",
       "Martin Scorsese     20\n",
       "Ridley Scott        17\n",
       "                    ..\n",
       "Ryan Smith           1\n",
       "Travis Romero        1\n",
       "Andrew Haigh         1\n",
       "Cary Bell            1\n",
       "Daniel Hsia          1\n",
       "Name: count, Length: 2398, dtype: int64"
      ]
     },
     "execution_count": 148,
     "metadata": {},
     "output_type": "execute_result"
    }
   ],
   "source": [
    "df[\"director_name\"].value_counts().sort_values(ascending=False)"
   ]
  },
  {
   "cell_type": "markdown",
   "id": "bad918c0",
   "metadata": {},
   "source": [
    "This code analyzes the frequency of directors in the dataset. The `value_counts()` method counts the occurrences of each director, and `sort_values(ascending=False)` arranges the results in descending order. Steven Spielberg leads with 26 movies, followed by Woody Allen with 22. The output reveals that there are 2398 unique directors in the dataset, with many having directed only one movie."
   ]
  },
  {
   "cell_type": "code",
   "execution_count": 149,
   "id": "d6482fab",
   "metadata": {},
   "outputs": [
    {
     "data": {
      "text/plain": [
       "director_name\n",
       "A. Raven Cruz         1\n",
       "Aaron Hann            1\n",
       "Aaron Schneider       1\n",
       "Aaron Seltzer         1\n",
       "Abel Ferrara          1\n",
       "                     ..\n",
       "Zoran Lisinac         1\n",
       "Álex de la Iglesia    1\n",
       "Émile Gaudreault      1\n",
       "Éric Tessier          1\n",
       "Étienne Faure         1\n",
       "Name: count, Length: 2398, dtype: int64"
      ]
     },
     "execution_count": 149,
     "metadata": {},
     "output_type": "execute_result"
    }
   ],
   "source": [
    "df[\"director_name\"].value_counts().sort_index()"
   ]
  },
  {
   "cell_type": "markdown",
   "id": "e78e5e91",
   "metadata": {},
   "source": [
    "The following code snippets demonstrate various operations on the director data in the DataFrame."
   ]
  },
  {
   "cell_type": "code",
   "execution_count": 150,
   "id": "4ea0ee28",
   "metadata": {},
   "outputs": [
    {
     "data": {
      "text/html": [
       "<div>\n",
       "<style scoped>\n",
       "    .dataframe tbody tr th:only-of-type {\n",
       "        vertical-align: middle;\n",
       "    }\n",
       "\n",
       "    .dataframe tbody tr th {\n",
       "        vertical-align: top;\n",
       "    }\n",
       "\n",
       "    .dataframe thead th {\n",
       "        text-align: right;\n",
       "    }\n",
       "</style>\n",
       "<table border=\"1\" class=\"dataframe\">\n",
       "  <thead>\n",
       "    <tr style=\"text-align: right;\">\n",
       "      <th></th>\n",
       "      <th>0</th>\n",
       "      <th>1</th>\n",
       "      <th>2</th>\n",
       "      <th>3</th>\n",
       "    </tr>\n",
       "  </thead>\n",
       "  <tbody>\n",
       "    <tr>\n",
       "      <th>0</th>\n",
       "      <td>James</td>\n",
       "      <td>Cameron</td>\n",
       "      <td>None</td>\n",
       "      <td>None</td>\n",
       "    </tr>\n",
       "    <tr>\n",
       "      <th>1</th>\n",
       "      <td>Gore</td>\n",
       "      <td>Verbinski</td>\n",
       "      <td>None</td>\n",
       "      <td>None</td>\n",
       "    </tr>\n",
       "    <tr>\n",
       "      <th>2</th>\n",
       "      <td>Sam</td>\n",
       "      <td>Mendes</td>\n",
       "      <td>None</td>\n",
       "      <td>None</td>\n",
       "    </tr>\n",
       "    <tr>\n",
       "      <th>3</th>\n",
       "      <td>Christopher</td>\n",
       "      <td>Nolan</td>\n",
       "      <td>None</td>\n",
       "      <td>None</td>\n",
       "    </tr>\n",
       "    <tr>\n",
       "      <th>4</th>\n",
       "      <td>Doug</td>\n",
       "      <td>Walker</td>\n",
       "      <td>None</td>\n",
       "      <td>None</td>\n",
       "    </tr>\n",
       "    <tr>\n",
       "      <th>...</th>\n",
       "      <td>...</td>\n",
       "      <td>...</td>\n",
       "      <td>...</td>\n",
       "      <td>...</td>\n",
       "    </tr>\n",
       "    <tr>\n",
       "      <th>5038</th>\n",
       "      <td>Scott</td>\n",
       "      <td>Smith</td>\n",
       "      <td>None</td>\n",
       "      <td>None</td>\n",
       "    </tr>\n",
       "    <tr>\n",
       "      <th>5039</th>\n",
       "      <td>NaN</td>\n",
       "      <td>NaN</td>\n",
       "      <td>NaN</td>\n",
       "      <td>NaN</td>\n",
       "    </tr>\n",
       "    <tr>\n",
       "      <th>5040</th>\n",
       "      <td>Benjamin</td>\n",
       "      <td>Roberds</td>\n",
       "      <td>None</td>\n",
       "      <td>None</td>\n",
       "    </tr>\n",
       "    <tr>\n",
       "      <th>5041</th>\n",
       "      <td>Daniel</td>\n",
       "      <td>Hsia</td>\n",
       "      <td>None</td>\n",
       "      <td>None</td>\n",
       "    </tr>\n",
       "    <tr>\n",
       "      <th>5042</th>\n",
       "      <td>Jon</td>\n",
       "      <td>Gunn</td>\n",
       "      <td>None</td>\n",
       "      <td>None</td>\n",
       "    </tr>\n",
       "  </tbody>\n",
       "</table>\n",
       "<p>5043 rows × 4 columns</p>\n",
       "</div>"
      ],
      "text/plain": [
       "                0          1     2     3\n",
       "0           James    Cameron  None  None\n",
       "1            Gore  Verbinski  None  None\n",
       "2             Sam     Mendes  None  None\n",
       "3     Christopher      Nolan  None  None\n",
       "4            Doug     Walker  None  None\n",
       "...           ...        ...   ...   ...\n",
       "5038        Scott      Smith  None  None\n",
       "5039          NaN        NaN   NaN   NaN\n",
       "5040     Benjamin    Roberds  None  None\n",
       "5041       Daniel       Hsia  None  None\n",
       "5042          Jon       Gunn  None  None\n",
       "\n",
       "[5043 rows x 4 columns]"
      ]
     },
     "execution_count": 150,
     "metadata": {},
     "output_type": "execute_result"
    }
   ],
   "source": [
    "df[\"director_name\"].str.split(expand=True)"
   ]
  },
  {
   "cell_type": "markdown",
   "id": "4543f3e3",
   "metadata": {},
   "source": [
    "The following code demonstrates how to extract and analyze director names from the dataset."
   ]
  },
  {
   "cell_type": "code",
   "execution_count": 151,
   "id": "b54d8ea0",
   "metadata": {},
   "outputs": [],
   "source": [
    "df_director_counts = df[\"director_name\"].value_counts().to_frame().reset_index()\n",
    "df_director_counts = (\n",
    "    pd.concat(\n",
    "        [\n",
    "            df_director_counts,\n",
    "            df_director_counts[\"director_name\"].str.split(expand=True).iloc[:, 1],\n",
    "        ],\n",
    "        axis=1,\n",
    "    )\n",
    "    .rename(columns={1: \"director_last_name\"})\n",
    "    .sort_values(\"director_last_name\")\n",
    ")"
   ]
  },
  {
   "cell_type": "markdown",
   "id": "61ebbdb6",
   "metadata": {},
   "source": [
    "This code manipulates the `df_director_counts` DataFrame, which contains information about directors and their movie counts. Let's analyze the operations and their results:"
   ]
  },
  {
   "cell_type": "code",
   "execution_count": 152,
   "id": "5db13201",
   "metadata": {},
   "outputs": [
    {
     "data": {
      "text/html": [
       "<div>\n",
       "<style scoped>\n",
       "    .dataframe tbody tr th:only-of-type {\n",
       "        vertical-align: middle;\n",
       "    }\n",
       "\n",
       "    .dataframe tbody tr th {\n",
       "        vertical-align: top;\n",
       "    }\n",
       "\n",
       "    .dataframe thead th {\n",
       "        text-align: right;\n",
       "    }\n",
       "</style>\n",
       "<table border=\"1\" class=\"dataframe\">\n",
       "  <thead>\n",
       "    <tr style=\"text-align: right;\">\n",
       "      <th></th>\n",
       "      <th>director_name</th>\n",
       "      <th>count</th>\n",
       "      <th>director_last_name</th>\n",
       "    </tr>\n",
       "  </thead>\n",
       "  <tbody>\n",
       "    <tr>\n",
       "      <th>1239</th>\n",
       "      <td>John 'Bud' Cardos</td>\n",
       "      <td>1</td>\n",
       "      <td>'Bud'</td>\n",
       "    </tr>\n",
       "    <tr>\n",
       "      <th>1727</th>\n",
       "      <td>Brian A Miller</td>\n",
       "      <td>1</td>\n",
       "      <td>A</td>\n",
       "    </tr>\n",
       "    <tr>\n",
       "      <th>1790</th>\n",
       "      <td>William A. Fraker</td>\n",
       "      <td>1</td>\n",
       "      <td>A.</td>\n",
       "    </tr>\n",
       "    <tr>\n",
       "      <th>42</th>\n",
       "      <td>George A. Romero</td>\n",
       "      <td>9</td>\n",
       "      <td>A.</td>\n",
       "    </tr>\n",
       "    <tr>\n",
       "      <th>1282</th>\n",
       "      <td>Marius A. Markevicius</td>\n",
       "      <td>1</td>\n",
       "      <td>A.</td>\n",
       "    </tr>\n",
       "    <tr>\n",
       "      <th>...</th>\n",
       "      <td>...</td>\n",
       "      <td>...</td>\n",
       "      <td>...</td>\n",
       "    </tr>\n",
       "    <tr>\n",
       "      <th>1374</th>\n",
       "      <td>Valentine</td>\n",
       "      <td>1</td>\n",
       "      <td>None</td>\n",
       "    </tr>\n",
       "    <tr>\n",
       "      <th>1469</th>\n",
       "      <td>Remo</td>\n",
       "      <td>1</td>\n",
       "      <td>None</td>\n",
       "    </tr>\n",
       "    <tr>\n",
       "      <th>1868</th>\n",
       "      <td>Pitof</td>\n",
       "      <td>1</td>\n",
       "      <td>None</td>\n",
       "    </tr>\n",
       "    <tr>\n",
       "      <th>2089</th>\n",
       "      <td>Maïwenn</td>\n",
       "      <td>1</td>\n",
       "      <td>None</td>\n",
       "    </tr>\n",
       "    <tr>\n",
       "      <th>2276</th>\n",
       "      <td>RZA</td>\n",
       "      <td>1</td>\n",
       "      <td>None</td>\n",
       "    </tr>\n",
       "  </tbody>\n",
       "</table>\n",
       "<p>2398 rows × 3 columns</p>\n",
       "</div>"
      ],
      "text/plain": [
       "              director_name  count director_last_name\n",
       "1239      John 'Bud' Cardos      1              'Bud'\n",
       "1727         Brian A Miller      1                  A\n",
       "1790      William A. Fraker      1                 A.\n",
       "42         George A. Romero      9                 A.\n",
       "1282  Marius A. Markevicius      1                 A.\n",
       "...                     ...    ...                ...\n",
       "1374              Valentine      1               None\n",
       "1469                   Remo      1               None\n",
       "1868                  Pitof      1               None\n",
       "2089                Maïwenn      1               None\n",
       "2276                    RZA      1               None\n",
       "\n",
       "[2398 rows x 3 columns]"
      ]
     },
     "execution_count": 152,
     "metadata": {},
     "output_type": "execute_result"
    }
   ],
   "source": [
    "df_director_counts"
   ]
  },
  {
   "cell_type": "markdown",
   "id": "2c66b9a9",
   "metadata": {},
   "source": [
    "This section explores the dataset further, focusing on director counts and average IMDb scores by country."
   ]
  },
  {
   "cell_type": "code",
   "execution_count": 153,
   "id": "219356e7",
   "metadata": {},
   "outputs": [
    {
     "data": {
      "text/plain": [
       "1239    'Bud'\n",
       "1727        A\n",
       "1790       A.\n",
       "42         A.\n",
       "1282       A.\n",
       "        ...  \n",
       "1374     None\n",
       "1469     None\n",
       "1868     None\n",
       "2089     None\n",
       "2276     None\n",
       "Name: 1, Length: 2398, dtype: object"
      ]
     },
     "execution_count": 153,
     "metadata": {},
     "output_type": "execute_result"
    }
   ],
   "source": [
    "df_director_counts[\"director_name\"].str.split(expand=True).iloc[:, 1]"
   ]
  },
  {
   "cell_type": "markdown",
   "id": "9f63ba8c",
   "metadata": {},
   "source": [
    "The `df_director_counts` DataFrame shows the count of movies for each director in the dataset. It includes the director's full name, the count of their movies, and what appears to be their last name. The presence of `NaN` values indicates potential data quality issues that might need addressing in future analysis."
   ]
  },
  {
   "cell_type": "code",
   "execution_count": 154,
   "id": "f5450601",
   "metadata": {},
   "outputs": [
    {
     "data": {
      "text/html": [
       "<div>\n",
       "<style scoped>\n",
       "    .dataframe tbody tr th:only-of-type {\n",
       "        vertical-align: middle;\n",
       "    }\n",
       "\n",
       "    .dataframe tbody tr th {\n",
       "        vertical-align: top;\n",
       "    }\n",
       "\n",
       "    .dataframe thead th {\n",
       "        text-align: right;\n",
       "    }\n",
       "</style>\n",
       "<table border=\"1\" class=\"dataframe\">\n",
       "  <thead>\n",
       "    <tr style=\"text-align: right;\">\n",
       "      <th></th>\n",
       "      <th>director_name</th>\n",
       "      <th>count</th>\n",
       "      <th>director_last_name</th>\n",
       "    </tr>\n",
       "  </thead>\n",
       "  <tbody>\n",
       "    <tr>\n",
       "      <th>1239</th>\n",
       "      <td>John 'Bud' Cardos</td>\n",
       "      <td>1</td>\n",
       "      <td>'Bud'</td>\n",
       "    </tr>\n",
       "    <tr>\n",
       "      <th>1727</th>\n",
       "      <td>Brian A Miller</td>\n",
       "      <td>1</td>\n",
       "      <td>A</td>\n",
       "    </tr>\n",
       "    <tr>\n",
       "      <th>1790</th>\n",
       "      <td>William A. Fraker</td>\n",
       "      <td>1</td>\n",
       "      <td>A.</td>\n",
       "    </tr>\n",
       "    <tr>\n",
       "      <th>42</th>\n",
       "      <td>George A. Romero</td>\n",
       "      <td>9</td>\n",
       "      <td>A.</td>\n",
       "    </tr>\n",
       "    <tr>\n",
       "      <th>1282</th>\n",
       "      <td>Marius A. Markevicius</td>\n",
       "      <td>1</td>\n",
       "      <td>A.</td>\n",
       "    </tr>\n",
       "    <tr>\n",
       "      <th>...</th>\n",
       "      <td>...</td>\n",
       "      <td>...</td>\n",
       "      <td>...</td>\n",
       "    </tr>\n",
       "    <tr>\n",
       "      <th>1374</th>\n",
       "      <td>Valentine</td>\n",
       "      <td>1</td>\n",
       "      <td>None</td>\n",
       "    </tr>\n",
       "    <tr>\n",
       "      <th>1469</th>\n",
       "      <td>Remo</td>\n",
       "      <td>1</td>\n",
       "      <td>None</td>\n",
       "    </tr>\n",
       "    <tr>\n",
       "      <th>1868</th>\n",
       "      <td>Pitof</td>\n",
       "      <td>1</td>\n",
       "      <td>None</td>\n",
       "    </tr>\n",
       "    <tr>\n",
       "      <th>2089</th>\n",
       "      <td>Maïwenn</td>\n",
       "      <td>1</td>\n",
       "      <td>None</td>\n",
       "    </tr>\n",
       "    <tr>\n",
       "      <th>2276</th>\n",
       "      <td>RZA</td>\n",
       "      <td>1</td>\n",
       "      <td>None</td>\n",
       "    </tr>\n",
       "  </tbody>\n",
       "</table>\n",
       "<p>2398 rows × 3 columns</p>\n",
       "</div>"
      ],
      "text/plain": [
       "              director_name  count director_last_name\n",
       "1239      John 'Bud' Cardos      1              'Bud'\n",
       "1727         Brian A Miller      1                  A\n",
       "1790      William A. Fraker      1                 A.\n",
       "42         George A. Romero      9                 A.\n",
       "1282  Marius A. Markevicius      1                 A.\n",
       "...                     ...    ...                ...\n",
       "1374              Valentine      1               None\n",
       "1469                   Remo      1               None\n",
       "1868                  Pitof      1               None\n",
       "2089                Maïwenn      1               None\n",
       "2276                    RZA      1               None\n",
       "\n",
       "[2398 rows x 3 columns]"
      ]
     },
     "execution_count": 154,
     "metadata": {},
     "output_type": "execute_result"
    }
   ],
   "source": [
    "df_director_counts"
   ]
  },
  {
   "cell_type": "markdown",
   "id": "75ab4fc4",
   "metadata": {},
   "source": [
    "This code calculates the average IMDb score for movies from each country, sorted in descending order. The results provide insights into the relationship between a movie's country of origin and its IMDb rating."
   ]
  },
  {
   "cell_type": "code",
   "execution_count": 155,
   "id": "8dab9c2e",
   "metadata": {},
   "outputs": [
    {
     "data": {
      "text/plain": [
       "country\n",
       "Kyrgyzstan              8.7\n",
       "Libya                   8.4\n",
       "United Arab Emirates    8.2\n",
       "Egypt                   8.1\n",
       "Soviet Union            8.1\n",
       "                       ... \n",
       "Georgia                 5.6\n",
       "Peru                    5.4\n",
       "Aruba                   4.8\n",
       "Bahamas                 4.4\n",
       "New Line                4.4\n",
       "Name: imdb_score, Length: 65, dtype: float64"
      ]
     },
     "execution_count": 155,
     "metadata": {},
     "output_type": "execute_result"
    }
   ],
   "source": [
    "df.groupby(\"country\")[\"imdb_score\"].mean().sort_values(ascending=False)"
   ]
  },
  {
   "cell_type": "markdown",
   "id": "97703970",
   "metadata": {},
   "source": [
    "The previous analysis didn't account for the number of movies from each country, which could lead to misleading results due to countries with very few films. To address this, we can include the count of movies along with the mean score and filter for countries with a significant number of films."
   ]
  },
  {
   "cell_type": "code",
   "execution_count": 156,
   "id": "62486db0",
   "metadata": {},
   "outputs": [
    {
     "data": {
      "text/html": [
       "<div>\n",
       "<style scoped>\n",
       "    .dataframe tbody tr th:only-of-type {\n",
       "        vertical-align: middle;\n",
       "    }\n",
       "\n",
       "    .dataframe tbody tr th {\n",
       "        vertical-align: top;\n",
       "    }\n",
       "\n",
       "    .dataframe thead th {\n",
       "        text-align: right;\n",
       "    }\n",
       "</style>\n",
       "<table border=\"1\" class=\"dataframe\">\n",
       "  <thead>\n",
       "    <tr style=\"text-align: right;\">\n",
       "      <th></th>\n",
       "      <th>mean</th>\n",
       "      <th>count</th>\n",
       "    </tr>\n",
       "    <tr>\n",
       "      <th>country</th>\n",
       "      <th></th>\n",
       "      <th></th>\n",
       "    </tr>\n",
       "  </thead>\n",
       "  <tbody>\n",
       "    <tr>\n",
       "      <th>Japan</th>\n",
       "      <td>6.952174</td>\n",
       "      <td>23</td>\n",
       "    </tr>\n",
       "    <tr>\n",
       "      <th>Italy</th>\n",
       "      <td>6.873913</td>\n",
       "      <td>23</td>\n",
       "    </tr>\n",
       "    <tr>\n",
       "      <th>Spain</th>\n",
       "      <td>6.824242</td>\n",
       "      <td>33</td>\n",
       "    </tr>\n",
       "    <tr>\n",
       "      <th>UK</th>\n",
       "      <td>6.818304</td>\n",
       "      <td>448</td>\n",
       "    </tr>\n",
       "    <tr>\n",
       "      <th>France</th>\n",
       "      <td>6.678571</td>\n",
       "      <td>154</td>\n",
       "    </tr>\n",
       "    <tr>\n",
       "      <th>China</th>\n",
       "      <td>6.623333</td>\n",
       "      <td>30</td>\n",
       "    </tr>\n",
       "    <tr>\n",
       "      <th>India</th>\n",
       "      <td>6.532353</td>\n",
       "      <td>34</td>\n",
       "    </tr>\n",
       "    <tr>\n",
       "      <th>Australia</th>\n",
       "      <td>6.514545</td>\n",
       "      <td>55</td>\n",
       "    </tr>\n",
       "    <tr>\n",
       "      <th>USA</th>\n",
       "      <td>6.367428</td>\n",
       "      <td>3807</td>\n",
       "    </tr>\n",
       "    <tr>\n",
       "      <th>Germany</th>\n",
       "      <td>6.340206</td>\n",
       "      <td>97</td>\n",
       "    </tr>\n",
       "    <tr>\n",
       "      <th>Canada</th>\n",
       "      <td>6.161905</td>\n",
       "      <td>126</td>\n",
       "    </tr>\n",
       "  </tbody>\n",
       "</table>\n",
       "</div>"
      ],
      "text/plain": [
       "               mean  count\n",
       "country                   \n",
       "Japan      6.952174     23\n",
       "Italy      6.873913     23\n",
       "Spain      6.824242     33\n",
       "UK         6.818304    448\n",
       "France     6.678571    154\n",
       "China      6.623333     30\n",
       "India      6.532353     34\n",
       "Australia  6.514545     55\n",
       "USA        6.367428   3807\n",
       "Germany    6.340206     97\n",
       "Canada     6.161905    126"
      ]
     },
     "execution_count": 156,
     "metadata": {},
     "output_type": "execute_result"
    }
   ],
   "source": [
    "(\n",
    "    df.groupby(\"country\")[\"imdb_score\"]\n",
    "    .agg([\"mean\", \"count\"])\n",
    "    .sort_values(\"mean\", ascending=False)\n",
    "    .query(\"count > 20\")\n",
    ")"
   ]
  },
  {
   "cell_type": "markdown",
   "id": "50c26b13",
   "metadata": {},
   "source": [
    "Now that we have an overview of the dataset, let's identify each director's best movie based on IMDb scores. This analysis will provide insights into which directors consistently produce highly-rated films and what their best works are according to IMDb ratings."
   ]
  },
  {
   "cell_type": "markdown",
   "id": "b1f97602",
   "metadata": {},
   "source": [
    "Now, let's solve the following problem:\n",
    "\n",
    "*for each director, find his or her best movie*"
   ]
  },
  {
   "cell_type": "code",
   "execution_count": 158,
   "id": "0cc6d9e3",
   "metadata": {},
   "outputs": [],
   "source": [
    "director_best_scores = (\n",
    "    df.groupby(\"director_name\")[\"imdb_score\"].max().to_frame().reset_index()\n",
    ")"
   ]
  },
  {
   "cell_type": "markdown",
   "id": "d4e17cc7",
   "metadata": {},
   "source": [
    "This code snippet creates a new dataframe `director_best_scores` that contains each director's highest IMDb score. The `groupby('director_name')` function groups the original dataframe by director, and `['imdb_score'].max()` selects the highest score for each group. The `to_frame()` method converts the result to a dataframe, and `reset_index()` ensures that 'director_name' becomes a regular column instead of an index."
   ]
  },
  {
   "cell_type": "code",
   "execution_count": 159,
   "id": "64f28d64",
   "metadata": {},
   "outputs": [
    {
     "data": {
      "text/html": [
       "<div>\n",
       "<style scoped>\n",
       "    .dataframe tbody tr th:only-of-type {\n",
       "        vertical-align: middle;\n",
       "    }\n",
       "\n",
       "    .dataframe tbody tr th {\n",
       "        vertical-align: top;\n",
       "    }\n",
       "\n",
       "    .dataframe thead th {\n",
       "        text-align: right;\n",
       "    }\n",
       "</style>\n",
       "<table border=\"1\" class=\"dataframe\">\n",
       "  <thead>\n",
       "    <tr style=\"text-align: right;\">\n",
       "      <th></th>\n",
       "      <th>color</th>\n",
       "      <th>director_name</th>\n",
       "      <th>num_critic_for_reviews</th>\n",
       "      <th>duration</th>\n",
       "      <th>director_facebook_likes</th>\n",
       "      <th>actor_3_facebook_likes</th>\n",
       "      <th>actor_2_name</th>\n",
       "      <th>actor_1_facebook_likes</th>\n",
       "      <th>gross</th>\n",
       "      <th>genres</th>\n",
       "      <th>...</th>\n",
       "      <th>num_user_for_reviews</th>\n",
       "      <th>language</th>\n",
       "      <th>country</th>\n",
       "      <th>content_rating</th>\n",
       "      <th>budget</th>\n",
       "      <th>title_year</th>\n",
       "      <th>actor_2_facebook_likes</th>\n",
       "      <th>imdb_score</th>\n",
       "      <th>aspect_ratio</th>\n",
       "      <th>movie_facebook_likes</th>\n",
       "    </tr>\n",
       "  </thead>\n",
       "  <tbody>\n",
       "    <tr>\n",
       "      <th>0</th>\n",
       "      <td>Color</td>\n",
       "      <td>James Cameron</td>\n",
       "      <td>723.0</td>\n",
       "      <td>178.0</td>\n",
       "      <td>0.0</td>\n",
       "      <td>855.0</td>\n",
       "      <td>Joel David Moore</td>\n",
       "      <td>1000.0</td>\n",
       "      <td>760505847.0</td>\n",
       "      <td>Action|Adventure|Fantasy|Sci-Fi</td>\n",
       "      <td>...</td>\n",
       "      <td>3054.0</td>\n",
       "      <td>English</td>\n",
       "      <td>USA</td>\n",
       "      <td>PG-13</td>\n",
       "      <td>237000000.0</td>\n",
       "      <td>2009.0</td>\n",
       "      <td>936.0</td>\n",
       "      <td>7.9</td>\n",
       "      <td>1.78</td>\n",
       "      <td>33000</td>\n",
       "    </tr>\n",
       "    <tr>\n",
       "      <th>1</th>\n",
       "      <td>Color</td>\n",
       "      <td>Gore Verbinski</td>\n",
       "      <td>302.0</td>\n",
       "      <td>169.0</td>\n",
       "      <td>563.0</td>\n",
       "      <td>1000.0</td>\n",
       "      <td>Orlando Bloom</td>\n",
       "      <td>40000.0</td>\n",
       "      <td>309404152.0</td>\n",
       "      <td>Action|Adventure|Fantasy</td>\n",
       "      <td>...</td>\n",
       "      <td>1238.0</td>\n",
       "      <td>English</td>\n",
       "      <td>USA</td>\n",
       "      <td>PG-13</td>\n",
       "      <td>300000000.0</td>\n",
       "      <td>2007.0</td>\n",
       "      <td>5000.0</td>\n",
       "      <td>7.1</td>\n",
       "      <td>2.35</td>\n",
       "      <td>0</td>\n",
       "    </tr>\n",
       "    <tr>\n",
       "      <th>2</th>\n",
       "      <td>Color</td>\n",
       "      <td>Sam Mendes</td>\n",
       "      <td>602.0</td>\n",
       "      <td>148.0</td>\n",
       "      <td>0.0</td>\n",
       "      <td>161.0</td>\n",
       "      <td>Rory Kinnear</td>\n",
       "      <td>11000.0</td>\n",
       "      <td>200074175.0</td>\n",
       "      <td>Action|Adventure|Thriller</td>\n",
       "      <td>...</td>\n",
       "      <td>994.0</td>\n",
       "      <td>English</td>\n",
       "      <td>UK</td>\n",
       "      <td>PG-13</td>\n",
       "      <td>245000000.0</td>\n",
       "      <td>2015.0</td>\n",
       "      <td>393.0</td>\n",
       "      <td>6.8</td>\n",
       "      <td>2.35</td>\n",
       "      <td>85000</td>\n",
       "    </tr>\n",
       "    <tr>\n",
       "      <th>3</th>\n",
       "      <td>Color</td>\n",
       "      <td>Christopher Nolan</td>\n",
       "      <td>813.0</td>\n",
       "      <td>164.0</td>\n",
       "      <td>22000.0</td>\n",
       "      <td>23000.0</td>\n",
       "      <td>Christian Bale</td>\n",
       "      <td>27000.0</td>\n",
       "      <td>448130642.0</td>\n",
       "      <td>Action|Thriller</td>\n",
       "      <td>...</td>\n",
       "      <td>2701.0</td>\n",
       "      <td>English</td>\n",
       "      <td>USA</td>\n",
       "      <td>PG-13</td>\n",
       "      <td>250000000.0</td>\n",
       "      <td>2012.0</td>\n",
       "      <td>23000.0</td>\n",
       "      <td>8.5</td>\n",
       "      <td>2.35</td>\n",
       "      <td>164000</td>\n",
       "    </tr>\n",
       "    <tr>\n",
       "      <th>4</th>\n",
       "      <td>NaN</td>\n",
       "      <td>Doug Walker</td>\n",
       "      <td>NaN</td>\n",
       "      <td>NaN</td>\n",
       "      <td>131.0</td>\n",
       "      <td>NaN</td>\n",
       "      <td>Rob Walker</td>\n",
       "      <td>131.0</td>\n",
       "      <td>NaN</td>\n",
       "      <td>Documentary</td>\n",
       "      <td>...</td>\n",
       "      <td>NaN</td>\n",
       "      <td>NaN</td>\n",
       "      <td>NaN</td>\n",
       "      <td>NaN</td>\n",
       "      <td>NaN</td>\n",
       "      <td>NaN</td>\n",
       "      <td>12.0</td>\n",
       "      <td>7.1</td>\n",
       "      <td>NaN</td>\n",
       "      <td>0</td>\n",
       "    </tr>\n",
       "    <tr>\n",
       "      <th>...</th>\n",
       "      <td>...</td>\n",
       "      <td>...</td>\n",
       "      <td>...</td>\n",
       "      <td>...</td>\n",
       "      <td>...</td>\n",
       "      <td>...</td>\n",
       "      <td>...</td>\n",
       "      <td>...</td>\n",
       "      <td>...</td>\n",
       "      <td>...</td>\n",
       "      <td>...</td>\n",
       "      <td>...</td>\n",
       "      <td>...</td>\n",
       "      <td>...</td>\n",
       "      <td>...</td>\n",
       "      <td>...</td>\n",
       "      <td>...</td>\n",
       "      <td>...</td>\n",
       "      <td>...</td>\n",
       "      <td>...</td>\n",
       "      <td>...</td>\n",
       "    </tr>\n",
       "    <tr>\n",
       "      <th>5038</th>\n",
       "      <td>Color</td>\n",
       "      <td>Scott Smith</td>\n",
       "      <td>1.0</td>\n",
       "      <td>87.0</td>\n",
       "      <td>2.0</td>\n",
       "      <td>318.0</td>\n",
       "      <td>Daphne Zuniga</td>\n",
       "      <td>637.0</td>\n",
       "      <td>NaN</td>\n",
       "      <td>Comedy|Drama</td>\n",
       "      <td>...</td>\n",
       "      <td>6.0</td>\n",
       "      <td>English</td>\n",
       "      <td>Canada</td>\n",
       "      <td>NaN</td>\n",
       "      <td>NaN</td>\n",
       "      <td>2013.0</td>\n",
       "      <td>470.0</td>\n",
       "      <td>7.7</td>\n",
       "      <td>NaN</td>\n",
       "      <td>84</td>\n",
       "    </tr>\n",
       "    <tr>\n",
       "      <th>5039</th>\n",
       "      <td>Color</td>\n",
       "      <td>NaN</td>\n",
       "      <td>43.0</td>\n",
       "      <td>43.0</td>\n",
       "      <td>NaN</td>\n",
       "      <td>319.0</td>\n",
       "      <td>Valorie Curry</td>\n",
       "      <td>841.0</td>\n",
       "      <td>NaN</td>\n",
       "      <td>Crime|Drama|Mystery|Thriller</td>\n",
       "      <td>...</td>\n",
       "      <td>359.0</td>\n",
       "      <td>English</td>\n",
       "      <td>USA</td>\n",
       "      <td>TV-14</td>\n",
       "      <td>NaN</td>\n",
       "      <td>NaN</td>\n",
       "      <td>593.0</td>\n",
       "      <td>7.5</td>\n",
       "      <td>16.00</td>\n",
       "      <td>32000</td>\n",
       "    </tr>\n",
       "    <tr>\n",
       "      <th>5040</th>\n",
       "      <td>Color</td>\n",
       "      <td>Benjamin Roberds</td>\n",
       "      <td>13.0</td>\n",
       "      <td>76.0</td>\n",
       "      <td>0.0</td>\n",
       "      <td>0.0</td>\n",
       "      <td>Maxwell Moody</td>\n",
       "      <td>0.0</td>\n",
       "      <td>NaN</td>\n",
       "      <td>Drama|Horror|Thriller</td>\n",
       "      <td>...</td>\n",
       "      <td>3.0</td>\n",
       "      <td>English</td>\n",
       "      <td>USA</td>\n",
       "      <td>NaN</td>\n",
       "      <td>1400.0</td>\n",
       "      <td>2013.0</td>\n",
       "      <td>0.0</td>\n",
       "      <td>6.3</td>\n",
       "      <td>NaN</td>\n",
       "      <td>16</td>\n",
       "    </tr>\n",
       "    <tr>\n",
       "      <th>5041</th>\n",
       "      <td>Color</td>\n",
       "      <td>Daniel Hsia</td>\n",
       "      <td>14.0</td>\n",
       "      <td>100.0</td>\n",
       "      <td>0.0</td>\n",
       "      <td>489.0</td>\n",
       "      <td>Daniel Henney</td>\n",
       "      <td>946.0</td>\n",
       "      <td>10443.0</td>\n",
       "      <td>Comedy|Drama|Romance</td>\n",
       "      <td>...</td>\n",
       "      <td>9.0</td>\n",
       "      <td>English</td>\n",
       "      <td>USA</td>\n",
       "      <td>PG-13</td>\n",
       "      <td>NaN</td>\n",
       "      <td>2012.0</td>\n",
       "      <td>719.0</td>\n",
       "      <td>6.3</td>\n",
       "      <td>2.35</td>\n",
       "      <td>660</td>\n",
       "    </tr>\n",
       "    <tr>\n",
       "      <th>5042</th>\n",
       "      <td>Color</td>\n",
       "      <td>Jon Gunn</td>\n",
       "      <td>43.0</td>\n",
       "      <td>90.0</td>\n",
       "      <td>16.0</td>\n",
       "      <td>16.0</td>\n",
       "      <td>Brian Herzlinger</td>\n",
       "      <td>86.0</td>\n",
       "      <td>85222.0</td>\n",
       "      <td>Documentary</td>\n",
       "      <td>...</td>\n",
       "      <td>84.0</td>\n",
       "      <td>English</td>\n",
       "      <td>USA</td>\n",
       "      <td>PG</td>\n",
       "      <td>1100.0</td>\n",
       "      <td>2004.0</td>\n",
       "      <td>23.0</td>\n",
       "      <td>6.6</td>\n",
       "      <td>1.85</td>\n",
       "      <td>456</td>\n",
       "    </tr>\n",
       "  </tbody>\n",
       "</table>\n",
       "<p>5043 rows × 28 columns</p>\n",
       "</div>"
      ],
      "text/plain": [
       "      color      director_name  num_critic_for_reviews  duration  \\\n",
       "0     Color      James Cameron                   723.0     178.0   \n",
       "1     Color     Gore Verbinski                   302.0     169.0   \n",
       "2     Color         Sam Mendes                   602.0     148.0   \n",
       "3     Color  Christopher Nolan                   813.0     164.0   \n",
       "4       NaN        Doug Walker                     NaN       NaN   \n",
       "...     ...                ...                     ...       ...   \n",
       "5038  Color        Scott Smith                     1.0      87.0   \n",
       "5039  Color                NaN                    43.0      43.0   \n",
       "5040  Color   Benjamin Roberds                    13.0      76.0   \n",
       "5041  Color        Daniel Hsia                    14.0     100.0   \n",
       "5042  Color           Jon Gunn                    43.0      90.0   \n",
       "\n",
       "      director_facebook_likes  actor_3_facebook_likes      actor_2_name  \\\n",
       "0                         0.0                   855.0  Joel David Moore   \n",
       "1                       563.0                  1000.0     Orlando Bloom   \n",
       "2                         0.0                   161.0      Rory Kinnear   \n",
       "3                     22000.0                 23000.0    Christian Bale   \n",
       "4                       131.0                     NaN        Rob Walker   \n",
       "...                       ...                     ...               ...   \n",
       "5038                      2.0                   318.0     Daphne Zuniga   \n",
       "5039                      NaN                   319.0     Valorie Curry   \n",
       "5040                      0.0                     0.0     Maxwell Moody   \n",
       "5041                      0.0                   489.0     Daniel Henney   \n",
       "5042                     16.0                    16.0  Brian Herzlinger   \n",
       "\n",
       "      actor_1_facebook_likes        gross                           genres  \\\n",
       "0                     1000.0  760505847.0  Action|Adventure|Fantasy|Sci-Fi   \n",
       "1                    40000.0  309404152.0         Action|Adventure|Fantasy   \n",
       "2                    11000.0  200074175.0        Action|Adventure|Thriller   \n",
       "3                    27000.0  448130642.0                  Action|Thriller   \n",
       "4                      131.0          NaN                      Documentary   \n",
       "...                      ...          ...                              ...   \n",
       "5038                   637.0          NaN                     Comedy|Drama   \n",
       "5039                   841.0          NaN     Crime|Drama|Mystery|Thriller   \n",
       "5040                     0.0          NaN            Drama|Horror|Thriller   \n",
       "5041                   946.0      10443.0             Comedy|Drama|Romance   \n",
       "5042                    86.0      85222.0                      Documentary   \n",
       "\n",
       "      ... num_user_for_reviews language  country  content_rating       budget  \\\n",
       "0     ...               3054.0  English      USA           PG-13  237000000.0   \n",
       "1     ...               1238.0  English      USA           PG-13  300000000.0   \n",
       "2     ...                994.0  English       UK           PG-13  245000000.0   \n",
       "3     ...               2701.0  English      USA           PG-13  250000000.0   \n",
       "4     ...                  NaN      NaN      NaN             NaN          NaN   \n",
       "...   ...                  ...      ...      ...             ...          ...   \n",
       "5038  ...                  6.0  English   Canada             NaN          NaN   \n",
       "5039  ...                359.0  English      USA           TV-14          NaN   \n",
       "5040  ...                  3.0  English      USA             NaN       1400.0   \n",
       "5041  ...                  9.0  English      USA           PG-13          NaN   \n",
       "5042  ...                 84.0  English      USA              PG       1100.0   \n",
       "\n",
       "      title_year actor_2_facebook_likes imdb_score  aspect_ratio  \\\n",
       "0         2009.0                  936.0        7.9          1.78   \n",
       "1         2007.0                 5000.0        7.1          2.35   \n",
       "2         2015.0                  393.0        6.8          2.35   \n",
       "3         2012.0                23000.0        8.5          2.35   \n",
       "4            NaN                   12.0        7.1           NaN   \n",
       "...          ...                    ...        ...           ...   \n",
       "5038      2013.0                  470.0        7.7           NaN   \n",
       "5039         NaN                  593.0        7.5         16.00   \n",
       "5040      2013.0                    0.0        6.3           NaN   \n",
       "5041      2012.0                  719.0        6.3          2.35   \n",
       "5042      2004.0                   23.0        6.6          1.85   \n",
       "\n",
       "     movie_facebook_likes  \n",
       "0                   33000  \n",
       "1                       0  \n",
       "2                   85000  \n",
       "3                  164000  \n",
       "4                       0  \n",
       "...                   ...  \n",
       "5038                   84  \n",
       "5039                32000  \n",
       "5040                   16  \n",
       "5041                  660  \n",
       "5042                  456  \n",
       "\n",
       "[5043 rows x 28 columns]"
      ]
     },
     "execution_count": 159,
     "metadata": {},
     "output_type": "execute_result"
    }
   ],
   "source": [
    "df"
   ]
  },
  {
   "cell_type": "markdown",
   "id": "a14af2d8",
   "metadata": {},
   "source": [
    "The `df` dataframe contains our original dataset with various movie attributes. We'll now explore this data further and combine it with the `director_best_scores` dataframe to gain insights into directors' best-rated films."
   ]
  },
  {
   "cell_type": "code",
   "execution_count": 160,
   "id": "fe92b80d",
   "metadata": {},
   "outputs": [
    {
     "data": {
      "text/html": [
       "<div>\n",
       "<style scoped>\n",
       "    .dataframe tbody tr th:only-of-type {\n",
       "        vertical-align: middle;\n",
       "    }\n",
       "\n",
       "    .dataframe tbody tr th {\n",
       "        vertical-align: top;\n",
       "    }\n",
       "\n",
       "    .dataframe thead th {\n",
       "        text-align: right;\n",
       "    }\n",
       "</style>\n",
       "<table border=\"1\" class=\"dataframe\">\n",
       "  <thead>\n",
       "    <tr style=\"text-align: right;\">\n",
       "      <th></th>\n",
       "      <th>director_name</th>\n",
       "      <th>imdb_score</th>\n",
       "    </tr>\n",
       "  </thead>\n",
       "  <tbody>\n",
       "    <tr>\n",
       "      <th>0</th>\n",
       "      <td>A. Raven Cruz</td>\n",
       "      <td>1.9</td>\n",
       "    </tr>\n",
       "    <tr>\n",
       "      <th>1</th>\n",
       "      <td>Aaron Hann</td>\n",
       "      <td>6.0</td>\n",
       "    </tr>\n",
       "    <tr>\n",
       "      <th>2</th>\n",
       "      <td>Aaron Schneider</td>\n",
       "      <td>7.1</td>\n",
       "    </tr>\n",
       "    <tr>\n",
       "      <th>3</th>\n",
       "      <td>Aaron Seltzer</td>\n",
       "      <td>2.7</td>\n",
       "    </tr>\n",
       "    <tr>\n",
       "      <th>4</th>\n",
       "      <td>Abel Ferrara</td>\n",
       "      <td>6.6</td>\n",
       "    </tr>\n",
       "    <tr>\n",
       "      <th>...</th>\n",
       "      <td>...</td>\n",
       "      <td>...</td>\n",
       "    </tr>\n",
       "    <tr>\n",
       "      <th>2393</th>\n",
       "      <td>Zoran Lisinac</td>\n",
       "      <td>7.1</td>\n",
       "    </tr>\n",
       "    <tr>\n",
       "      <th>2394</th>\n",
       "      <td>Álex de la Iglesia</td>\n",
       "      <td>6.1</td>\n",
       "    </tr>\n",
       "    <tr>\n",
       "      <th>2395</th>\n",
       "      <td>Émile Gaudreault</td>\n",
       "      <td>6.7</td>\n",
       "    </tr>\n",
       "    <tr>\n",
       "      <th>2396</th>\n",
       "      <td>Éric Tessier</td>\n",
       "      <td>6.6</td>\n",
       "    </tr>\n",
       "    <tr>\n",
       "      <th>2397</th>\n",
       "      <td>Étienne Faure</td>\n",
       "      <td>4.3</td>\n",
       "    </tr>\n",
       "  </tbody>\n",
       "</table>\n",
       "<p>2398 rows × 2 columns</p>\n",
       "</div>"
      ],
      "text/plain": [
       "           director_name  imdb_score\n",
       "0          A. Raven Cruz         1.9\n",
       "1             Aaron Hann         6.0\n",
       "2        Aaron Schneider         7.1\n",
       "3          Aaron Seltzer         2.7\n",
       "4           Abel Ferrara         6.6\n",
       "...                  ...         ...\n",
       "2393       Zoran Lisinac         7.1\n",
       "2394  Álex de la Iglesia         6.1\n",
       "2395    Émile Gaudreault         6.7\n",
       "2396        Éric Tessier         6.6\n",
       "2397       Étienne Faure         4.3\n",
       "\n",
       "[2398 rows x 2 columns]"
      ]
     },
     "execution_count": 160,
     "metadata": {},
     "output_type": "execute_result"
    }
   ],
   "source": [
    "director_best_scores"
   ]
  },
  {
   "cell_type": "markdown",
   "id": "f7517ff2",
   "metadata": {},
   "source": [
    "The `director_best_scores` dataframe shows each director's highest IMDb score. This condensed view allows for quick comparisons between directors based on their top-rated films."
   ]
  },
  {
   "cell_type": "code",
   "execution_count": 161,
   "id": "6c840055",
   "metadata": {},
   "outputs": [
    {
     "data": {
      "text/plain": [
       "Index(['color', 'director_name', 'num_critic_for_reviews', 'duration',\n",
       "       'director_facebook_likes', 'actor_3_facebook_likes', 'actor_2_name',\n",
       "       'actor_1_facebook_likes', 'gross', 'genres', 'actor_1_name',\n",
       "       'movie_title', 'num_voted_users', 'cast_total_facebook_likes',\n",
       "       'actor_3_name', 'facenumber_in_poster', 'plot_keywords',\n",
       "       'movie_imdb_link', 'num_user_for_reviews', 'language', 'country',\n",
       "       'content_rating', 'budget', 'title_year', 'actor_2_facebook_likes',\n",
       "       'imdb_score', 'aspect_ratio', 'movie_facebook_likes'],\n",
       "      dtype='object')"
      ]
     },
     "execution_count": 161,
     "metadata": {},
     "output_type": "execute_result"
    }
   ],
   "source": [
    "df.columns"
   ]
  },
  {
   "cell_type": "markdown",
   "id": "d23dde4f",
   "metadata": {},
   "source": [
    "Displaying `df.columns` gives us an overview of all available features in our dataset. Key columns include `director_name`, `imdb_score`, `gross`, `budget`, and `movie_title`, which are crucial for analyzing movie performance and reception."
   ]
  },
  {
   "cell_type": "code",
   "execution_count": 162,
   "id": "7dc379f2",
   "metadata": {},
   "outputs": [
    {
     "data": {
      "text/html": [
       "<div>\n",
       "<style scoped>\n",
       "    .dataframe tbody tr th:only-of-type {\n",
       "        vertical-align: middle;\n",
       "    }\n",
       "\n",
       "    .dataframe tbody tr th {\n",
       "        vertical-align: top;\n",
       "    }\n",
       "\n",
       "    .dataframe thead th {\n",
       "        text-align: right;\n",
       "    }\n",
       "</style>\n",
       "<table border=\"1\" class=\"dataframe\">\n",
       "  <thead>\n",
       "    <tr style=\"text-align: right;\">\n",
       "      <th></th>\n",
       "      <th>director_name</th>\n",
       "      <th>movie_title</th>\n",
       "      <th>title_year</th>\n",
       "      <th>imdb_score</th>\n",
       "      <th>best_imdb_score</th>\n",
       "    </tr>\n",
       "  </thead>\n",
       "  <tbody>\n",
       "    <tr>\n",
       "      <th>2712</th>\n",
       "      <td>John Blanchard</td>\n",
       "      <td>Towering Inferno</td>\n",
       "      <td>NaN</td>\n",
       "      <td>9.5</td>\n",
       "      <td>9.5</td>\n",
       "    </tr>\n",
       "    <tr>\n",
       "      <th>1902</th>\n",
       "      <td>Frank Darabont</td>\n",
       "      <td>The Shawshank Redemption</td>\n",
       "      <td>1994.0</td>\n",
       "      <td>9.3</td>\n",
       "      <td>9.3</td>\n",
       "    </tr>\n",
       "    <tr>\n",
       "      <th>3401</th>\n",
       "      <td>Francis Ford Coppola</td>\n",
       "      <td>The Godfather</td>\n",
       "      <td>1972.0</td>\n",
       "      <td>9.2</td>\n",
       "      <td>9.2</td>\n",
       "    </tr>\n",
       "    <tr>\n",
       "      <th>4315</th>\n",
       "      <td>John Stockwell</td>\n",
       "      <td>Kickboxer: Vengeance</td>\n",
       "      <td>2016.0</td>\n",
       "      <td>9.1</td>\n",
       "      <td>9.1</td>\n",
       "    </tr>\n",
       "    <tr>\n",
       "      <th>66</th>\n",
       "      <td>Christopher Nolan</td>\n",
       "      <td>The Dark Knight</td>\n",
       "      <td>2008.0</td>\n",
       "      <td>9.0</td>\n",
       "      <td>9.0</td>\n",
       "    </tr>\n",
       "    <tr>\n",
       "      <th>...</th>\n",
       "      <td>...</td>\n",
       "      <td>...</td>\n",
       "      <td>...</td>\n",
       "      <td>...</td>\n",
       "      <td>...</td>\n",
       "    </tr>\n",
       "    <tr>\n",
       "      <th>4669</th>\n",
       "      <td>Georgia Hilton</td>\n",
       "      <td>Subconscious</td>\n",
       "      <td>2015.0</td>\n",
       "      <td>2.2</td>\n",
       "      <td>2.2</td>\n",
       "    </tr>\n",
       "    <tr>\n",
       "      <th>3278</th>\n",
       "      <td>Vondie Curtis-Hall</td>\n",
       "      <td>Glitter</td>\n",
       "      <td>2001.0</td>\n",
       "      <td>2.1</td>\n",
       "      <td>2.1</td>\n",
       "    </tr>\n",
       "    <tr>\n",
       "      <th>1698</th>\n",
       "      <td>Frédéric Auburtin</td>\n",
       "      <td>United Passions</td>\n",
       "      <td>2014.0</td>\n",
       "      <td>2.0</td>\n",
       "      <td>2.0</td>\n",
       "    </tr>\n",
       "    <tr>\n",
       "      <th>4507</th>\n",
       "      <td>A. Raven Cruz</td>\n",
       "      <td>The Helix... Loaded</td>\n",
       "      <td>2005.0</td>\n",
       "      <td>1.9</td>\n",
       "      <td>1.9</td>\n",
       "    </tr>\n",
       "    <tr>\n",
       "      <th>1115</th>\n",
       "      <td>Lawrence Kasanoff</td>\n",
       "      <td>Foodfight!</td>\n",
       "      <td>2012.0</td>\n",
       "      <td>1.7</td>\n",
       "      <td>1.7</td>\n",
       "    </tr>\n",
       "  </tbody>\n",
       "</table>\n",
       "<p>2508 rows × 5 columns</p>\n",
       "</div>"
      ],
      "text/plain": [
       "             director_name               movie_title  title_year  imdb_score  \\\n",
       "2712        John Blanchard          Towering Inferno         NaN         9.5   \n",
       "1902        Frank Darabont  The Shawshank Redemption      1994.0         9.3   \n",
       "3401  Francis Ford Coppola             The Godfather      1972.0         9.2   \n",
       "4315        John Stockwell      Kickboxer: Vengeance      2016.0         9.1   \n",
       "66       Christopher Nolan           The Dark Knight      2008.0         9.0   \n",
       "...                    ...                       ...         ...         ...   \n",
       "4669        Georgia Hilton              Subconscious      2015.0         2.2   \n",
       "3278    Vondie Curtis-Hall                   Glitter      2001.0         2.1   \n",
       "1698     Frédéric Auburtin           United Passions      2014.0         2.0   \n",
       "4507         A. Raven Cruz       The Helix... Loaded      2005.0         1.9   \n",
       "1115     Lawrence Kasanoff                Foodfight!      2012.0         1.7   \n",
       "\n",
       "      best_imdb_score  \n",
       "2712              9.5  \n",
       "1902              9.3  \n",
       "3401              9.2  \n",
       "4315              9.1  \n",
       "66                9.0  \n",
       "...               ...  \n",
       "4669              2.2  \n",
       "3278              2.1  \n",
       "1698              2.0  \n",
       "4507              1.9  \n",
       "1115              1.7  \n",
       "\n",
       "[2508 rows x 5 columns]"
      ]
     },
     "execution_count": 162,
     "metadata": {},
     "output_type": "execute_result"
    }
   ],
   "source": [
    "df[[\"director_name\", \"movie_title\", \"title_year\", \"imdb_score\"]].merge(\n",
    "    director_best_scores.rename(columns={\"imdb_score\": \"best_imdb_score\"}),\n",
    "    on=\"director_name\",\n",
    ").query(\"imdb_score == best_imdb_score\").sort_values(\"imdb_score\", ascending=False)"
   ]
  },
  {
   "cell_type": "markdown",
   "id": "5ebcf5f9",
   "metadata": {},
   "source": [
    "This operation combines data from `df` and `director_best_scores` to create a view of directors' best-rated movies. It selects relevant columns, merges the dataframes on the `director_name` column, and filters for movies where the `imdb_score` matches the `best_imdb_score`. The result is sorted by `imdb_score` in descending order, effectively showing each director's top-rated film. This allows us to compare the most critically acclaimed works across different directors."
   ]
  },
  {
   "cell_type": "code",
   "execution_count": 163,
   "id": "7bf96a3f",
   "metadata": {},
   "outputs": [],
   "source": [
    "left = pd.DataFrame({\"x\": [\"a\", \"b\"], \"y\": [1, 2]})\n",
    "right = pd.DataFrame({\"x\": [\"a\", \"w\", \"a\"], \"u\": [1, 2, 3]})"
   ]
  },
  {
   "cell_type": "markdown",
   "id": "b103f8da",
   "metadata": {},
   "source": [
    "Here, we create two sample DataFrames, `left` and `right`, to demonstrate different types of joins in pandas. The `left` DataFrame has columns 'x' and 'y', while the `right` DataFrame has columns 'x' and 'u'. The 'x' column is common to both DataFrames and will serve as the key for joining operations. Notice that `right` has a duplicate value 'a' in the 'x' column, which will be important when we explore various join types."
   ]
  },
  {
   "cell_type": "code",
   "execution_count": 164,
   "id": "72b55d68",
   "metadata": {},
   "outputs": [
    {
     "data": {
      "text/html": [
       "<div>\n",
       "<style scoped>\n",
       "    .dataframe tbody tr th:only-of-type {\n",
       "        vertical-align: middle;\n",
       "    }\n",
       "\n",
       "    .dataframe tbody tr th {\n",
       "        vertical-align: top;\n",
       "    }\n",
       "\n",
       "    .dataframe thead th {\n",
       "        text-align: right;\n",
       "    }\n",
       "</style>\n",
       "<table border=\"1\" class=\"dataframe\">\n",
       "  <thead>\n",
       "    <tr style=\"text-align: right;\">\n",
       "      <th></th>\n",
       "      <th>x</th>\n",
       "      <th>y</th>\n",
       "    </tr>\n",
       "  </thead>\n",
       "  <tbody>\n",
       "    <tr>\n",
       "      <th>0</th>\n",
       "      <td>a</td>\n",
       "      <td>1</td>\n",
       "    </tr>\n",
       "    <tr>\n",
       "      <th>1</th>\n",
       "      <td>b</td>\n",
       "      <td>2</td>\n",
       "    </tr>\n",
       "  </tbody>\n",
       "</table>\n",
       "</div>"
      ],
      "text/plain": [
       "   x  y\n",
       "0  a  1\n",
       "1  b  2"
      ]
     },
     "execution_count": 164,
     "metadata": {},
     "output_type": "execute_result"
    }
   ],
   "source": [
    "left"
   ]
  },
  {
   "cell_type": "code",
   "execution_count": 165,
   "id": "acb2e0c3",
   "metadata": {},
   "outputs": [
    {
     "data": {
      "text/html": [
       "<div>\n",
       "<style scoped>\n",
       "    .dataframe tbody tr th:only-of-type {\n",
       "        vertical-align: middle;\n",
       "    }\n",
       "\n",
       "    .dataframe tbody tr th {\n",
       "        vertical-align: top;\n",
       "    }\n",
       "\n",
       "    .dataframe thead th {\n",
       "        text-align: right;\n",
       "    }\n",
       "</style>\n",
       "<table border=\"1\" class=\"dataframe\">\n",
       "  <thead>\n",
       "    <tr style=\"text-align: right;\">\n",
       "      <th></th>\n",
       "      <th>x</th>\n",
       "      <th>u</th>\n",
       "    </tr>\n",
       "  </thead>\n",
       "  <tbody>\n",
       "    <tr>\n",
       "      <th>0</th>\n",
       "      <td>a</td>\n",
       "      <td>1</td>\n",
       "    </tr>\n",
       "    <tr>\n",
       "      <th>1</th>\n",
       "      <td>w</td>\n",
       "      <td>2</td>\n",
       "    </tr>\n",
       "    <tr>\n",
       "      <th>2</th>\n",
       "      <td>a</td>\n",
       "      <td>3</td>\n",
       "    </tr>\n",
       "  </tbody>\n",
       "</table>\n",
       "</div>"
      ],
      "text/plain": [
       "   x  u\n",
       "0  a  1\n",
       "1  w  2\n",
       "2  a  3"
      ]
     },
     "execution_count": 165,
     "metadata": {},
     "output_type": "execute_result"
    }
   ],
   "source": [
    "right"
   ]
  },
  {
   "cell_type": "code",
   "execution_count": 166,
   "id": "2385bfdf",
   "metadata": {},
   "outputs": [
    {
     "data": {
      "text/html": [
       "<div>\n",
       "<style scoped>\n",
       "    .dataframe tbody tr th:only-of-type {\n",
       "        vertical-align: middle;\n",
       "    }\n",
       "\n",
       "    .dataframe tbody tr th {\n",
       "        vertical-align: top;\n",
       "    }\n",
       "\n",
       "    .dataframe thead th {\n",
       "        text-align: right;\n",
       "    }\n",
       "</style>\n",
       "<table border=\"1\" class=\"dataframe\">\n",
       "  <thead>\n",
       "    <tr style=\"text-align: right;\">\n",
       "      <th></th>\n",
       "      <th>x</th>\n",
       "      <th>y</th>\n",
       "      <th>u</th>\n",
       "    </tr>\n",
       "  </thead>\n",
       "  <tbody>\n",
       "    <tr>\n",
       "      <th>0</th>\n",
       "      <td>a</td>\n",
       "      <td>1</td>\n",
       "      <td>1.0</td>\n",
       "    </tr>\n",
       "    <tr>\n",
       "      <th>1</th>\n",
       "      <td>a</td>\n",
       "      <td>1</td>\n",
       "      <td>3.0</td>\n",
       "    </tr>\n",
       "    <tr>\n",
       "      <th>2</th>\n",
       "      <td>b</td>\n",
       "      <td>2</td>\n",
       "      <td>NaN</td>\n",
       "    </tr>\n",
       "  </tbody>\n",
       "</table>\n",
       "</div>"
      ],
      "text/plain": [
       "   x  y    u\n",
       "0  a  1  1.0\n",
       "1  a  1  3.0\n",
       "2  b  2  NaN"
      ]
     },
     "execution_count": 166,
     "metadata": {},
     "output_type": "execute_result"
    }
   ],
   "source": [
    "left.merge(right, on=\"x\", how=\"left\")"
   ]
  },
  {
   "cell_type": "markdown",
   "id": "48b8c578",
   "metadata": {},
   "source": [
    "The `merge` function is used to combine DataFrames. In this example, we perform a left join using `left.merge(right, on='x', how='left')`. The `on='x'` parameter specifies that we're joining on the 'x' column, and `how='left'` indicates a left join. This means all rows from the `left` DataFrame are included, and matching rows from the `right` DataFrame are added. When there's no match in `right`, NaN values are filled in.\n",
    "\n",
    "Notice how the result has two rows for 'a' because there were two matching rows in the `right` DataFrame. The 'b' row has NaN for 'u' because there was no matching 'b' in the `right` DataFrame. This demonstrates how left joins handle both one-to-many relationships and unmatched keys."
   ]
  },
  {
   "cell_type": "code",
   "execution_count": 167,
   "id": "9fbab369",
   "metadata": {},
   "outputs": [
    {
     "data": {
      "text/html": [
       "<div>\n",
       "<style scoped>\n",
       "    .dataframe tbody tr th:only-of-type {\n",
       "        vertical-align: middle;\n",
       "    }\n",
       "\n",
       "    .dataframe tbody tr th {\n",
       "        vertical-align: top;\n",
       "    }\n",
       "\n",
       "    .dataframe thead th {\n",
       "        text-align: right;\n",
       "    }\n",
       "</style>\n",
       "<table border=\"1\" class=\"dataframe\">\n",
       "  <thead>\n",
       "    <tr style=\"text-align: right;\">\n",
       "      <th></th>\n",
       "      <th>x</th>\n",
       "      <th>y</th>\n",
       "      <th>u</th>\n",
       "    </tr>\n",
       "  </thead>\n",
       "  <tbody>\n",
       "    <tr>\n",
       "      <th>0</th>\n",
       "      <td>a</td>\n",
       "      <td>1.0</td>\n",
       "      <td>1</td>\n",
       "    </tr>\n",
       "    <tr>\n",
       "      <th>1</th>\n",
       "      <td>w</td>\n",
       "      <td>NaN</td>\n",
       "      <td>2</td>\n",
       "    </tr>\n",
       "    <tr>\n",
       "      <th>2</th>\n",
       "      <td>a</td>\n",
       "      <td>1.0</td>\n",
       "      <td>3</td>\n",
       "    </tr>\n",
       "  </tbody>\n",
       "</table>\n",
       "</div>"
      ],
      "text/plain": [
       "   x    y  u\n",
       "0  a  1.0  1\n",
       "1  w  NaN  2\n",
       "2  a  1.0  3"
      ]
     },
     "execution_count": 167,
     "metadata": {},
     "output_type": "execute_result"
    }
   ],
   "source": [
    "left.merge(right, on=\"x\", how=\"right\")"
   ]
  },
  {
   "cell_type": "markdown",
   "id": "0bf10272",
   "metadata": {},
   "source": [
    "Now we perform a right join using `left.merge(right, on='x', how='right')`. This operation includes all rows from the `right` DataFrame and matching rows from the `left` DataFrame. Observe that the result includes all values from the `right` DataFrame, including the 'w' row which doesn't have a match in `left`. The 'y' column for this row contains NaN. Also, note that both 'a' rows from `right` are present, each matched with the single 'a' row from `left`. This illustrates how right joins handle unmatched keys and one-to-many relationships from the perspective of the right DataFrame."
   ]
  },
  {
   "cell_type": "code",
   "execution_count": 168,
   "id": "2f459123",
   "metadata": {},
   "outputs": [
    {
     "data": {
      "text/html": [
       "<div>\n",
       "<style scoped>\n",
       "    .dataframe tbody tr th:only-of-type {\n",
       "        vertical-align: middle;\n",
       "    }\n",
       "\n",
       "    .dataframe tbody tr th {\n",
       "        vertical-align: top;\n",
       "    }\n",
       "\n",
       "    .dataframe thead th {\n",
       "        text-align: right;\n",
       "    }\n",
       "</style>\n",
       "<table border=\"1\" class=\"dataframe\">\n",
       "  <thead>\n",
       "    <tr style=\"text-align: right;\">\n",
       "      <th></th>\n",
       "      <th>x</th>\n",
       "      <th>y</th>\n",
       "      <th>u</th>\n",
       "    </tr>\n",
       "  </thead>\n",
       "  <tbody>\n",
       "    <tr>\n",
       "      <th>0</th>\n",
       "      <td>a</td>\n",
       "      <td>1.0</td>\n",
       "      <td>1.0</td>\n",
       "    </tr>\n",
       "    <tr>\n",
       "      <th>1</th>\n",
       "      <td>a</td>\n",
       "      <td>1.0</td>\n",
       "      <td>3.0</td>\n",
       "    </tr>\n",
       "    <tr>\n",
       "      <th>2</th>\n",
       "      <td>b</td>\n",
       "      <td>2.0</td>\n",
       "      <td>NaN</td>\n",
       "    </tr>\n",
       "    <tr>\n",
       "      <th>3</th>\n",
       "      <td>w</td>\n",
       "      <td>NaN</td>\n",
       "      <td>2.0</td>\n",
       "    </tr>\n",
       "  </tbody>\n",
       "</table>\n",
       "</div>"
      ],
      "text/plain": [
       "   x    y    u\n",
       "0  a  1.0  1.0\n",
       "1  a  1.0  3.0\n",
       "2  b  2.0  NaN\n",
       "3  w  NaN  2.0"
      ]
     },
     "execution_count": 168,
     "metadata": {},
     "output_type": "execute_result"
    }
   ],
   "source": [
    "left.merge(right, on=\"x\", how=\"outer\")"
   ]
  },
  {
   "cell_type": "markdown",
   "id": "6a9b467a",
   "metadata": {},
   "source": [
    "Here, we perform an outer join using `left.merge(right, on='x', how='outer')`. An outer join includes all rows from both DataFrames, filling in NaN values where there are no matches. This result combines all unique keys from both DataFrames. Notice how it includes the 'b' row from `left` (with NaN for 'u') and the 'w' row from `right` (with NaN for 'y'). The 'a' rows appear twice due to the one-to-many relationship. Outer joins are useful when you want to see all data from both DataFrames, regardless of whether there are matches."
   ]
  },
  {
   "cell_type": "code",
   "execution_count": 169,
   "id": "82a1ce6e",
   "metadata": {},
   "outputs": [
    {
     "data": {
      "text/html": [
       "<div>\n",
       "<style scoped>\n",
       "    .dataframe tbody tr th:only-of-type {\n",
       "        vertical-align: middle;\n",
       "    }\n",
       "\n",
       "    .dataframe tbody tr th {\n",
       "        vertical-align: top;\n",
       "    }\n",
       "\n",
       "    .dataframe thead th {\n",
       "        text-align: right;\n",
       "    }\n",
       "</style>\n",
       "<table border=\"1\" class=\"dataframe\">\n",
       "  <thead>\n",
       "    <tr style=\"text-align: right;\">\n",
       "      <th></th>\n",
       "      <th>x_x</th>\n",
       "      <th>y</th>\n",
       "      <th>x_y</th>\n",
       "      <th>u</th>\n",
       "    </tr>\n",
       "  </thead>\n",
       "  <tbody>\n",
       "    <tr>\n",
       "      <th>0</th>\n",
       "      <td>a</td>\n",
       "      <td>1</td>\n",
       "      <td>a</td>\n",
       "      <td>1</td>\n",
       "    </tr>\n",
       "    <tr>\n",
       "      <th>1</th>\n",
       "      <td>a</td>\n",
       "      <td>1</td>\n",
       "      <td>w</td>\n",
       "      <td>2</td>\n",
       "    </tr>\n",
       "    <tr>\n",
       "      <th>2</th>\n",
       "      <td>a</td>\n",
       "      <td>1</td>\n",
       "      <td>a</td>\n",
       "      <td>3</td>\n",
       "    </tr>\n",
       "    <tr>\n",
       "      <th>3</th>\n",
       "      <td>b</td>\n",
       "      <td>2</td>\n",
       "      <td>a</td>\n",
       "      <td>1</td>\n",
       "    </tr>\n",
       "    <tr>\n",
       "      <th>4</th>\n",
       "      <td>b</td>\n",
       "      <td>2</td>\n",
       "      <td>w</td>\n",
       "      <td>2</td>\n",
       "    </tr>\n",
       "    <tr>\n",
       "      <th>5</th>\n",
       "      <td>b</td>\n",
       "      <td>2</td>\n",
       "      <td>a</td>\n",
       "      <td>3</td>\n",
       "    </tr>\n",
       "  </tbody>\n",
       "</table>\n",
       "</div>"
      ],
      "text/plain": [
       "  x_x  y x_y  u\n",
       "0   a  1   a  1\n",
       "1   a  1   w  2\n",
       "2   a  1   a  3\n",
       "3   b  2   a  1\n",
       "4   b  2   w  2\n",
       "5   b  2   a  3"
      ]
     },
     "execution_count": 169,
     "metadata": {},
     "output_type": "execute_result"
    }
   ],
   "source": [
    "left.merge(right, how=\"cross\")"
   ]
  },
  {
   "cell_type": "markdown",
   "id": "f1bdcefe",
   "metadata": {},
   "source": [
    "Lastly, we perform a cross join using `left.merge(right, how='cross')`. A cross join, also known as a Cartesian product, combines every row from the `left` DataFrame with every row from the `right` DataFrame. This results in a DataFrame with the number of rows equal to the product of the number of rows in both input DataFrames. Note how the column names are modified to avoid conflicts: 'x' becomes 'x_x' for the left DataFrame and 'x_y' for the right DataFrame. Cross joins can be useful in specific scenarios but should be used cautiously as they can result in very large datasets."
   ]
  },
  {
   "cell_type": "markdown",
   "id": "64bfad29",
   "metadata": {
    "lines_to_next_cell": 2
   },
   "source": [
    "That's all for today!"
   ]
  }
 ],
 "metadata": {
  "jupytext": {
   "cell_metadata_filter": "-all",
   "main_language": "python",
   "notebook_metadata_filter": "-all"
  },
  "kernelspec": {
   "display_name": "scientific-computing-2024-lesson01",
   "language": "python",
   "name": "python3"
  },
  "language_info": {
   "codemirror_mode": {
    "name": "ipython",
    "version": 3
   },
   "file_extension": ".py",
   "mimetype": "text/x-python",
   "name": "python",
   "nbconvert_exporter": "python",
   "pygments_lexer": "ipython3",
   "version": "3.11.9"
  }
 },
 "nbformat": 4,
 "nbformat_minor": 5
}
